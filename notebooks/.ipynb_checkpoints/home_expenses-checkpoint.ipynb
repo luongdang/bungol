{
 "cells": [
  {
   "cell_type": "code",
   "execution_count": 5,
   "metadata": {},
   "outputs": [],
   "source": [
    "import numpy as np\n",
    "import pandas as pd\n",
    "import os\n",
    "import glob"
   ]
  },
  {
   "cell_type": "code",
   "execution_count": 6,
   "metadata": {},
   "outputs": [],
   "source": [
    "subdir = 'data'\n",
    "globPattern = os.path.join(subdir, '*.csv')\n",
    "columnNames = ['Date', 'Payee', 'Debit', 'Credit', 'Balance']"
   ]
  },
  {
   "cell_type": "markdown",
   "metadata": {},
   "source": [
    "# Rename CSV files"
   ]
  },
  {
   "cell_type": "code",
   "execution_count": 7,
   "metadata": {},
   "outputs": [],
   "source": [
    "for file in glob.iglob(globPattern):   \n",
    "    df = pd.read_csv(file, names=columnNames, header=None)\n",
    "    month = pd.Timestamp(df['Date'].iloc[0])\n",
    "    newFile = os.path.join(subdir, f'accountactivity_{month:%Y-%m}.csv')\n",
    "    os.rename(file, newFile)"
   ]
  },
  {
   "cell_type": "markdown",
   "metadata": {},
   "source": [
    "# Process the data"
   ]
  },
  {
   "cell_type": "code",
   "execution_count": 8,
   "metadata": {},
   "outputs": [],
   "source": [
    "df = []\n",
    "\n",
    "csvFiles = glob.glob(globPattern)\n",
    "csvFiles.sort()\n",
    "for file in csvFiles:\n",
    "    df.append(pd.read_csv(file, names=columnNames, header=None))\n",
    "    \n",
    "df = pd.concat(df).reset_index(drop=True)\n",
    "df['Date'] = pd.to_datetime(df['Date'])\n",
    "df['Amount'] = -df['Debit'].combine_first(-df['Credit'])\n",
    "\n",
    "df = df[['Date', 'Payee', 'Amount']]"
   ]
  },
  {
   "cell_type": "code",
   "execution_count": 9,
   "metadata": {},
   "outputs": [],
   "source": [
    "def categorizer(row) -> str:\n",
    "    payee = row['Payee'].upper()\n",
    "    categories = {\n",
    "        'TOR HYD ELEC': 'Hydro',\n",
    "        'TOR UTILITY': 'Water',\n",
    "        'TORONTO TAX': 'Property Tax',\n",
    "        'WAWANESA INS': 'Insurance',\n",
    "        'ENBRIDGE': 'Heat'\n",
    "    }\n",
    "    for key, value in categories.items():\n",
    "        if payee.startswith(key):\n",
    "            return value\n",
    "    return ''\n",
    "\n",
    "df['Category'] = df.apply(categorizer, axis=1)"
   ]
  },
  {
   "cell_type": "code",
   "execution_count": 10,
   "metadata": {},
   "outputs": [
    {
     "data": {
      "text/html": [
       "<div>\n",
       "<style scoped>\n",
       "    .dataframe tbody tr th:only-of-type {\n",
       "        vertical-align: middle;\n",
       "    }\n",
       "\n",
       "    .dataframe tbody tr th {\n",
       "        vertical-align: top;\n",
       "    }\n",
       "\n",
       "    .dataframe thead th {\n",
       "        text-align: right;\n",
       "    }\n",
       "</style>\n",
       "<table border=\"1\" class=\"dataframe\">\n",
       "  <thead>\n",
       "    <tr style=\"text-align: right;\">\n",
       "      <th></th>\n",
       "      <th>Date</th>\n",
       "      <th>Payee</th>\n",
       "      <th>Amount</th>\n",
       "      <th>Category</th>\n",
       "    </tr>\n",
       "  </thead>\n",
       "  <tbody>\n",
       "    <tr>\n",
       "      <th>19</th>\n",
       "      <td>2018-01-29</td>\n",
       "      <td>TORONTO TAX  K7R6J9</td>\n",
       "      <td>-1417.58</td>\n",
       "      <td>Property Tax</td>\n",
       "    </tr>\n",
       "    <tr>\n",
       "      <th>52</th>\n",
       "      <td>2018-06-07</td>\n",
       "      <td>TORONTO TAX  R6Q9H5</td>\n",
       "      <td>-1518.45</td>\n",
       "      <td>Property Tax</td>\n",
       "    </tr>\n",
       "    <tr>\n",
       "      <th>106</th>\n",
       "      <td>2019-02-11</td>\n",
       "      <td>TORONTO TAX  X5H8J5</td>\n",
       "      <td>-1468.02</td>\n",
       "      <td>Property Tax</td>\n",
       "    </tr>\n",
       "  </tbody>\n",
       "</table>\n",
       "</div>"
      ],
      "text/plain": [
       "          Date                 Payee   Amount      Category\n",
       "19  2018-01-29  TORONTO TAX  K7R6J9  -1417.58  Property Tax\n",
       "52  2018-06-07  TORONTO TAX  R6Q9H5  -1518.45  Property Tax\n",
       "106 2019-02-11  TORONTO TAX  X5H8J5  -1468.02  Property Tax"
      ]
     },
     "execution_count": 10,
     "metadata": {},
     "output_type": "execute_result"
    }
   ],
   "source": [
    "df.query('Category == \"Property Tax\"')"
   ]
  },
  {
   "cell_type": "markdown",
   "metadata": {},
   "source": [
    "# Analysis"
   ]
  },
  {
   "cell_type": "markdown",
   "metadata": {},
   "source": [
    "Last 12 months"
   ]
  },
  {
   "cell_type": "code",
   "execution_count": 12,
   "metadata": {},
   "outputs": [
    {
     "data": {
      "text/html": [
       "<style  type=\"text/css\" >\n",
       "</style><table id=\"T_6bafd3f6_ac1e_11e9_8a7b_a82066123e3c\" ><thead>    <tr>        <th class=\"blank level0\" ></th>        <th class=\"col_heading level0 col0\" >Yearly</th>        <th class=\"col_heading level0 col1\" >Monthly</th>    </tr>    <tr>        <th class=\"index_name level0\" >Category</th>        <th class=\"blank\" ></th>        <th class=\"blank\" ></th>    </tr></thead><tbody>\n",
       "                <tr>\n",
       "                        <th id=\"T_6bafd3f6_ac1e_11e9_8a7b_a82066123e3clevel0_row0\" class=\"row_heading level0 row0\" >Heat</th>\n",
       "                        <td id=\"T_6bafd3f6_ac1e_11e9_8a7b_a82066123e3crow0_col0\" class=\"data row0 col0\" >-1,725.64</td>\n",
       "                        <td id=\"T_6bafd3f6_ac1e_11e9_8a7b_a82066123e3crow0_col1\" class=\"data row0 col1\" >-95.87</td>\n",
       "            </tr>\n",
       "            <tr>\n",
       "                        <th id=\"T_6bafd3f6_ac1e_11e9_8a7b_a82066123e3clevel0_row1\" class=\"row_heading level0 row1\" >Hydro</th>\n",
       "                        <td id=\"T_6bafd3f6_ac1e_11e9_8a7b_a82066123e3crow1_col0\" class=\"data row1 col0\" >-1,570.13</td>\n",
       "                        <td id=\"T_6bafd3f6_ac1e_11e9_8a7b_a82066123e3crow1_col1\" class=\"data row1 col1\" >-87.23</td>\n",
       "            </tr>\n",
       "            <tr>\n",
       "                        <th id=\"T_6bafd3f6_ac1e_11e9_8a7b_a82066123e3clevel0_row2\" class=\"row_heading level0 row2\" >Insurance</th>\n",
       "                        <td id=\"T_6bafd3f6_ac1e_11e9_8a7b_a82066123e3crow2_col0\" class=\"data row2 col0\" >-1,146.96</td>\n",
       "                        <td id=\"T_6bafd3f6_ac1e_11e9_8a7b_a82066123e3crow2_col1\" class=\"data row2 col1\" >-63.72</td>\n",
       "            </tr>\n",
       "            <tr>\n",
       "                        <th id=\"T_6bafd3f6_ac1e_11e9_8a7b_a82066123e3clevel0_row3\" class=\"row_heading level0 row3\" >Property Tax</th>\n",
       "                        <td id=\"T_6bafd3f6_ac1e_11e9_8a7b_a82066123e3crow3_col0\" class=\"data row3 col0\" >-4,404.05</td>\n",
       "                        <td id=\"T_6bafd3f6_ac1e_11e9_8a7b_a82066123e3crow3_col1\" class=\"data row3 col1\" >-244.67</td>\n",
       "            </tr>\n",
       "            <tr>\n",
       "                        <th id=\"T_6bafd3f6_ac1e_11e9_8a7b_a82066123e3clevel0_row4\" class=\"row_heading level0 row4\" >Water</th>\n",
       "                        <td id=\"T_6bafd3f6_ac1e_11e9_8a7b_a82066123e3crow4_col0\" class=\"data row4 col0\" >-692.54</td>\n",
       "                        <td id=\"T_6bafd3f6_ac1e_11e9_8a7b_a82066123e3crow4_col1\" class=\"data row4 col1\" >-38.47</td>\n",
       "            </tr>\n",
       "            <tr>\n",
       "                        <th id=\"T_6bafd3f6_ac1e_11e9_8a7b_a82066123e3clevel0_row5\" class=\"row_heading level0 row5\" >Total</th>\n",
       "                        <td id=\"T_6bafd3f6_ac1e_11e9_8a7b_a82066123e3crow5_col0\" class=\"data row5 col0\" >-9,539.32</td>\n",
       "                        <td id=\"T_6bafd3f6_ac1e_11e9_8a7b_a82066123e3crow5_col1\" class=\"data row5 col1\" >-529.96</td>\n",
       "            </tr>\n",
       "    </tbody></table>"
      ],
      "text/plain": [
       "<pandas.io.formats.style.Styler at 0x11b9b11d0>"
      ]
     },
     "execution_count": 12,
     "metadata": {},
     "output_type": "execute_result"
    }
   ],
   "source": [
    "oneYearAgo = pd.Timestamp.now() - pd.offsets.DateOffset(months=18)\n",
    "cond = (df['Date'] >= oneYearAgo) & (df['Category'] != '')\n",
    "group = df[cond].groupby('Category')\n",
    "\n",
    "summary = group.sum().assign(\n",
    "    Yearly = lambda x: x['Amount'],\n",
    "    Monthly = lambda x: x['Amount'] / 18\n",
    ")[['Yearly', 'Monthly']]\n",
    "\n",
    "total = summary.sum()\n",
    "total.name = 'Total'\n",
    "summary = summary.append(total)\n",
    "\n",
    "summary.style.format({\n",
    "    'Yearly': '{:,.2f}',\n",
    "    'Monthly': '{:,.2f}'\n",
    "})"
   ]
  },
  {
   "cell_type": "code",
   "execution_count": 9,
   "metadata": {},
   "outputs": [],
   "source": [
    "summary.to_excel('home_expenses.xlsx')"
   ]
  },
  {
   "cell_type": "code",
   "execution_count": null,
   "metadata": {},
   "outputs": [],
   "source": []
  }
 ],
 "metadata": {
  "kernelspec": {
   "display_name": "Python 3",
   "language": "python",
   "name": "python3"
  },
  "language_info": {
   "codemirror_mode": {
    "name": "ipython",
    "version": 3
   },
   "file_extension": ".py",
   "mimetype": "text/x-python",
   "name": "python",
   "nbconvert_exporter": "python",
   "pygments_lexer": "ipython3",
   "version": "3.7.3"
  }
 },
 "nbformat": 4,
 "nbformat_minor": 2
}
