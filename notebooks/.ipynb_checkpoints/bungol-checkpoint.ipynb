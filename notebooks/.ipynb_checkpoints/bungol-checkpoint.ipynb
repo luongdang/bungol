{
 "cells": [
  {
   "cell_type": "code",
   "execution_count": 22,
   "metadata": {},
   "outputs": [],
   "source": [
    "import numpy as np\n",
    "import pandas as pd\n",
    "import requests\n",
    "from bs4 import BeautifulSoup\n",
    "from time import sleep\n",
    "import sys\n",
    "import re\n",
    "import os\n",
    "\n",
    "from selenium import webdriver\n",
    "from selenium.webdriver.common.action_chains import ActionChains\n",
    "from selenium.webdriver.common.keys import Keys\n",
    "from selenium.webdriver.support.ui import WebDriverWait\n",
    "from selenium.webdriver.support import expected_conditions as EC\n",
    "from selenium.webdriver.common.by import By"
   ]
  },
  {
   "cell_type": "markdown",
   "metadata": {},
   "source": [
    "# Start up"
   ]
  },
  {
   "cell_type": "code",
   "execution_count": 2,
   "metadata": {},
   "outputs": [],
   "source": [
    "if sys.platform == 'darwin':\n",
    "    driver = webdriver.Chrome('../webdriver/chromedriver_mac')\n",
    "elif sys.platform == 'win32':\n",
    "    driver = webdriver.Chrome('../webdriver/chromedriver_win.exe')"
   ]
  },
  {
   "cell_type": "code",
   "execution_count": 3,
   "metadata": {},
   "outputs": [],
   "source": [
    "driver.get('https://bungol.ca')"
   ]
  },
  {
   "cell_type": "code",
   "execution_count": 4,
   "metadata": {},
   "outputs": [],
   "source": [
    "login = driver.find_element_by_link_text('Login/Signup')\n",
    "login.click()\n",
    "\n",
    "username = driver.find_element_by_name('username')\n",
    "password = driver.find_element_by_name('password')\n",
    "\n",
    "username.send_keys('scottw')\n",
    "password.send_keys('zojzes-dycpoQ-2nidwy')\n",
    "password.send_keys(Keys.RETURN)"
   ]
  },
  {
   "cell_type": "markdown",
   "metadata": {},
   "source": [
    "# Gather properties"
   ]
  },
  {
   "cell_type": "markdown",
   "metadata": {},
   "source": [
    "Choose an area and set filter conditions in bungol before you run the cells below"
   ]
  },
  {
   "cell_type": "code",
   "execution_count": 119,
   "metadata": {},
   "outputs": [],
   "source": [
    "urls = []\n",
    "\n",
    "leftSidebarClose = driver.find_element_by_id('leftSidebarClose')\n",
    "if not ('leftSidebarClosed' in leftSidebarClose.get_attribute('class')):\n",
    "    leftSidebarClose.click()\n",
    "\n",
    "icons = driver.find_elements_by_css_selector('div.leaflet-marker-icon')\n",
    "for icon in icons:\n",
    "    actions = ActionChains(driver)\n",
    "    actions.move_to_element(icon).perform()\n",
    "    sleep(1)\n",
    "\n",
    "    popup = driver.find_element_by_id('popup')\n",
    "    urls += [a.get_attribute('href') for a in popup.find_elements_by_tag_name('a')]\n",
    "    \n",
    "    # Clear the popup\n",
    "    driver.execute_script('arguments[0].innerHTML = \"\"', popup)"
   ]
  },
  {
   "cell_type": "code",
   "execution_count": 120,
   "metadata": {},
   "outputs": [
    {
     "data": {
      "text/plain": [
       "16"
      ]
     },
     "execution_count": 120,
     "metadata": {},
     "output_type": "execute_result"
    }
   ],
   "source": [
    "len(urls)"
   ]
  },
  {
   "cell_type": "code",
   "execution_count": 121,
   "metadata": {},
   "outputs": [
    {
     "name": "stdout",
     "output_type": "stream",
     "text": [
      "10 / 16\n"
     ]
    }
   ],
   "source": [
    "details = []\n",
    "\n",
    "for i, url in enumerate(urls):\n",
    "    if i % 10 == 0 and i > 0:\n",
    "        print(f'{i} / {len(urls)}')\n",
    "        \n",
    "    driver.get(url)\n",
    "    driver.find_element_by_link_text('Community').click()\n",
    "    wait = WebDriverWait(driver, 5, poll_frequency=1)\n",
    "    wait.until(EC.text_to_be_present_in_element((By.ID, 'listingCommunityAverageIncome'), ','))\n",
    "    \n",
    "    soup = BeautifulSoup(driver.page_source)\n",
    "    s = pd.Series()\n",
    "\n",
    "    # Variables whose format is <div id=\"#...\">value</div>\n",
    "    info = {\n",
    "        'Address': '#listingAddress',\n",
    "        'PropertyType': '#listingPropertyType',\n",
    "        'AvgHouseholdIncome': '#listingCommunityAverageIncome',\n",
    "        'AvgHouseholdSize': '#listingCommunityHouseholdSize'\n",
    "    }\n",
    "    \n",
    "    for variable, selector in info.items():\n",
    "        value = soup.select(selector)[0].get_text()\n",
    "        s[variable] = value\n",
    "\n",
    "    # Variables whose format is <div id=\"#...\">label: value</div>\n",
    "    info = {\n",
    "        'ListPrice': '#listingListPrice',\n",
    "        'ListingDate': '#listingContractDate',\n",
    "        'SoldDate': '#listingEndDate',\n",
    "        'SquareFootage': '#listingSummarySqFt',\n",
    "        'MaintenanceFee': '#listingSummaryMaintenanceFees',\n",
    "        'PropertyTax': '#listingSummaryTaxes',\n",
    "    }\n",
    "\n",
    "    for variable, selector in info.items():\n",
    "        tmp = soup.select(selector)[0].get_text().split(':')\n",
    "        value = tmp[1] if len(tmp) == 2 else None\n",
    "        s[variable] = value\n",
    "\n",
    "    # Some special cases\n",
    "    tmp = soup.select('#listingStatus')[0].get_text().split(' - ')\n",
    "    s['Status'], s['Price'] = tmp if len(tmp) == 2 else (tmp[0], None)\n",
    "\n",
    "    tmp = soup.select('#listingBedBath')[0].get_text().split('|')\n",
    "    s['Bedrooms'], s['Bathrooms'], s['ParkingSpots'] = tmp if len(tmp) == 3 else (None, None, None)\n",
    "    \n",
    "    s = s.str.strip()\n",
    "    \n",
    "    # Monthly expense and condo fees, if applicable\n",
    "    expenses = pd.Series({\n",
    "        'Water': 38.47,\n",
    "        'Heat': 104.9,\n",
    "        'Insurance': 63.72,\n",
    "        'CAC': 0,             # included in hydro\n",
    "        'Hydro': 98.46,\n",
    "        'Parking': 200\n",
    "    })\n",
    "    \n",
    "    if driver.find_element_by_id('listingCondoFeesTable') is None:\n",
    "        s['IsTaxesIncluded'] = False\n",
    "        expenses['Parking'] = 0\n",
    "    else:\n",
    "        for item in ['Water', 'Heat', 'Insurance', 'CAC', 'Hydro', 'Parking', 'Taxes']:\n",
    "            tmp = driver.find_element_by_id(f'listingCondoFeesTable{item}')\n",
    "            isCovered = 'bg-success' in tmp.get_attribute('class')\n",
    "\n",
    "            if item == 'Taxes':\n",
    "                s['IsTaxesIncluded'] = isCovered\n",
    "            elif isCovered:\n",
    "                expenses[item] = 0\n",
    "\n",
    "    s['UncoveredExpenses'] = expenses.sum()\n",
    "    s['URL'] = url\n",
    "    details.append(s)"
   ]
  },
  {
   "cell_type": "code",
   "execution_count": 122,
   "metadata": {},
   "outputs": [],
   "source": [
    "df = pd.DataFrame(details)"
   ]
  },
  {
   "cell_type": "code",
   "execution_count": 123,
   "metadata": {},
   "outputs": [],
   "source": [
    "s = df['Address'].str.extract(r'(.\\d+) - (\\d.+)', expand=True)\n",
    "s.columns = ['Unit', 'Address']\n",
    "\n",
    "df['Unit'] = s['Unit'].fillna('')\n",
    "df['Address'] = s['Address'].combine_first(df['Address'])"
   ]
  },
  {
   "cell_type": "code",
   "execution_count": 124,
   "metadata": {},
   "outputs": [],
   "source": [
    "df['PropertyType'] = df['PropertyType'].map({\n",
    "    'Condo Apartment': 'Condo',\n",
    "    'Townhouse (Condo)': 'Townhouse',\n",
    "    'Detached House': 'Detached'\n",
    "})"
   ]
  },
  {
   "cell_type": "code",
   "execution_count": 125,
   "metadata": {},
   "outputs": [],
   "source": [
    "cols = ['ListingDate', 'SoldDate']\n",
    "df[cols] = df[cols].apply(pd.to_datetime, axis=1)\n",
    "df['DaysOnMarket'] = (df['SoldDate'] - df['ListingDate']) / pd.Timedelta(days=1)"
   ]
  },
  {
   "cell_type": "code",
   "execution_count": 126,
   "metadata": {},
   "outputs": [],
   "source": [
    "cols = ['ListPrice', 'Price', 'MaintenanceFee', 'PropertyTax', 'AvgHouseholdIncome', 'AvgHouseholdSize']\n",
    "df[cols] = df[cols].apply(lambda col: col.str.replace(r'[^0-9\\.]', '')).apply(pd.to_numeric)"
   ]
  },
  {
   "cell_type": "code",
   "execution_count": 127,
   "metadata": {},
   "outputs": [],
   "source": [
    "df['AvgPersonalIncome'] = df['AvgHouseholdIncome'] / df['AvgHouseholdSize']"
   ]
  },
  {
   "cell_type": "markdown",
   "metadata": {},
   "source": [
    "The reported tax on the listing tends to be lower than it really is. We take the *greater* of the reported property tax and Toronto's property tax rate of 0.51%."
   ]
  },
  {
   "cell_type": "code",
   "execution_count": 128,
   "metadata": {},
   "outputs": [],
   "source": [
    "df['PropertyTax'] = pd.DataFrame({\n",
    "    'ReportedTax': df['PropertyTax'],\n",
    "    'CalculatedTax': df['ListPrice'] * 0.0051 / 12\n",
    "}).max(axis=1)"
   ]
  },
  {
   "cell_type": "code",
   "execution_count": 129,
   "metadata": {},
   "outputs": [],
   "source": [
    "df['MonthlyExpenses'] = df['MaintenanceFee'].fillna(0) + df['UncoveredExpenses'].fillna(0)\n",
    "\n",
    "cond = df['IsTaxesIncluded'] == False\n",
    "df.loc[cond, 'MonthlyExpenses'] += df.loc[cond, 'PropertyTax']"
   ]
  },
  {
   "cell_type": "code",
   "execution_count": 130,
   "metadata": {},
   "outputs": [],
   "source": [
    "df['Bedrooms'] = df['Bedrooms'].apply(eval)\n",
    "\n",
    "cols = ['Bathrooms', 'ParkingSpots']\n",
    "df[cols] = df[cols].apply(pd.to_numeric)"
   ]
  },
  {
   "cell_type": "code",
   "execution_count": 131,
   "metadata": {},
   "outputs": [
    {
     "data": {
      "text/html": [
       "<style  type=\"text/css\" >\n",
       "</style><table id=\"T_92a490b8_af1d_11e9_a6f4_b8763fda58c1\" ><thead>    <tr>        <th class=\"blank level0\" ></th>        <th class=\"col_heading level0 col0\" >PropertyType</th>        <th class=\"col_heading level0 col1\" >Unit</th>        <th class=\"col_heading level0 col2\" >Address</th>        <th class=\"col_heading level0 col3\" >Status</th>        <th class=\"col_heading level0 col4\" >SquareFootage</th>        <th class=\"col_heading level0 col5\" >ListPrice</th>        <th class=\"col_heading level0 col6\" >MonthlyExpenses</th>        <th class=\"col_heading level0 col7\" >Bedrooms</th>        <th class=\"col_heading level0 col8\" >Bathrooms</th>        <th class=\"col_heading level0 col9\" >ParkingSpots</th>        <th class=\"col_heading level0 col10\" >URL</th>    </tr></thead><tbody>\n",
       "                <tr>\n",
       "                        <th id=\"T_92a490b8_af1d_11e9_a6f4_b8763fda58c1level0_row0\" class=\"row_heading level0 row0\" >0</th>\n",
       "                        <td id=\"T_92a490b8_af1d_11e9_a6f4_b8763fda58c1row0_col0\" class=\"data row0 col0\" >Condo</td>\n",
       "                        <td id=\"T_92a490b8_af1d_11e9_a6f4_b8763fda58c1row0_col1\" class=\"data row0 col1\" >#2812</td>\n",
       "                        <td id=\"T_92a490b8_af1d_11e9_a6f4_b8763fda58c1row0_col2\" class=\"data row0 col2\" >7895 Jane St, Vaughan</td>\n",
       "                        <td id=\"T_92a490b8_af1d_11e9_a6f4_b8763fda58c1row0_col3\" class=\"data row0 col3\" >Offer Pending</td>\n",
       "                        <td id=\"T_92a490b8_af1d_11e9_a6f4_b8763fda58c1row0_col4\" class=\"data row0 col4\" >500-599</td>\n",
       "                        <td id=\"T_92a490b8_af1d_11e9_a6f4_b8763fda58c1row0_col5\" class=\"data row0 col5\" >429,900</td>\n",
       "                        <td id=\"T_92a490b8_af1d_11e9_a6f4_b8763fda58c1row0_col6\" class=\"data row0 col6\" >320</td>\n",
       "                        <td id=\"T_92a490b8_af1d_11e9_a6f4_b8763fda58c1row0_col7\" class=\"data row0 col7\" >2</td>\n",
       "                        <td id=\"T_92a490b8_af1d_11e9_a6f4_b8763fda58c1row0_col8\" class=\"data row0 col8\" >1</td>\n",
       "                        <td id=\"T_92a490b8_af1d_11e9_a6f4_b8763fda58c1row0_col9\" class=\"data row0 col9\" >1</td>\n",
       "                        <td id=\"T_92a490b8_af1d_11e9_a6f4_b8763fda58c1row0_col10\" class=\"data row0 col10\" ><a target=\"_blank\" href=\"https://bungol.ca/listing/7895-jane-street-vaughan-N4501276-3877022\">Link</a></td>\n",
       "            </tr>\n",
       "            <tr>\n",
       "                        <th id=\"T_92a490b8_af1d_11e9_a6f4_b8763fda58c1level0_row1\" class=\"row_heading level0 row1\" >1</th>\n",
       "                        <td id=\"T_92a490b8_af1d_11e9_a6f4_b8763fda58c1row1_col0\" class=\"data row1 col0\" >Condo</td>\n",
       "                        <td id=\"T_92a490b8_af1d_11e9_a6f4_b8763fda58c1row1_col1\" class=\"data row1 col1\" >#1913</td>\n",
       "                        <td id=\"T_92a490b8_af1d_11e9_a6f4_b8763fda58c1row1_col2\" class=\"data row1 col2\" >7895 Jane St, Vaughan</td>\n",
       "                        <td id=\"T_92a490b8_af1d_11e9_a6f4_b8763fda58c1row1_col3\" class=\"data row1 col3\" >For Sale</td>\n",
       "                        <td id=\"T_92a490b8_af1d_11e9_a6f4_b8763fda58c1row1_col4\" class=\"data row1 col4\" >600-699</td>\n",
       "                        <td id=\"T_92a490b8_af1d_11e9_a6f4_b8763fda58c1row1_col5\" class=\"data row1 col5\" >550,000</td>\n",
       "                        <td id=\"T_92a490b8_af1d_11e9_a6f4_b8763fda58c1row1_col6\" class=\"data row1 col6\" >371</td>\n",
       "                        <td id=\"T_92a490b8_af1d_11e9_a6f4_b8763fda58c1row1_col7\" class=\"data row1 col7\" >2</td>\n",
       "                        <td id=\"T_92a490b8_af1d_11e9_a6f4_b8763fda58c1row1_col8\" class=\"data row1 col8\" >2</td>\n",
       "                        <td id=\"T_92a490b8_af1d_11e9_a6f4_b8763fda58c1row1_col9\" class=\"data row1 col9\" >1</td>\n",
       "                        <td id=\"T_92a490b8_af1d_11e9_a6f4_b8763fda58c1row1_col10\" class=\"data row1 col10\" ><a target=\"_blank\" href=\"https://bungol.ca/listing/7895-jane-street-vaughan-N4403996-3788090\">Link</a></td>\n",
       "            </tr>\n",
       "            <tr>\n",
       "                        <th id=\"T_92a490b8_af1d_11e9_a6f4_b8763fda58c1level0_row2\" class=\"row_heading level0 row2\" >2</th>\n",
       "                        <td id=\"T_92a490b8_af1d_11e9_a6f4_b8763fda58c1row2_col0\" class=\"data row2 col0\" >Condo</td>\n",
       "                        <td id=\"T_92a490b8_af1d_11e9_a6f4_b8763fda58c1row2_col1\" class=\"data row2 col1\" >#307</td>\n",
       "                        <td id=\"T_92a490b8_af1d_11e9_a6f4_b8763fda58c1row2_col2\" class=\"data row2 col2\" >3600 Highway 7 Rd, Vaughan</td>\n",
       "                        <td id=\"T_92a490b8_af1d_11e9_a6f4_b8763fda58c1row2_col3\" class=\"data row2 col3\" >Offer Pending</td>\n",
       "                        <td id=\"T_92a490b8_af1d_11e9_a6f4_b8763fda58c1row2_col4\" class=\"data row2 col4\" >600-699</td>\n",
       "                        <td id=\"T_92a490b8_af1d_11e9_a6f4_b8763fda58c1row2_col5\" class=\"data row2 col5\" >509,000</td>\n",
       "                        <td id=\"T_92a490b8_af1d_11e9_a6f4_b8763fda58c1row2_col6\" class=\"data row2 col6\" >810</td>\n",
       "                        <td id=\"T_92a490b8_af1d_11e9_a6f4_b8763fda58c1row2_col7\" class=\"data row2 col7\" >2</td>\n",
       "                        <td id=\"T_92a490b8_af1d_11e9_a6f4_b8763fda58c1row2_col8\" class=\"data row2 col8\" >1</td>\n",
       "                        <td id=\"T_92a490b8_af1d_11e9_a6f4_b8763fda58c1row2_col9\" class=\"data row2 col9\" >1</td>\n",
       "                        <td id=\"T_92a490b8_af1d_11e9_a6f4_b8763fda58c1row2_col10\" class=\"data row2 col10\" ><a target=\"_blank\" href=\"https://bungol.ca/listing/3600-highway-7-road-vaughan-N4518225-3892497\">Link</a></td>\n",
       "            </tr>\n",
       "            <tr>\n",
       "                        <th id=\"T_92a490b8_af1d_11e9_a6f4_b8763fda58c1level0_row3\" class=\"row_heading level0 row3\" >3</th>\n",
       "                        <td id=\"T_92a490b8_af1d_11e9_a6f4_b8763fda58c1row3_col0\" class=\"data row3 col0\" >Condo</td>\n",
       "                        <td id=\"T_92a490b8_af1d_11e9_a6f4_b8763fda58c1row3_col1\" class=\"data row3 col1\" >#2505</td>\n",
       "                        <td id=\"T_92a490b8_af1d_11e9_a6f4_b8763fda58c1row3_col2\" class=\"data row3 col2\" >3600 Highway 7, Vaughan</td>\n",
       "                        <td id=\"T_92a490b8_af1d_11e9_a6f4_b8763fda58c1row3_col3\" class=\"data row3 col3\" >For Sale</td>\n",
       "                        <td id=\"T_92a490b8_af1d_11e9_a6f4_b8763fda58c1row3_col4\" class=\"data row3 col4\" >800-899</td>\n",
       "                        <td id=\"T_92a490b8_af1d_11e9_a6f4_b8763fda58c1row3_col5\" class=\"data row3 col5\" >594,990</td>\n",
       "                        <td id=\"T_92a490b8_af1d_11e9_a6f4_b8763fda58c1row3_col6\" class=\"data row3 col6\" >844</td>\n",
       "                        <td id=\"T_92a490b8_af1d_11e9_a6f4_b8763fda58c1row3_col7\" class=\"data row3 col7\" >2</td>\n",
       "                        <td id=\"T_92a490b8_af1d_11e9_a6f4_b8763fda58c1row3_col8\" class=\"data row3 col8\" >2</td>\n",
       "                        <td id=\"T_92a490b8_af1d_11e9_a6f4_b8763fda58c1row3_col9\" class=\"data row3 col9\" >1</td>\n",
       "                        <td id=\"T_92a490b8_af1d_11e9_a6f4_b8763fda58c1row3_col10\" class=\"data row3 col10\" ><a target=\"_blank\" href=\"https://bungol.ca/listing/3600-highway-7-vaughan-N4525599-3899209\">Link</a></td>\n",
       "            </tr>\n",
       "            <tr>\n",
       "                        <th id=\"T_92a490b8_af1d_11e9_a6f4_b8763fda58c1level0_row4\" class=\"row_heading level0 row4\" >4</th>\n",
       "                        <td id=\"T_92a490b8_af1d_11e9_a6f4_b8763fda58c1row4_col0\" class=\"data row4 col0\" >Condo</td>\n",
       "                        <td id=\"T_92a490b8_af1d_11e9_a6f4_b8763fda58c1row4_col1\" class=\"data row4 col1\" >#2902</td>\n",
       "                        <td id=\"T_92a490b8_af1d_11e9_a6f4_b8763fda58c1row4_col2\" class=\"data row4 col2\" >3700 Highway 7 Rd, Vaughan</td>\n",
       "                        <td id=\"T_92a490b8_af1d_11e9_a6f4_b8763fda58c1row4_col3\" class=\"data row4 col3\" >For Sale</td>\n",
       "                        <td id=\"T_92a490b8_af1d_11e9_a6f4_b8763fda58c1row4_col4\" class=\"data row4 col4\" >800-899</td>\n",
       "                        <td id=\"T_92a490b8_af1d_11e9_a6f4_b8763fda58c1row4_col5\" class=\"data row4 col5\" >599,999</td>\n",
       "                        <td id=\"T_92a490b8_af1d_11e9_a6f4_b8763fda58c1row4_col6\" class=\"data row4 col6\" >852</td>\n",
       "                        <td id=\"T_92a490b8_af1d_11e9_a6f4_b8763fda58c1row4_col7\" class=\"data row4 col7\" >2</td>\n",
       "                        <td id=\"T_92a490b8_af1d_11e9_a6f4_b8763fda58c1row4_col8\" class=\"data row4 col8\" >2</td>\n",
       "                        <td id=\"T_92a490b8_af1d_11e9_a6f4_b8763fda58c1row4_col9\" class=\"data row4 col9\" >1</td>\n",
       "                        <td id=\"T_92a490b8_af1d_11e9_a6f4_b8763fda58c1row4_col10\" class=\"data row4 col10\" ><a target=\"_blank\" href=\"https://bungol.ca/listing/3700-highway-7-road-vaughan-N4508685-3883757\">Link</a></td>\n",
       "            </tr>\n",
       "            <tr>\n",
       "                        <th id=\"T_92a490b8_af1d_11e9_a6f4_b8763fda58c1level0_row5\" class=\"row_heading level0 row5\" >5</th>\n",
       "                        <td id=\"T_92a490b8_af1d_11e9_a6f4_b8763fda58c1row5_col0\" class=\"data row5 col0\" >Condo</td>\n",
       "                        <td id=\"T_92a490b8_af1d_11e9_a6f4_b8763fda58c1row5_col1\" class=\"data row5 col1\" >#614</td>\n",
       "                        <td id=\"T_92a490b8_af1d_11e9_a6f4_b8763fda58c1row5_col2\" class=\"data row5 col2\" >7895 Jane St, Vaughan</td>\n",
       "                        <td id=\"T_92a490b8_af1d_11e9_a6f4_b8763fda58c1row5_col3\" class=\"data row5 col3\" >For Sale</td>\n",
       "                        <td id=\"T_92a490b8_af1d_11e9_a6f4_b8763fda58c1row5_col4\" class=\"data row5 col4\" >600-699</td>\n",
       "                        <td id=\"T_92a490b8_af1d_11e9_a6f4_b8763fda58c1row5_col5\" class=\"data row5 col5\" >530,000</td>\n",
       "                        <td id=\"T_92a490b8_af1d_11e9_a6f4_b8763fda58c1row5_col6\" class=\"data row5 col6\" >853</td>\n",
       "                        <td id=\"T_92a490b8_af1d_11e9_a6f4_b8763fda58c1row5_col7\" class=\"data row5 col7\" >2</td>\n",
       "                        <td id=\"T_92a490b8_af1d_11e9_a6f4_b8763fda58c1row5_col8\" class=\"data row5 col8\" >2</td>\n",
       "                        <td id=\"T_92a490b8_af1d_11e9_a6f4_b8763fda58c1row5_col9\" class=\"data row5 col9\" >1</td>\n",
       "                        <td id=\"T_92a490b8_af1d_11e9_a6f4_b8763fda58c1row5_col10\" class=\"data row5 col10\" ><a target=\"_blank\" href=\"https://bungol.ca/listing/7895-jane-street-vaughan-N4347774-3738234\">Link</a></td>\n",
       "            </tr>\n",
       "            <tr>\n",
       "                        <th id=\"T_92a490b8_af1d_11e9_a6f4_b8763fda58c1level0_row6\" class=\"row_heading level0 row6\" >6</th>\n",
       "                        <td id=\"T_92a490b8_af1d_11e9_a6f4_b8763fda58c1row6_col0\" class=\"data row6 col0\" >Condo</td>\n",
       "                        <td id=\"T_92a490b8_af1d_11e9_a6f4_b8763fda58c1row6_col1\" class=\"data row6 col1\" >#402</td>\n",
       "                        <td id=\"T_92a490b8_af1d_11e9_a6f4_b8763fda58c1row6_col2\" class=\"data row6 col2\" >2900 Highway 7 Rd, Vaughan</td>\n",
       "                        <td id=\"T_92a490b8_af1d_11e9_a6f4_b8763fda58c1row6_col3\" class=\"data row6 col3\" >For Sale</td>\n",
       "                        <td id=\"T_92a490b8_af1d_11e9_a6f4_b8763fda58c1row6_col4\" class=\"data row6 col4\" >800-899</td>\n",
       "                        <td id=\"T_92a490b8_af1d_11e9_a6f4_b8763fda58c1row6_col5\" class=\"data row6 col5\" >549,900</td>\n",
       "                        <td id=\"T_92a490b8_af1d_11e9_a6f4_b8763fda58c1row6_col6\" class=\"data row6 col6\" >897</td>\n",
       "                        <td id=\"T_92a490b8_af1d_11e9_a6f4_b8763fda58c1row6_col7\" class=\"data row6 col7\" >2</td>\n",
       "                        <td id=\"T_92a490b8_af1d_11e9_a6f4_b8763fda58c1row6_col8\" class=\"data row6 col8\" >2</td>\n",
       "                        <td id=\"T_92a490b8_af1d_11e9_a6f4_b8763fda58c1row6_col9\" class=\"data row6 col9\" >1</td>\n",
       "                        <td id=\"T_92a490b8_af1d_11e9_a6f4_b8763fda58c1row6_col10\" class=\"data row6 col10\" ><a target=\"_blank\" href=\"https://bungol.ca/listing/2900-highway-7-road-vaughan-N4461971-3841045\">Link</a></td>\n",
       "            </tr>\n",
       "            <tr>\n",
       "                        <th id=\"T_92a490b8_af1d_11e9_a6f4_b8763fda58c1level0_row7\" class=\"row_heading level0 row7\" >7</th>\n",
       "                        <td id=\"T_92a490b8_af1d_11e9_a6f4_b8763fda58c1row7_col0\" class=\"data row7 col0\" >Condo</td>\n",
       "                        <td id=\"T_92a490b8_af1d_11e9_a6f4_b8763fda58c1row7_col1\" class=\"data row7 col1\" >#1002</td>\n",
       "                        <td id=\"T_92a490b8_af1d_11e9_a6f4_b8763fda58c1row7_col2\" class=\"data row7 col2\" >2910 Highway 7 Ave W, Vaughan</td>\n",
       "                        <td id=\"T_92a490b8_af1d_11e9_a6f4_b8763fda58c1row7_col3\" class=\"data row7 col3\" >For Sale</td>\n",
       "                        <td id=\"T_92a490b8_af1d_11e9_a6f4_b8763fda58c1row7_col4\" class=\"data row7 col4\" >800-899</td>\n",
       "                        <td id=\"T_92a490b8_af1d_11e9_a6f4_b8763fda58c1row7_col5\" class=\"data row7 col5\" >576,000</td>\n",
       "                        <td id=\"T_92a490b8_af1d_11e9_a6f4_b8763fda58c1row7_col6\" class=\"data row7 col6\" >914</td>\n",
       "                        <td id=\"T_92a490b8_af1d_11e9_a6f4_b8763fda58c1row7_col7\" class=\"data row7 col7\" >2</td>\n",
       "                        <td id=\"T_92a490b8_af1d_11e9_a6f4_b8763fda58c1row7_col8\" class=\"data row7 col8\" >2</td>\n",
       "                        <td id=\"T_92a490b8_af1d_11e9_a6f4_b8763fda58c1row7_col9\" class=\"data row7 col9\" >1</td>\n",
       "                        <td id=\"T_92a490b8_af1d_11e9_a6f4_b8763fda58c1row7_col10\" class=\"data row7 col10\" ><a target=\"_blank\" href=\"https://bungol.ca/listing/2910-highway-7-avenue-west-vaughan-N4486211-3863114\">Link</a></td>\n",
       "            </tr>\n",
       "            <tr>\n",
       "                        <th id=\"T_92a490b8_af1d_11e9_a6f4_b8763fda58c1level0_row8\" class=\"row_heading level0 row8\" >8</th>\n",
       "                        <td id=\"T_92a490b8_af1d_11e9_a6f4_b8763fda58c1row8_col0\" class=\"data row8 col0\" >Condo</td>\n",
       "                        <td id=\"T_92a490b8_af1d_11e9_a6f4_b8763fda58c1row8_col1\" class=\"data row8 col1\" >#419</td>\n",
       "                        <td id=\"T_92a490b8_af1d_11e9_a6f4_b8763fda58c1row8_col2\" class=\"data row8 col2\" >2910 Highway 7 Rd, Vaughan</td>\n",
       "                        <td id=\"T_92a490b8_af1d_11e9_a6f4_b8763fda58c1row8_col3\" class=\"data row8 col3\" >Offer Pending</td>\n",
       "                        <td id=\"T_92a490b8_af1d_11e9_a6f4_b8763fda58c1row8_col4\" class=\"data row8 col4\" >800-899</td>\n",
       "                        <td id=\"T_92a490b8_af1d_11e9_a6f4_b8763fda58c1row8_col5\" class=\"data row8 col5\" >529,000</td>\n",
       "                        <td id=\"T_92a490b8_af1d_11e9_a6f4_b8763fda58c1row8_col6\" class=\"data row8 col6\" >915</td>\n",
       "                        <td id=\"T_92a490b8_af1d_11e9_a6f4_b8763fda58c1row8_col7\" class=\"data row8 col7\" >2</td>\n",
       "                        <td id=\"T_92a490b8_af1d_11e9_a6f4_b8763fda58c1row8_col8\" class=\"data row8 col8\" >2</td>\n",
       "                        <td id=\"T_92a490b8_af1d_11e9_a6f4_b8763fda58c1row8_col9\" class=\"data row8 col9\" >1</td>\n",
       "                        <td id=\"T_92a490b8_af1d_11e9_a6f4_b8763fda58c1row8_col10\" class=\"data row8 col10\" ><a target=\"_blank\" href=\"https://bungol.ca/listing/2910-highway-7-road-vaughan-N4499481-3875417\">Link</a></td>\n",
       "            </tr>\n",
       "            <tr>\n",
       "                        <th id=\"T_92a490b8_af1d_11e9_a6f4_b8763fda58c1level0_row9\" class=\"row_heading level0 row9\" >9</th>\n",
       "                        <td id=\"T_92a490b8_af1d_11e9_a6f4_b8763fda58c1row9_col0\" class=\"data row9 col0\" >Condo</td>\n",
       "                        <td id=\"T_92a490b8_af1d_11e9_a6f4_b8763fda58c1row9_col1\" class=\"data row9 col1\" >#2307</td>\n",
       "                        <td id=\"T_92a490b8_af1d_11e9_a6f4_b8763fda58c1row9_col2\" class=\"data row9 col2\" >2910 Highway 7 Rd W, Vaughan</td>\n",
       "                        <td id=\"T_92a490b8_af1d_11e9_a6f4_b8763fda58c1row9_col3\" class=\"data row9 col3\" >For Sale</td>\n",
       "                        <td id=\"T_92a490b8_af1d_11e9_a6f4_b8763fda58c1row9_col4\" class=\"data row9 col4\" >700-799</td>\n",
       "                        <td id=\"T_92a490b8_af1d_11e9_a6f4_b8763fda58c1row9_col5\" class=\"data row9 col5\" >549,900</td>\n",
       "                        <td id=\"T_92a490b8_af1d_11e9_a6f4_b8763fda58c1row9_col6\" class=\"data row9 col6\" >921</td>\n",
       "                        <td id=\"T_92a490b8_af1d_11e9_a6f4_b8763fda58c1row9_col7\" class=\"data row9 col7\" >2</td>\n",
       "                        <td id=\"T_92a490b8_af1d_11e9_a6f4_b8763fda58c1row9_col8\" class=\"data row9 col8\" >2</td>\n",
       "                        <td id=\"T_92a490b8_af1d_11e9_a6f4_b8763fda58c1row9_col9\" class=\"data row9 col9\" >1</td>\n",
       "                        <td id=\"T_92a490b8_af1d_11e9_a6f4_b8763fda58c1row9_col10\" class=\"data row9 col10\" ><a target=\"_blank\" href=\"https://bungol.ca/listing/2910-highway-7-road-west-vaughan-N4525734-3899295\">Link</a></td>\n",
       "            </tr>\n",
       "            <tr>\n",
       "                        <th id=\"T_92a490b8_af1d_11e9_a6f4_b8763fda58c1level0_row10\" class=\"row_heading level0 row10\" >10</th>\n",
       "                        <td id=\"T_92a490b8_af1d_11e9_a6f4_b8763fda58c1row10_col0\" class=\"data row10 col0\" >Condo</td>\n",
       "                        <td id=\"T_92a490b8_af1d_11e9_a6f4_b8763fda58c1row10_col1\" class=\"data row10 col1\" >#1907</td>\n",
       "                        <td id=\"T_92a490b8_af1d_11e9_a6f4_b8763fda58c1row10_col2\" class=\"data row10 col2\" >2910 Highway 7, Vaughan</td>\n",
       "                        <td id=\"T_92a490b8_af1d_11e9_a6f4_b8763fda58c1row10_col3\" class=\"data row10 col3\" >Offer Pending</td>\n",
       "                        <td id=\"T_92a490b8_af1d_11e9_a6f4_b8763fda58c1row10_col4\" class=\"data row10 col4\" >700-799</td>\n",
       "                        <td id=\"T_92a490b8_af1d_11e9_a6f4_b8763fda58c1row10_col5\" class=\"data row10 col5\" >529,900</td>\n",
       "                        <td id=\"T_92a490b8_af1d_11e9_a6f4_b8763fda58c1row10_col6\" class=\"data row10 col6\" >948</td>\n",
       "                        <td id=\"T_92a490b8_af1d_11e9_a6f4_b8763fda58c1row10_col7\" class=\"data row10 col7\" >2</td>\n",
       "                        <td id=\"T_92a490b8_af1d_11e9_a6f4_b8763fda58c1row10_col8\" class=\"data row10 col8\" >2</td>\n",
       "                        <td id=\"T_92a490b8_af1d_11e9_a6f4_b8763fda58c1row10_col9\" class=\"data row10 col9\" >1</td>\n",
       "                        <td id=\"T_92a490b8_af1d_11e9_a6f4_b8763fda58c1row10_col10\" class=\"data row10 col10\" ><a target=\"_blank\" href=\"https://bungol.ca/listing/2910-highway-7-vaughan-N4522947-3897460\">Link</a></td>\n",
       "            </tr>\n",
       "            <tr>\n",
       "                        <th id=\"T_92a490b8_af1d_11e9_a6f4_b8763fda58c1level0_row11\" class=\"row_heading level0 row11\" >11</th>\n",
       "                        <td id=\"T_92a490b8_af1d_11e9_a6f4_b8763fda58c1row11_col0\" class=\"data row11 col0\" >Condo</td>\n",
       "                        <td id=\"T_92a490b8_af1d_11e9_a6f4_b8763fda58c1row11_col1\" class=\"data row11 col1\" >#412</td>\n",
       "                        <td id=\"T_92a490b8_af1d_11e9_a6f4_b8763fda58c1row11_col2\" class=\"data row11 col2\" >2910 Highway 7 Dr W, Vaughan</td>\n",
       "                        <td id=\"T_92a490b8_af1d_11e9_a6f4_b8763fda58c1row11_col3\" class=\"data row11 col3\" >For Sale</td>\n",
       "                        <td id=\"T_92a490b8_af1d_11e9_a6f4_b8763fda58c1row11_col4\" class=\"data row11 col4\" >1000-1199</td>\n",
       "                        <td id=\"T_92a490b8_af1d_11e9_a6f4_b8763fda58c1row11_col5\" class=\"data row11 col5\" >569,900</td>\n",
       "                        <td id=\"T_92a490b8_af1d_11e9_a6f4_b8763fda58c1row11_col6\" class=\"data row11 col6\" >1,054</td>\n",
       "                        <td id=\"T_92a490b8_af1d_11e9_a6f4_b8763fda58c1row11_col7\" class=\"data row11 col7\" >2</td>\n",
       "                        <td id=\"T_92a490b8_af1d_11e9_a6f4_b8763fda58c1row11_col8\" class=\"data row11 col8\" >2</td>\n",
       "                        <td id=\"T_92a490b8_af1d_11e9_a6f4_b8763fda58c1row11_col9\" class=\"data row11 col9\" >1</td>\n",
       "                        <td id=\"T_92a490b8_af1d_11e9_a6f4_b8763fda58c1row11_col10\" class=\"data row11 col10\" ><a target=\"_blank\" href=\"https://bungol.ca/listing/2910-highway-7-drive-west-vaughan-N4445542-3825966\">Link</a></td>\n",
       "            </tr>\n",
       "            <tr>\n",
       "                        <th id=\"T_92a490b8_af1d_11e9_a6f4_b8763fda58c1level0_row12\" class=\"row_heading level0 row12\" >12</th>\n",
       "                        <td id=\"T_92a490b8_af1d_11e9_a6f4_b8763fda58c1row12_col0\" class=\"data row12 col0\" >Condo</td>\n",
       "                        <td id=\"T_92a490b8_af1d_11e9_a6f4_b8763fda58c1row12_col1\" class=\"data row12 col1\" >#513</td>\n",
       "                        <td id=\"T_92a490b8_af1d_11e9_a6f4_b8763fda58c1row12_col2\" class=\"data row12 col2\" >2910 Highway 7, Vaughan</td>\n",
       "                        <td id=\"T_92a490b8_af1d_11e9_a6f4_b8763fda58c1row12_col3\" class=\"data row12 col3\" >For Sale</td>\n",
       "                        <td id=\"T_92a490b8_af1d_11e9_a6f4_b8763fda58c1row12_col4\" class=\"data row12 col4\" >900-999</td>\n",
       "                        <td id=\"T_92a490b8_af1d_11e9_a6f4_b8763fda58c1row12_col5\" class=\"data row12 col5\" >579,900</td>\n",
       "                        <td id=\"T_92a490b8_af1d_11e9_a6f4_b8763fda58c1row12_col6\" class=\"data row12 col6\" >1,067</td>\n",
       "                        <td id=\"T_92a490b8_af1d_11e9_a6f4_b8763fda58c1row12_col7\" class=\"data row12 col7\" >2</td>\n",
       "                        <td id=\"T_92a490b8_af1d_11e9_a6f4_b8763fda58c1row12_col8\" class=\"data row12 col8\" >1</td>\n",
       "                        <td id=\"T_92a490b8_af1d_11e9_a6f4_b8763fda58c1row12_col9\" class=\"data row12 col9\" >1</td>\n",
       "                        <td id=\"T_92a490b8_af1d_11e9_a6f4_b8763fda58c1row12_col10\" class=\"data row12 col10\" ><a target=\"_blank\" href=\"https://bungol.ca/listing/2910-highway-7-vaughan-N4521549-3895475\">Link</a></td>\n",
       "            </tr>\n",
       "            <tr>\n",
       "                        <th id=\"T_92a490b8_af1d_11e9_a6f4_b8763fda58c1level0_row13\" class=\"row_heading level0 row13\" >13</th>\n",
       "                        <td id=\"T_92a490b8_af1d_11e9_a6f4_b8763fda58c1row13_col0\" class=\"data row13 col0\" >Condo</td>\n",
       "                        <td id=\"T_92a490b8_af1d_11e9_a6f4_b8763fda58c1row13_col1\" class=\"data row13 col1\" >#517</td>\n",
       "                        <td id=\"T_92a490b8_af1d_11e9_a6f4_b8763fda58c1row13_col2\" class=\"data row13 col2\" >2910 Highway 7 Rd, Vaughan</td>\n",
       "                        <td id=\"T_92a490b8_af1d_11e9_a6f4_b8763fda58c1row13_col3\" class=\"data row13 col3\" >For Sale</td>\n",
       "                        <td id=\"T_92a490b8_af1d_11e9_a6f4_b8763fda58c1row13_col4\" class=\"data row13 col4\" >900-999</td>\n",
       "                        <td id=\"T_92a490b8_af1d_11e9_a6f4_b8763fda58c1row13_col5\" class=\"data row13 col5\" >578,888</td>\n",
       "                        <td id=\"T_92a490b8_af1d_11e9_a6f4_b8763fda58c1row13_col6\" class=\"data row13 col6\" >1,077</td>\n",
       "                        <td id=\"T_92a490b8_af1d_11e9_a6f4_b8763fda58c1row13_col7\" class=\"data row13 col7\" >2</td>\n",
       "                        <td id=\"T_92a490b8_af1d_11e9_a6f4_b8763fda58c1row13_col8\" class=\"data row13 col8\" >2</td>\n",
       "                        <td id=\"T_92a490b8_af1d_11e9_a6f4_b8763fda58c1row13_col9\" class=\"data row13 col9\" >1</td>\n",
       "                        <td id=\"T_92a490b8_af1d_11e9_a6f4_b8763fda58c1row13_col10\" class=\"data row13 col10\" ><a target=\"_blank\" href=\"https://bungol.ca/listing/2910-highway-7-road-vaughan-N4526148-3899705\">Link</a></td>\n",
       "            </tr>\n",
       "            <tr>\n",
       "                        <th id=\"T_92a490b8_af1d_11e9_a6f4_b8763fda58c1level0_row14\" class=\"row_heading level0 row14\" >14</th>\n",
       "                        <td id=\"T_92a490b8_af1d_11e9_a6f4_b8763fda58c1row14_col0\" class=\"data row14 col0\" >Condo</td>\n",
       "                        <td id=\"T_92a490b8_af1d_11e9_a6f4_b8763fda58c1row14_col1\" class=\"data row14 col1\" >#208</td>\n",
       "                        <td id=\"T_92a490b8_af1d_11e9_a6f4_b8763fda58c1row14_col2\" class=\"data row14 col2\" >2910 Highway 7 Rd, Vaughan</td>\n",
       "                        <td id=\"T_92a490b8_af1d_11e9_a6f4_b8763fda58c1row14_col3\" class=\"data row14 col3\" >For Sale</td>\n",
       "                        <td id=\"T_92a490b8_af1d_11e9_a6f4_b8763fda58c1row14_col4\" class=\"data row14 col4\" >800-899</td>\n",
       "                        <td id=\"T_92a490b8_af1d_11e9_a6f4_b8763fda58c1row14_col5\" class=\"data row14 col5\" >540,000</td>\n",
       "                        <td id=\"T_92a490b8_af1d_11e9_a6f4_b8763fda58c1row14_col6\" class=\"data row14 col6\" >1,096</td>\n",
       "                        <td id=\"T_92a490b8_af1d_11e9_a6f4_b8763fda58c1row14_col7\" class=\"data row14 col7\" >2</td>\n",
       "                        <td id=\"T_92a490b8_af1d_11e9_a6f4_b8763fda58c1row14_col8\" class=\"data row14 col8\" >1</td>\n",
       "                        <td id=\"T_92a490b8_af1d_11e9_a6f4_b8763fda58c1row14_col9\" class=\"data row14 col9\" >1</td>\n",
       "                        <td id=\"T_92a490b8_af1d_11e9_a6f4_b8763fda58c1row14_col10\" class=\"data row14 col10\" ><a target=\"_blank\" href=\"https://bungol.ca/listing/2910-highway-7-road-vaughan-N4497933-3873974\">Link</a></td>\n",
       "            </tr>\n",
       "            <tr>\n",
       "                        <th id=\"T_92a490b8_af1d_11e9_a6f4_b8763fda58c1level0_row15\" class=\"row_heading level0 row15\" >15</th>\n",
       "                        <td id=\"T_92a490b8_af1d_11e9_a6f4_b8763fda58c1row15_col0\" class=\"data row15 col0\" >Condo</td>\n",
       "                        <td id=\"T_92a490b8_af1d_11e9_a6f4_b8763fda58c1row15_col1\" class=\"data row15 col1\" >#903</td>\n",
       "                        <td id=\"T_92a490b8_af1d_11e9_a6f4_b8763fda58c1row15_col2\" class=\"data row15 col2\" >2900 Highway 7 Rd W, Vaughan</td>\n",
       "                        <td id=\"T_92a490b8_af1d_11e9_a6f4_b8763fda58c1row15_col3\" class=\"data row15 col3\" >Offer Pending</td>\n",
       "                        <td id=\"T_92a490b8_af1d_11e9_a6f4_b8763fda58c1row15_col4\" class=\"data row15 col4\" >900-999</td>\n",
       "                        <td id=\"T_92a490b8_af1d_11e9_a6f4_b8763fda58c1row15_col5\" class=\"data row15 col5\" >599,900</td>\n",
       "                        <td id=\"T_92a490b8_af1d_11e9_a6f4_b8763fda58c1row15_col6\" class=\"data row15 col6\" >1,155</td>\n",
       "                        <td id=\"T_92a490b8_af1d_11e9_a6f4_b8763fda58c1row15_col7\" class=\"data row15 col7\" >3</td>\n",
       "                        <td id=\"T_92a490b8_af1d_11e9_a6f4_b8763fda58c1row15_col8\" class=\"data row15 col8\" >2</td>\n",
       "                        <td id=\"T_92a490b8_af1d_11e9_a6f4_b8763fda58c1row15_col9\" class=\"data row15 col9\" >2</td>\n",
       "                        <td id=\"T_92a490b8_af1d_11e9_a6f4_b8763fda58c1row15_col10\" class=\"data row15 col10\" ><a target=\"_blank\" href=\"https://bungol.ca/listing/2900-highway-7-road-west-vaughan-N4482307-3859611\">Link</a></td>\n",
       "            </tr>\n",
       "    </tbody></table>"
      ],
      "text/plain": [
       "<pandas.io.formats.style.Styler at 0x1f4b85f8>"
      ]
     },
     "execution_count": 131,
     "metadata": {},
     "output_type": "execute_result"
    }
   ],
   "source": [
    "def make_hyperlink(cell):\n",
    "    return f'<a target=\"_blank\" href=\"{cell}\">Link</a>'\n",
    "    \n",
    "result = df[['PropertyType', 'Unit', 'Address', 'Status', 'SquareFootage', 'ListPrice', 'MonthlyExpenses', 'Bedrooms', 'Bathrooms', 'ParkingSpots', 'URL']] \\\n",
    "            .query('MonthExpenses <= 800') \\\n",
    "            .sort_values('MonthlyExpenses').reset_index(drop=True) \\\n",
    "            .style.format({\n",
    "                'ListPrice': '{:,.0f}',\n",
    "                'PropertyTax': '{:,.2f}',\n",
    "                'MonthlyExpenses': '{:,.0f}',\n",
    "                'AvgPersonalIncome': '{:,.0f}',\n",
    "                'URL': make_hyperlink\n",
    "            })\n",
    "result"
   ]
  },
  {
   "cell_type": "markdown",
   "metadata": {},
   "source": [
    "# Export"
   ]
  },
  {
   "cell_type": "code",
   "execution_count": 1,
   "metadata": {},
   "outputs": [
    {
     "ename": "NameError",
     "evalue": "name 'df' is not defined",
     "output_type": "error",
     "traceback": [
      "\u001b[0;31m---------------------------------------------------------------------------\u001b[0m",
      "\u001b[0;31mNameError\u001b[0m                                 Traceback (most recent call last)",
      "\u001b[0;32m<ipython-input-1-6463e743e083>\u001b[0m in \u001b[0;36m<module>\u001b[0;34m\u001b[0m\n\u001b[0;32m----> 1\u001b[0;31m \u001b[0mdf\u001b[0m\u001b[0;34m[\u001b[0m\u001b[0;34m'SquareFootage'\u001b[0m\u001b[0;34m]\u001b[0m\u001b[0;34m.\u001b[0m\u001b[0munique\u001b[0m\u001b[0;34m(\u001b[0m\u001b[0;34m)\u001b[0m\u001b[0;34m\u001b[0m\u001b[0;34m\u001b[0m\u001b[0m\n\u001b[0m",
      "\u001b[0;31mNameError\u001b[0m: name 'df' is not defined"
     ]
    }
   ],
   "source": [
    "result.to_excel('./result.xlsx', index=False)"
   ]
  },
  {
   "cell_type": "code",
   "execution_count": null,
   "metadata": {},
   "outputs": [],
   "source": []
  }
 ],
 "metadata": {
  "kernelspec": {
   "display_name": "Python 3",
   "language": "python",
   "name": "python3"
  },
  "language_info": {
   "codemirror_mode": {
    "name": "ipython",
    "version": 3
   },
   "file_extension": ".py",
   "mimetype": "text/x-python",
   "name": "python",
   "nbconvert_exporter": "python",
   "pygments_lexer": "ipython3",
   "version": "3.7.3"
  }
 },
 "nbformat": 4,
 "nbformat_minor": 4
}
