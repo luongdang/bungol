{
 "cells": [
  {
   "cell_type": "code",
   "execution_count": 376,
   "metadata": {},
   "outputs": [],
   "source": [
    "import numpy as np\n",
    "import pandas as pd\n",
    "import requests\n",
    "from bs4 import BeautifulSoup\n",
    "from time import sleep\n",
    "\n",
    "from selenium import webdriver\n",
    "from selenium.webdriver.common.action_chains import ActionChains\n",
    "from selenium.webdriver.common.keys import Keys"
   ]
  },
  {
   "cell_type": "markdown",
   "metadata": {},
   "source": [
    "# Start up"
   ]
  },
  {
   "cell_type": "code",
   "execution_count": 377,
   "metadata": {},
   "outputs": [],
   "source": [
    "driver = webdriver.Chrome('../webdriver/chromedriver.exe')"
   ]
  },
  {
   "cell_type": "code",
   "execution_count": 378,
   "metadata": {},
   "outputs": [],
   "source": [
    "driver.get('https://bungol.ca')"
   ]
  },
  {
   "cell_type": "code",
   "execution_count": 379,
   "metadata": {},
   "outputs": [],
   "source": [
    "login = driver.find_element_by_link_text('Login/Signup')\n",
    "login.click()\n",
    "\n",
    "username = driver.find_element_by_name('username')\n",
    "password = driver.find_element_by_name('password')\n",
    "\n",
    "username.send_keys('scottw')\n",
    "password.send_keys('zojzes-dycpoQ-2nidwy')\n",
    "password.send_keys(Keys.RETURN)"
   ]
  },
  {
   "cell_type": "markdown",
   "metadata": {},
   "source": [
    "Now to the the website and set the location, set filtering criteria, etc. before coming back here."
   ]
  },
  {
   "cell_type": "markdown",
   "metadata": {},
   "source": [
    "# Gather properties"
   ]
  },
  {
   "cell_type": "code",
   "execution_count": 383,
   "metadata": {},
   "outputs": [],
   "source": [
    "urls = []\n",
    "\n",
    "leftSidebarClose = driver.find_element_by_id('leftSidebarClose')\n",
    "if not ('leftSidebarClosed' in leftSidebarClose.get_attribute('class')):\n",
    "    leftSidebarClose.click()\n",
    "\n",
    "icons = driver.find_elements_by_css_selector('div.leaflet-marker-icon')\n",
    "for icon in icons:\n",
    "    actions = ActionChains(driver)\n",
    "    actions.move_to_element(icon).perform()\n",
    "    sleep(1)\n",
    "\n",
    "    popup = driver.find_element_by_id('popup')\n",
    "    urls += [a.get_attribute('href') for a in popup.find_elements_by_tag_name('a')]\n",
    "    driver.execute_script('arguments[0].innerHTML = \"\"', popup)"
   ]
  },
  {
   "cell_type": "code",
   "execution_count": 384,
   "metadata": {},
   "outputs": [
    {
     "data": {
      "text/plain": [
       "56"
      ]
     },
     "execution_count": 384,
     "metadata": {},
     "output_type": "execute_result"
    }
   ],
   "source": [
    "len(urls)"
   ]
  },
  {
   "cell_type": "markdown",
   "metadata": {},
   "source": [
    "# Property detail"
   ]
  },
  {
   "cell_type": "code",
   "execution_count": 392,
   "metadata": {},
   "outputs": [],
   "source": [
    "details = []\n",
    "\n",
    "for url in urls[:3]:\n",
    "    driver.get(url)\n",
    "    soup = BeautifulSoup(driver.page_source)\n",
    "    s = pd.Series()\n",
    "\n",
    "    # Variables whose format is <div id=\"#...\">value</div>\n",
    "    info = {\n",
    "        'Address': '#listingAddress',\n",
    "        'PropertyType': '#listingPropertyType'\n",
    "    }\n",
    "    \n",
    "    for variable, selector in info.items():\n",
    "        value = soup.select(selector)[0].get_text()\n",
    "        s[variable] = value\n",
    "\n",
    "    # Variables whose format is <div id=\"#...\">label: value</div>\n",
    "    info = {\n",
    "        'ListPrice': '#listingListPrice',\n",
    "        'ListingDate': '#listingContractDate',\n",
    "        'SoldDate': '#listingEndDate',\n",
    "        'SquareFootage': '#listingSummarySqFt',\n",
    "        'MaintenanceFee': '#listingSummaryMaintenanceFees',\n",
    "        'PropertyTax': '#listingSummaryTaxes',\n",
    "    }\n",
    "\n",
    "    for variable, selector in info.items():\n",
    "        tmp = soup.select(selector)[0].get_text().split(':')\n",
    "        value = tmp[1] if len(tmp) == 2 else None\n",
    "        s[variable] = value\n",
    "\n",
    "    # Some special cases\n",
    "    tmp = soup.select('#listingStatus')[0].get_text().split(' - ')\n",
    "    s['Status'], s['Price'] = tmp if len(tmp) == 2 else (tmp[0], None)\n",
    "\n",
    "    tmp = soup.select('#listingBedBath')[0].get_text().split('|')\n",
    "    s['Bedrooms'], s['Bathrooms'], s['ParkingSpots'] = tmp if len(tmp) == 3 else (None, None, None)\n",
    "    \n",
    "    s = s.str.strip()\n",
    "\n",
    "    # Condo fee coverage, if applicable\n",
    "    tmp = driver.find_element_by_id('listingCondoFeesTable')\n",
    "    if tmp is None:\n",
    "        continue\n",
    "    \n",
    "    coverage = {}\n",
    "    for item in ['Water', 'Heat', 'Insurance', 'CAC', 'Hydro', 'Parking', 'Taxes']:\n",
    "        tmp = driver.find_element_by_id(f'listingCondoFeesTable{item}')\n",
    "        classes = tmp.get_attribute('class')\n",
    "        if 'bg-danger' in classes:\n",
    "            isIncluded = False\n",
    "        elif 'bg-success' in classes:\n",
    "            isIncluded = True\n",
    "        else:\n",
    "            isIncluded = None\n",
    "        \n",
    "        coverage[item] = isIncluded\n",
    "        \n",
    "    s['Coverage'] = coverage\n",
    "    details.append(s)"
   ]
  },
  {
   "cell_type": "code",
   "execution_count": 393,
   "metadata": {},
   "outputs": [],
   "source": [
    "df = pd.DataFrame(details)"
   ]
  },
  {
   "cell_type": "code",
   "execution_count": 394,
   "metadata": {},
   "outputs": [],
   "source": [
    "cols = ['ListingDate', 'SoldDate']\n",
    "df[cols] = df[cols].apply(pd.to_datetime, axis=1)"
   ]
  },
  {
   "cell_type": "code",
   "execution_count": 404,
   "metadata": {},
   "outputs": [],
   "source": [
    "cols = ['ListPrice', 'Price', 'MaintenanceFee', 'PropertyTax']\n",
    "df[cols] = df[cols].apply(lambda col: col.str.replace(r'[^0-9\\.]', '')).apply(pd.to_numeric)"
   ]
  },
  {
   "cell_type": "code",
   "execution_count": 408,
   "metadata": {},
   "outputs": [],
   "source": [
    "df['Bedrooms'] = df['Bedrooms'].apply(eval)\n",
    "\n",
    "cols = ['Bathrooms', 'ParkingSpots']\n",
    "df[cols] = df[cols].apply(pd.to_numeric)"
   ]
  },
  {
   "cell_type": "code",
   "execution_count": 409,
   "metadata": {},
   "outputs": [
    {
     "data": {
      "text/plain": [
       "Address                   object\n",
       "PropertyType              object\n",
       "ListPrice                  int64\n",
       "ListingDate       datetime64[ns]\n",
       "SoldDate          datetime64[ns]\n",
       "SquareFootage             object\n",
       "MaintenanceFee           float64\n",
       "PropertyTax                int64\n",
       "Status                    object\n",
       "Price                    float64\n",
       "Bedrooms                   int64\n",
       "Bathrooms                  int64\n",
       "ParkingSpots               int64\n",
       "Coverage                  object\n",
       "dtype: object"
      ]
     },
     "execution_count": 409,
     "metadata": {},
     "output_type": "execute_result"
    }
   ],
   "source": [
    "df.dtypes"
   ]
  },
  {
   "cell_type": "code",
   "execution_count": 401,
   "metadata": {},
   "outputs": [
    {
     "data": {
      "text/html": [
       "<div>\n",
       "<style scoped>\n",
       "    .dataframe tbody tr th:only-of-type {\n",
       "        vertical-align: middle;\n",
       "    }\n",
       "\n",
       "    .dataframe tbody tr th {\n",
       "        vertical-align: top;\n",
       "    }\n",
       "\n",
       "    .dataframe thead th {\n",
       "        text-align: right;\n",
       "    }\n",
       "</style>\n",
       "<table border=\"1\" class=\"dataframe\">\n",
       "  <thead>\n",
       "    <tr style=\"text-align: right;\">\n",
       "      <th></th>\n",
       "      <th>Address</th>\n",
       "      <th>PropertyType</th>\n",
       "      <th>ListPrice</th>\n",
       "      <th>ListingDate</th>\n",
       "      <th>SoldDate</th>\n",
       "      <th>SquareFootage</th>\n",
       "      <th>MaintenanceFee</th>\n",
       "      <th>PropertyTax</th>\n",
       "      <th>Status</th>\n",
       "      <th>Price</th>\n",
       "      <th>Bedrooms</th>\n",
       "      <th>Bathrooms</th>\n",
       "      <th>ParkingSpots</th>\n",
       "      <th>Coverage</th>\n",
       "    </tr>\n",
       "  </thead>\n",
       "  <tbody>\n",
       "    <tr>\n",
       "      <th>0</th>\n",
       "      <td>14 Hoover Cres, North York</td>\n",
       "      <td>Semi-Detached/Link</td>\n",
       "      <td>716000</td>\n",
       "      <td>2019-05-27</td>\n",
       "      <td>NaT</td>\n",
       "      <td>1500-2000</td>\n",
       "      <td>None</td>\n",
       "      <td>214</td>\n",
       "      <td>Offer Pending</td>\n",
       "      <td>None</td>\n",
       "      <td>4</td>\n",
       "      <td>2</td>\n",
       "      <td>3</td>\n",
       "      <td>{'Water': None, 'Heat': None, 'Insurance': Non...</td>\n",
       "    </tr>\n",
       "    <tr>\n",
       "      <th>1</th>\n",
       "      <td>67 Hoover Cres, North York</td>\n",
       "      <td>Detached House</td>\n",
       "      <td>869000</td>\n",
       "      <td>2019-05-08</td>\n",
       "      <td>2019-06-07</td>\n",
       "      <td>No data</td>\n",
       "      <td>None</td>\n",
       "      <td>293</td>\n",
       "      <td>Sold</td>\n",
       "      <td>835000</td>\n",
       "      <td>4+1</td>\n",
       "      <td>2</td>\n",
       "      <td>6</td>\n",
       "      <td>{'Water': None, 'Heat': None, 'Insurance': Non...</td>\n",
       "    </tr>\n",
       "    <tr>\n",
       "      <th>2</th>\n",
       "      <td>380 Cook Rd, North York</td>\n",
       "      <td>Semi-Detached/Link</td>\n",
       "      <td>819000</td>\n",
       "      <td>2019-04-17</td>\n",
       "      <td>2019-05-24</td>\n",
       "      <td>2000-2500</td>\n",
       "      <td>None</td>\n",
       "      <td>319</td>\n",
       "      <td>Sold</td>\n",
       "      <td>780000</td>\n",
       "      <td>4+4</td>\n",
       "      <td>5</td>\n",
       "      <td>2</td>\n",
       "      <td>{'Water': None, 'Heat': None, 'Insurance': Non...</td>\n",
       "    </tr>\n",
       "  </tbody>\n",
       "</table>\n",
       "</div>"
      ],
      "text/plain": [
       "                      Address        PropertyType ListPrice ListingDate  \\\n",
       "0  14 Hoover Cres, North York  Semi-Detached/Link    716000  2019-05-27   \n",
       "1  67 Hoover Cres, North York      Detached House    869000  2019-05-08   \n",
       "2     380 Cook Rd, North York  Semi-Detached/Link    819000  2019-04-17   \n",
       "\n",
       "    SoldDate SquareFootage MaintenanceFee PropertyTax         Status   Price  \\\n",
       "0        NaT     1500-2000           None         214  Offer Pending    None   \n",
       "1 2019-06-07       No data           None         293           Sold  835000   \n",
       "2 2019-05-24     2000-2500           None         319           Sold  780000   \n",
       "\n",
       "  Bedrooms  Bathrooms  ParkingSpots  \\\n",
       "0        4          2             3   \n",
       "1      4+1          2             6   \n",
       "2      4+4          5             2   \n",
       "\n",
       "                                            Coverage  \n",
       "0  {'Water': None, 'Heat': None, 'Insurance': Non...  \n",
       "1  {'Water': None, 'Heat': None, 'Insurance': Non...  \n",
       "2  {'Water': None, 'Heat': None, 'Insurance': Non...  "
      ]
     },
     "execution_count": 401,
     "metadata": {},
     "output_type": "execute_result"
    }
   ],
   "source": [
    "df"
   ]
  },
  {
   "cell_type": "code",
   "execution_count": 407,
   "metadata": {},
   "outputs": [
    {
     "data": {
      "text/html": [
       "<style  type=\"text/css\" >\n",
       "    #T_5470aab6_abdc_11e9_baf3_b8763fda58c1row1_col0 {\n",
       "            color:  lightgray;\n",
       "        }    #T_5470aab6_abdc_11e9_baf3_b8763fda58c1row1_col1 {\n",
       "            color:  lightgray;\n",
       "        }    #T_5470aab6_abdc_11e9_baf3_b8763fda58c1row1_col2 {\n",
       "            color:  lightgray;\n",
       "        }    #T_5470aab6_abdc_11e9_baf3_b8763fda58c1row1_col3 {\n",
       "            color:  lightgray;\n",
       "        }    #T_5470aab6_abdc_11e9_baf3_b8763fda58c1row1_col4 {\n",
       "            color:  lightgray;\n",
       "        }    #T_5470aab6_abdc_11e9_baf3_b8763fda58c1row1_col5 {\n",
       "            color:  lightgray;\n",
       "        }    #T_5470aab6_abdc_11e9_baf3_b8763fda58c1row1_col6 {\n",
       "            color:  lightgray;\n",
       "        }    #T_5470aab6_abdc_11e9_baf3_b8763fda58c1row1_col7 {\n",
       "            color:  lightgray;\n",
       "        }    #T_5470aab6_abdc_11e9_baf3_b8763fda58c1row1_col8 {\n",
       "            color:  lightgray;\n",
       "        }    #T_5470aab6_abdc_11e9_baf3_b8763fda58c1row1_col9 {\n",
       "            color:  lightgray;\n",
       "        }    #T_5470aab6_abdc_11e9_baf3_b8763fda58c1row1_col10 {\n",
       "            color:  lightgray;\n",
       "        }    #T_5470aab6_abdc_11e9_baf3_b8763fda58c1row1_col11 {\n",
       "            color:  lightgray;\n",
       "        }    #T_5470aab6_abdc_11e9_baf3_b8763fda58c1row1_col12 {\n",
       "            color:  lightgray;\n",
       "        }    #T_5470aab6_abdc_11e9_baf3_b8763fda58c1row1_col13 {\n",
       "            color:  lightgray;\n",
       "        }    #T_5470aab6_abdc_11e9_baf3_b8763fda58c1row2_col0 {\n",
       "            color:  lightgray;\n",
       "        }    #T_5470aab6_abdc_11e9_baf3_b8763fda58c1row2_col1 {\n",
       "            color:  lightgray;\n",
       "        }    #T_5470aab6_abdc_11e9_baf3_b8763fda58c1row2_col2 {\n",
       "            color:  lightgray;\n",
       "        }    #T_5470aab6_abdc_11e9_baf3_b8763fda58c1row2_col3 {\n",
       "            color:  lightgray;\n",
       "        }    #T_5470aab6_abdc_11e9_baf3_b8763fda58c1row2_col4 {\n",
       "            color:  lightgray;\n",
       "        }    #T_5470aab6_abdc_11e9_baf3_b8763fda58c1row2_col5 {\n",
       "            color:  lightgray;\n",
       "        }    #T_5470aab6_abdc_11e9_baf3_b8763fda58c1row2_col6 {\n",
       "            color:  lightgray;\n",
       "        }    #T_5470aab6_abdc_11e9_baf3_b8763fda58c1row2_col7 {\n",
       "            color:  lightgray;\n",
       "        }    #T_5470aab6_abdc_11e9_baf3_b8763fda58c1row2_col8 {\n",
       "            color:  lightgray;\n",
       "        }    #T_5470aab6_abdc_11e9_baf3_b8763fda58c1row2_col9 {\n",
       "            color:  lightgray;\n",
       "        }    #T_5470aab6_abdc_11e9_baf3_b8763fda58c1row2_col10 {\n",
       "            color:  lightgray;\n",
       "        }    #T_5470aab6_abdc_11e9_baf3_b8763fda58c1row2_col11 {\n",
       "            color:  lightgray;\n",
       "        }    #T_5470aab6_abdc_11e9_baf3_b8763fda58c1row2_col12 {\n",
       "            color:  lightgray;\n",
       "        }    #T_5470aab6_abdc_11e9_baf3_b8763fda58c1row2_col13 {\n",
       "            color:  lightgray;\n",
       "        }</style><table id=\"T_5470aab6_abdc_11e9_baf3_b8763fda58c1\" ><thead>    <tr>        <th class=\"blank level0\" ></th>        <th class=\"col_heading level0 col0\" >Address</th>        <th class=\"col_heading level0 col1\" >PropertyType</th>        <th class=\"col_heading level0 col2\" >ListPrice</th>        <th class=\"col_heading level0 col3\" >ListingDate</th>        <th class=\"col_heading level0 col4\" >SoldDate</th>        <th class=\"col_heading level0 col5\" >SquareFootage</th>        <th class=\"col_heading level0 col6\" >MaintenanceFee</th>        <th class=\"col_heading level0 col7\" >PropertyTax</th>        <th class=\"col_heading level0 col8\" >Status</th>        <th class=\"col_heading level0 col9\" >Price</th>        <th class=\"col_heading level0 col10\" >Bedrooms</th>        <th class=\"col_heading level0 col11\" >Bathrooms</th>        <th class=\"col_heading level0 col12\" >ParkingSpots</th>        <th class=\"col_heading level0 col13\" >Coverage</th>    </tr></thead><tbody>\n",
       "                <tr>\n",
       "                        <th id=\"T_5470aab6_abdc_11e9_baf3_b8763fda58c1level0_row0\" class=\"row_heading level0 row0\" >0</th>\n",
       "                        <td id=\"T_5470aab6_abdc_11e9_baf3_b8763fda58c1row0_col0\" class=\"data row0 col0\" >14 Hoover Cres, North York</td>\n",
       "                        <td id=\"T_5470aab6_abdc_11e9_baf3_b8763fda58c1row0_col1\" class=\"data row0 col1\" >Semi-Detached/Link</td>\n",
       "                        <td id=\"T_5470aab6_abdc_11e9_baf3_b8763fda58c1row0_col2\" class=\"data row0 col2\" >716000</td>\n",
       "                        <td id=\"T_5470aab6_abdc_11e9_baf3_b8763fda58c1row0_col3\" class=\"data row0 col3\" >2019-05-27 00:00:00</td>\n",
       "                        <td id=\"T_5470aab6_abdc_11e9_baf3_b8763fda58c1row0_col4\" class=\"data row0 col4\" >NaT</td>\n",
       "                        <td id=\"T_5470aab6_abdc_11e9_baf3_b8763fda58c1row0_col5\" class=\"data row0 col5\" >1500-2000</td>\n",
       "                        <td id=\"T_5470aab6_abdc_11e9_baf3_b8763fda58c1row0_col6\" class=\"data row0 col6\" >nan</td>\n",
       "                        <td id=\"T_5470aab6_abdc_11e9_baf3_b8763fda58c1row0_col7\" class=\"data row0 col7\" >214</td>\n",
       "                        <td id=\"T_5470aab6_abdc_11e9_baf3_b8763fda58c1row0_col8\" class=\"data row0 col8\" >Offer Pending</td>\n",
       "                        <td id=\"T_5470aab6_abdc_11e9_baf3_b8763fda58c1row0_col9\" class=\"data row0 col9\" >nan</td>\n",
       "                        <td id=\"T_5470aab6_abdc_11e9_baf3_b8763fda58c1row0_col10\" class=\"data row0 col10\" >4</td>\n",
       "                        <td id=\"T_5470aab6_abdc_11e9_baf3_b8763fda58c1row0_col11\" class=\"data row0 col11\" >2</td>\n",
       "                        <td id=\"T_5470aab6_abdc_11e9_baf3_b8763fda58c1row0_col12\" class=\"data row0 col12\" >3</td>\n",
       "                        <td id=\"T_5470aab6_abdc_11e9_baf3_b8763fda58c1row0_col13\" class=\"data row0 col13\" >{'Water': None, 'Heat': None, 'Insurance': None, 'CAC': None, 'Hydro': None, 'Parking': None, 'Taxes': None}</td>\n",
       "            </tr>\n",
       "            <tr>\n",
       "                        <th id=\"T_5470aab6_abdc_11e9_baf3_b8763fda58c1level0_row1\" class=\"row_heading level0 row1\" >1</th>\n",
       "                        <td id=\"T_5470aab6_abdc_11e9_baf3_b8763fda58c1row1_col0\" class=\"data row1 col0\" >67 Hoover Cres, North York</td>\n",
       "                        <td id=\"T_5470aab6_abdc_11e9_baf3_b8763fda58c1row1_col1\" class=\"data row1 col1\" >Detached House</td>\n",
       "                        <td id=\"T_5470aab6_abdc_11e9_baf3_b8763fda58c1row1_col2\" class=\"data row1 col2\" >869000</td>\n",
       "                        <td id=\"T_5470aab6_abdc_11e9_baf3_b8763fda58c1row1_col3\" class=\"data row1 col3\" >2019-05-08 00:00:00</td>\n",
       "                        <td id=\"T_5470aab6_abdc_11e9_baf3_b8763fda58c1row1_col4\" class=\"data row1 col4\" >2019-06-07 00:00:00</td>\n",
       "                        <td id=\"T_5470aab6_abdc_11e9_baf3_b8763fda58c1row1_col5\" class=\"data row1 col5\" >No data</td>\n",
       "                        <td id=\"T_5470aab6_abdc_11e9_baf3_b8763fda58c1row1_col6\" class=\"data row1 col6\" >nan</td>\n",
       "                        <td id=\"T_5470aab6_abdc_11e9_baf3_b8763fda58c1row1_col7\" class=\"data row1 col7\" >293</td>\n",
       "                        <td id=\"T_5470aab6_abdc_11e9_baf3_b8763fda58c1row1_col8\" class=\"data row1 col8\" >Sold</td>\n",
       "                        <td id=\"T_5470aab6_abdc_11e9_baf3_b8763fda58c1row1_col9\" class=\"data row1 col9\" >835000</td>\n",
       "                        <td id=\"T_5470aab6_abdc_11e9_baf3_b8763fda58c1row1_col10\" class=\"data row1 col10\" >4+1</td>\n",
       "                        <td id=\"T_5470aab6_abdc_11e9_baf3_b8763fda58c1row1_col11\" class=\"data row1 col11\" >2</td>\n",
       "                        <td id=\"T_5470aab6_abdc_11e9_baf3_b8763fda58c1row1_col12\" class=\"data row1 col12\" >6</td>\n",
       "                        <td id=\"T_5470aab6_abdc_11e9_baf3_b8763fda58c1row1_col13\" class=\"data row1 col13\" >{'Water': None, 'Heat': None, 'Insurance': None, 'CAC': None, 'Hydro': None, 'Parking': None, 'Taxes': None}</td>\n",
       "            </tr>\n",
       "            <tr>\n",
       "                        <th id=\"T_5470aab6_abdc_11e9_baf3_b8763fda58c1level0_row2\" class=\"row_heading level0 row2\" >2</th>\n",
       "                        <td id=\"T_5470aab6_abdc_11e9_baf3_b8763fda58c1row2_col0\" class=\"data row2 col0\" >380 Cook Rd, North York</td>\n",
       "                        <td id=\"T_5470aab6_abdc_11e9_baf3_b8763fda58c1row2_col1\" class=\"data row2 col1\" >Semi-Detached/Link</td>\n",
       "                        <td id=\"T_5470aab6_abdc_11e9_baf3_b8763fda58c1row2_col2\" class=\"data row2 col2\" >819000</td>\n",
       "                        <td id=\"T_5470aab6_abdc_11e9_baf3_b8763fda58c1row2_col3\" class=\"data row2 col3\" >2019-04-17 00:00:00</td>\n",
       "                        <td id=\"T_5470aab6_abdc_11e9_baf3_b8763fda58c1row2_col4\" class=\"data row2 col4\" >2019-05-24 00:00:00</td>\n",
       "                        <td id=\"T_5470aab6_abdc_11e9_baf3_b8763fda58c1row2_col5\" class=\"data row2 col5\" >2000-2500</td>\n",
       "                        <td id=\"T_5470aab6_abdc_11e9_baf3_b8763fda58c1row2_col6\" class=\"data row2 col6\" >nan</td>\n",
       "                        <td id=\"T_5470aab6_abdc_11e9_baf3_b8763fda58c1row2_col7\" class=\"data row2 col7\" >319</td>\n",
       "                        <td id=\"T_5470aab6_abdc_11e9_baf3_b8763fda58c1row2_col8\" class=\"data row2 col8\" >Sold</td>\n",
       "                        <td id=\"T_5470aab6_abdc_11e9_baf3_b8763fda58c1row2_col9\" class=\"data row2 col9\" >780000</td>\n",
       "                        <td id=\"T_5470aab6_abdc_11e9_baf3_b8763fda58c1row2_col10\" class=\"data row2 col10\" >4+4</td>\n",
       "                        <td id=\"T_5470aab6_abdc_11e9_baf3_b8763fda58c1row2_col11\" class=\"data row2 col11\" >5</td>\n",
       "                        <td id=\"T_5470aab6_abdc_11e9_baf3_b8763fda58c1row2_col12\" class=\"data row2 col12\" >2</td>\n",
       "                        <td id=\"T_5470aab6_abdc_11e9_baf3_b8763fda58c1row2_col13\" class=\"data row2 col13\" >{'Water': None, 'Heat': None, 'Insurance': None, 'CAC': None, 'Hydro': None, 'Parking': None, 'Taxes': None}</td>\n",
       "            </tr>\n",
       "    </tbody></table>"
      ],
      "text/plain": [
       "<pandas.io.formats.style.Styler at 0x26f49b70>"
      ]
     },
     "execution_count": 407,
     "metadata": {},
     "output_type": "execute_result"
    }
   ],
   "source": [
    "def stylize(row):\n",
    "    style = 'color: lightgray' if row['Status'] == 'Sold' else ''\n",
    "    return np.repeat(style, len(row))\n",
    "    \n",
    "df.style.apply(stylize, axis=1)"
   ]
  },
  {
   "cell_type": "code",
   "execution_count": null,
   "metadata": {},
   "outputs": [],
   "source": []
  }
 ],
 "metadata": {
  "kernelspec": {
   "display_name": "Python 3",
   "language": "python",
   "name": "python3"
  },
  "language_info": {
   "codemirror_mode": {
    "name": "ipython",
    "version": 3
   },
   "file_extension": ".py",
   "mimetype": "text/x-python",
   "name": "python",
   "nbconvert_exporter": "python",
   "pygments_lexer": "ipython3",
   "version": "3.7.3"
  }
 },
 "nbformat": 4,
 "nbformat_minor": 2
}
