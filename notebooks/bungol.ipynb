{
 "cells": [
  {
   "cell_type": "code",
   "execution_count": 1,
   "metadata": {},
   "outputs": [],
   "source": [
    "import numpy as np\n",
    "import pandas as pd\n",
    "import requests\n",
    "from bs4 import BeautifulSoup\n",
    "from time import sleep\n",
    "import sys\n",
    "import re\n",
    "import os\n",
    "\n",
    "from selenium import webdriver\n",
    "from selenium.webdriver.common.action_chains import ActionChains\n",
    "from selenium.webdriver.common.keys import Keys\n",
    "from selenium.webdriver.support.ui import WebDriverWait\n",
    "from selenium.webdriver.support import expected_conditions as EC\n",
    "from selenium.webdriver.common.by import By"
   ]
  },
  {
   "cell_type": "markdown",
   "metadata": {},
   "source": [
    "# Start up"
   ]
  },
  {
   "cell_type": "code",
   "execution_count": 2,
   "metadata": {},
   "outputs": [],
   "source": [
    "if sys.platform == 'darwin':\n",
    "    driver = webdriver.Chrome('../webdriver/chromedriver_mac')\n",
    "elif sys.platform == 'win32':\n",
    "    driver = webdriver.Chrome('../webdriver/chromedriver_win.exe')"
   ]
  },
  {
   "cell_type": "code",
   "execution_count": 3,
   "metadata": {},
   "outputs": [],
   "source": [
    "driver.get('https://bungol.ca')"
   ]
  },
  {
   "cell_type": "code",
   "execution_count": 4,
   "metadata": {},
   "outputs": [],
   "source": [
    "login = driver.find_element_by_link_text('Login/Signup')\n",
    "login.click()\n",
    "\n",
    "username = driver.find_element_by_name('username')\n",
    "password = driver.find_element_by_name('password')\n",
    "\n",
    "username.send_keys('scottw')\n",
    "password.send_keys('zojzes-dycpoQ-2nidwy')\n",
    "password.send_keys(Keys.RETURN)"
   ]
  },
  {
   "cell_type": "markdown",
   "metadata": {},
   "source": [
    "# Gather properties"
   ]
  },
  {
   "cell_type": "markdown",
   "metadata": {},
   "source": [
    "Choose an area and set filter conditions in bungol before you run the cells below"
   ]
  },
  {
   "cell_type": "code",
   "execution_count": 111,
   "metadata": {},
   "outputs": [],
   "source": [
    "urls = []\n",
    "\n",
    "leftSidebarClose = driver.find_element_by_id('leftSidebarClose')\n",
    "if not ('leftSidebarClosed' in leftSidebarClose.get_attribute('class')):\n",
    "    leftSidebarClose.click()\n",
    "\n",
    "icons = driver.find_elements_by_css_selector('div.leaflet-marker-icon')\n",
    "for icon in icons:\n",
    "    actions = ActionChains(driver)\n",
    "    actions.move_to_element(icon).perform()\n",
    "    sleep(1)\n",
    "\n",
    "    popup = driver.find_element_by_id('popup')\n",
    "    urls += [a.get_attribute('href') for a in popup.find_elements_by_tag_name('a')]\n",
    "    \n",
    "    # Clear the popup\n",
    "    driver.execute_script('arguments[0].innerHTML = \"\"', popup)"
   ]
  },
  {
   "cell_type": "code",
   "execution_count": 112,
   "metadata": {},
   "outputs": [
    {
     "data": {
      "text/plain": [
       "18"
      ]
     },
     "execution_count": 112,
     "metadata": {},
     "output_type": "execute_result"
    }
   ],
   "source": [
    "len(urls)"
   ]
  },
  {
   "cell_type": "code",
   "execution_count": 113,
   "metadata": {},
   "outputs": [
    {
     "name": "stdout",
     "output_type": "stream",
     "text": [
      "10 / 18\n"
     ]
    }
   ],
   "source": [
    "details = []\n",
    "\n",
    "# 70% of aunty's home\n",
    "standardExpenses = pd.Series({\n",
    "    'Water': 56.21,\n",
    "    'Heat': 98.41,\n",
    "    'Insurance': 71.69,\n",
    "    'CAC': 0,             # included in hydro\n",
    "    'Hydro': 106.6\n",
    "}) * 0.7\n",
    "\n",
    "for i, url in enumerate(urls):\n",
    "    if i % 10 == 0 and i > 0:\n",
    "        print(f'{i} / {len(urls)}')\n",
    "        \n",
    "    driver.get(url)\n",
    "    driver.find_element_by_link_text('Community').click()\n",
    "    \n",
    "    try:\n",
    "        wait = WebDriverWait(driver, 5, poll_frequency=1)\n",
    "        wait.until(EC.text_to_be_present_in_element((By.ID, 'listingCommunityAverageIncome'), ','))\n",
    "    except:\n",
    "        pass\n",
    "    \n",
    "    soup = BeautifulSoup(driver.page_source)\n",
    "    s = pd.Series()\n",
    "\n",
    "    # Variables whose format is <div id=\"#...\">value</div>\n",
    "    info = {\n",
    "        'Address': '#listingAddress',\n",
    "        'PropertyType': '#listingPropertyType',\n",
    "        'AvgHouseholdIncome': '#listingCommunityAverageIncome',\n",
    "        'AvgHouseholdSize': '#listingCommunityHouseholdSize'\n",
    "    }\n",
    "    \n",
    "    for variable, selector in info.items():\n",
    "        value = soup.select(selector)[0].get_text()\n",
    "        s[variable] = value\n",
    "\n",
    "    # Variables whose format is <div id=\"#...\">label: value</div>\n",
    "    info = {\n",
    "        'ListPrice': '#listingListPrice',\n",
    "        'ListingDate': '#listingContractDate',\n",
    "        'SoldDate': '#listingEndDate',\n",
    "        'SquareFootage': '#listingSummarySqFt',\n",
    "        'MaintenanceFee': '#listingSummaryMaintenanceFees',\n",
    "        'PropertyTax': '#listingSummaryTaxes',\n",
    "        'MLS': '#listingMiscMLS'\n",
    "    }\n",
    "\n",
    "    for variable, selector in info.items():\n",
    "        tmp = soup.select(selector)[0].get_text().split(':')\n",
    "        value = tmp[1] if len(tmp) == 2 else None\n",
    "        s[variable] = value\n",
    "\n",
    "    # Some special cases\n",
    "    tmp = soup.select('#listingStatus')[0].get_text().split(' - ')\n",
    "    s['Status'], s['Price'] = tmp if len(tmp) == 2 else (tmp[0], None)\n",
    "\n",
    "    tmp = soup.select('#listingBedBath')[0].get_text().split('|')\n",
    "    s['Bedrooms'], s['Bathrooms'], s['ParkingSpots'] = tmp if len(tmp) == 3 else (None, None, None)\n",
    "    \n",
    "    s = s.str.strip()\n",
    "    \n",
    "    # Monthly expense and condo fees, if applicable\n",
    "    expenses = standardExpenses.copy()\n",
    "    \n",
    "    if driver.find_element_by_id('listingCondoFeesTable') is None:\n",
    "        s['IsTaxesIncluded'] = False\n",
    "        expenses['Parking'] = 0\n",
    "    else:\n",
    "        for item in ['Water', 'Heat', 'Insurance', 'CAC', 'Hydro', 'Parking', 'Taxes']:\n",
    "            tmp = driver.find_element_by_id(f'listingCondoFeesTable{item}')\n",
    "            isCovered = 'bg-success' in tmp.get_attribute('class')\n",
    "\n",
    "            if item == 'Taxes':\n",
    "                s['IsTaxesIncluded'] = isCovered\n",
    "            elif isCovered:\n",
    "                expenses[item] = 0\n",
    "\n",
    "    s['UncoveredExpenses'] = expenses.sum()\n",
    "    s['URL'] = url\n",
    "    details.append(s)"
   ]
  },
  {
   "cell_type": "code",
   "execution_count": 114,
   "metadata": {},
   "outputs": [],
   "source": [
    "df = pd.DataFrame(details)"
   ]
  },
  {
   "cell_type": "code",
   "execution_count": 115,
   "metadata": {},
   "outputs": [],
   "source": [
    "s = df['Address'].str.extract(r'(.\\d+) - (\\d.+)', expand=True)\n",
    "s.columns = ['Unit', 'Address']\n",
    "\n",
    "df['Unit'] = s['Unit'].fillna('')\n",
    "df['Address'] = s['Address'].combine_first(df['Address'])"
   ]
  },
  {
   "cell_type": "code",
   "execution_count": 116,
   "metadata": {},
   "outputs": [],
   "source": [
    "df['PropertyType'] = df['PropertyType'].map({\n",
    "    'Condo Apartment': 'Condo',\n",
    "    'Townhouse (Condo)': 'Townhouse',\n",
    "    'Detached House': 'Detached'\n",
    "})"
   ]
  },
  {
   "cell_type": "code",
   "execution_count": 117,
   "metadata": {},
   "outputs": [],
   "source": [
    "cols = ['ListingDate', 'SoldDate']\n",
    "df[cols] = df[cols].apply(pd.to_datetime, axis=1)\n",
    "df['DaysOnMarket'] = (df['SoldDate'] - df['ListingDate']) / pd.Timedelta(days=1)"
   ]
  },
  {
   "cell_type": "code",
   "execution_count": 118,
   "metadata": {},
   "outputs": [],
   "source": [
    "cols = ['ListPrice', 'Price', 'MaintenanceFee', 'PropertyTax', 'AvgHouseholdIncome', 'AvgHouseholdSize']\n",
    "df[cols] = df[cols].apply(lambda col: col.str.replace(r'[^0-9\\.]', '')).apply(pd.to_numeric)"
   ]
  },
  {
   "cell_type": "code",
   "execution_count": 119,
   "metadata": {},
   "outputs": [],
   "source": [
    "df['AvgPersonalIncome'] = df['AvgHouseholdIncome'] / df['AvgHouseholdSize']"
   ]
  },
  {
   "cell_type": "markdown",
   "metadata": {},
   "source": [
    "The reported tax on the listing tends to be lower than it really is. We take the *greater* of the reported property tax and Toronto's property tax rate of 0.51%."
   ]
  },
  {
   "cell_type": "code",
   "execution_count": 120,
   "metadata": {},
   "outputs": [],
   "source": [
    "df['PropertyTax'] = pd.DataFrame({\n",
    "    'ReportedTax': df['PropertyTax'],\n",
    "    'CalculatedTax': df['ListPrice'] * 0.0051 / 12\n",
    "}).max(axis=1)"
   ]
  },
  {
   "cell_type": "code",
   "execution_count": 121,
   "metadata": {},
   "outputs": [],
   "source": [
    "df['MonthlyExpenses'] = df['MaintenanceFee'].fillna(0) + df['UncoveredExpenses'].fillna(0)\n",
    "\n",
    "# If maintenance fee doesn't include property tax, add that in\n",
    "cond = df['IsTaxesIncluded'] == False\n",
    "df.loc[cond, 'MonthlyExpenses'] += df.loc[cond, 'PropertyTax']\n",
    "\n",
    "df['TrueMaintenanceFee'] = df['MonthlyExpenses'] - df['PropertyTax'] - standardExpenses.sum()"
   ]
  },
  {
   "cell_type": "code",
   "execution_count": 122,
   "metadata": {},
   "outputs": [],
   "source": [
    "df['Bedrooms'] = df['Bedrooms'].apply(eval)\n",
    "\n",
    "cols = ['Bathrooms', 'ParkingSpots']\n",
    "df[cols] = df[cols].apply(pd.to_numeric)"
   ]
  },
  {
   "cell_type": "code",
   "execution_count": 123,
   "metadata": {},
   "outputs": [
    {
     "data": {
      "text/html": [
       "<style  type=\"text/css\" >\n",
       "</style><table id=\"T_93ee8a9e_c83e_11e9_92ec_b8763fda58c1\" ><thead>    <tr>        <th class=\"blank level0\" ></th>        <th class=\"col_heading level0 col0\" >PropertyType</th>        <th class=\"col_heading level0 col1\" >Unit</th>        <th class=\"col_heading level0 col2\" >Address</th>        <th class=\"col_heading level0 col3\" >Status</th>        <th class=\"col_heading level0 col4\" >SquareFootage</th>        <th class=\"col_heading level0 col5\" >ListPrice</th>        <th class=\"col_heading level0 col6\" >MonthlyExpenses</th>        <th class=\"col_heading level0 col7\" >TrueMaintenanceFee</th>        <th class=\"col_heading level0 col8\" >URL</th>        <th class=\"col_heading level0 col9\" >MLS</th>    </tr></thead><tbody>\n",
       "                <tr>\n",
       "                        <th id=\"T_93ee8a9e_c83e_11e9_92ec_b8763fda58c1level0_row0\" class=\"row_heading level0 row0\" >0</th>\n",
       "                        <td id=\"T_93ee8a9e_c83e_11e9_92ec_b8763fda58c1row0_col0\" class=\"data row0 col0\" >Condo</td>\n",
       "                        <td id=\"T_93ee8a9e_c83e_11e9_92ec_b8763fda58c1row0_col1\" class=\"data row0 col1\" >#1513</td>\n",
       "                        <td id=\"T_93ee8a9e_c83e_11e9_92ec_b8763fda58c1row0_col2\" class=\"data row0 col2\" >1 Leila Lane, North York</td>\n",
       "                        <td id=\"T_93ee8a9e_c83e_11e9_92ec_b8763fda58c1row0_col3\" class=\"data row0 col3\" >For Sale</td>\n",
       "                        <td id=\"T_93ee8a9e_c83e_11e9_92ec_b8763fda58c1row0_col4\" class=\"data row0 col4\" >600-699</td>\n",
       "                        <td id=\"T_93ee8a9e_c83e_11e9_92ec_b8763fda58c1row0_col5\" class=\"data row0 col5\" >599,000</td>\n",
       "                        <td id=\"T_93ee8a9e_c83e_11e9_92ec_b8763fda58c1row0_col6\" class=\"data row0 col6\" >807</td>\n",
       "                        <td id=\"T_93ee8a9e_c83e_11e9_92ec_b8763fda58c1row0_col7\" class=\"data row0 col7\" >319</td>\n",
       "                        <td id=\"T_93ee8a9e_c83e_11e9_92ec_b8763fda58c1row0_col8\" class=\"data row0 col8\" ><a target=\"_blank\" href=\"https://bungol.ca/listing/1-leila-lane-north-york-W4537472-3909859\">Link</a></td>\n",
       "                        <td id=\"T_93ee8a9e_c83e_11e9_92ec_b8763fda58c1row0_col9\" class=\"data row0 col9\" >W4537472</td>\n",
       "            </tr>\n",
       "            <tr>\n",
       "                        <th id=\"T_93ee8a9e_c83e_11e9_92ec_b8763fda58c1level0_row1\" class=\"row_heading level0 row1\" >1</th>\n",
       "                        <td id=\"T_93ee8a9e_c83e_11e9_92ec_b8763fda58c1row1_col0\" class=\"data row1 col0\" >Condo</td>\n",
       "                        <td id=\"T_93ee8a9e_c83e_11e9_92ec_b8763fda58c1row1_col1\" class=\"data row1 col1\" ></td>\n",
       "                        <td id=\"T_93ee8a9e_c83e_11e9_92ec_b8763fda58c1row1_col2\" class=\"data row1 col2\" >160 Flemington Rd, North York</td>\n",
       "                        <td id=\"T_93ee8a9e_c83e_11e9_92ec_b8763fda58c1row1_col3\" class=\"data row1 col3\" >For Sale</td>\n",
       "                        <td id=\"T_93ee8a9e_c83e_11e9_92ec_b8763fda58c1row1_col4\" class=\"data row1 col4\" >700-799</td>\n",
       "                        <td id=\"T_93ee8a9e_c83e_11e9_92ec_b8763fda58c1row1_col5\" class=\"data row1 col5\" >624,000</td>\n",
       "                        <td id=\"T_93ee8a9e_c83e_11e9_92ec_b8763fda58c1row1_col6\" class=\"data row1 col6\" >828</td>\n",
       "                        <td id=\"T_93ee8a9e_c83e_11e9_92ec_b8763fda58c1row1_col7\" class=\"data row1 col7\" >330</td>\n",
       "                        <td id=\"T_93ee8a9e_c83e_11e9_92ec_b8763fda58c1row1_col8\" class=\"data row1 col8\" ><a target=\"_blank\" href=\"https://bungol.ca/listing/160-flemington-road-north-york-W4527038-3900473\">Link</a></td>\n",
       "                        <td id=\"T_93ee8a9e_c83e_11e9_92ec_b8763fda58c1row1_col9\" class=\"data row1 col9\" >W4527038</td>\n",
       "            </tr>\n",
       "            <tr>\n",
       "                        <th id=\"T_93ee8a9e_c83e_11e9_92ec_b8763fda58c1level0_row2\" class=\"row_heading level0 row2\" >2</th>\n",
       "                        <td id=\"T_93ee8a9e_c83e_11e9_92ec_b8763fda58c1row2_col0\" class=\"data row2 col0\" >Condo</td>\n",
       "                        <td id=\"T_93ee8a9e_c83e_11e9_92ec_b8763fda58c1row2_col1\" class=\"data row2 col1\" >#420</td>\n",
       "                        <td id=\"T_93ee8a9e_c83e_11e9_92ec_b8763fda58c1row2_col2\" class=\"data row2 col2\" >565 Wilson Ave, North York</td>\n",
       "                        <td id=\"T_93ee8a9e_c83e_11e9_92ec_b8763fda58c1row2_col3\" class=\"data row2 col3\" >For Sale</td>\n",
       "                        <td id=\"T_93ee8a9e_c83e_11e9_92ec_b8763fda58c1row2_col4\" class=\"data row2 col4\" >700-799</td>\n",
       "                        <td id=\"T_93ee8a9e_c83e_11e9_92ec_b8763fda58c1row2_col5\" class=\"data row2 col5\" >549,990</td>\n",
       "                        <td id=\"T_93ee8a9e_c83e_11e9_92ec_b8763fda58c1row2_col6\" class=\"data row2 col6\" >836</td>\n",
       "                        <td id=\"T_93ee8a9e_c83e_11e9_92ec_b8763fda58c1row2_col7\" class=\"data row2 col7\" >369</td>\n",
       "                        <td id=\"T_93ee8a9e_c83e_11e9_92ec_b8763fda58c1row2_col8\" class=\"data row2 col8\" ><a target=\"_blank\" href=\"https://bungol.ca/listing/565-wilson-avenue-north-york-C4544670-3916459\">Link</a></td>\n",
       "                        <td id=\"T_93ee8a9e_c83e_11e9_92ec_b8763fda58c1row2_col9\" class=\"data row2 col9\" >C4544670</td>\n",
       "            </tr>\n",
       "            <tr>\n",
       "                        <th id=\"T_93ee8a9e_c83e_11e9_92ec_b8763fda58c1level0_row3\" class=\"row_heading level0 row3\" >3</th>\n",
       "                        <td id=\"T_93ee8a9e_c83e_11e9_92ec_b8763fda58c1row3_col0\" class=\"data row3 col0\" >Townhouse</td>\n",
       "                        <td id=\"T_93ee8a9e_c83e_11e9_92ec_b8763fda58c1row3_col1\" class=\"data row3 col1\" >#63</td>\n",
       "                        <td id=\"T_93ee8a9e_c83e_11e9_92ec_b8763fda58c1row3_col2\" class=\"data row3 col2\" >68 Winston Park Blvd, North York</td>\n",
       "                        <td id=\"T_93ee8a9e_c83e_11e9_92ec_b8763fda58c1row3_col3\" class=\"data row3 col3\" >For Sale</td>\n",
       "                        <td id=\"T_93ee8a9e_c83e_11e9_92ec_b8763fda58c1row3_col4\" class=\"data row3 col4\" >1000-1199</td>\n",
       "                        <td id=\"T_93ee8a9e_c83e_11e9_92ec_b8763fda58c1row3_col5\" class=\"data row3 col5\" >559,999</td>\n",
       "                        <td id=\"T_93ee8a9e_c83e_11e9_92ec_b8763fda58c1row3_col6\" class=\"data row3 col6\" >869</td>\n",
       "                        <td id=\"T_93ee8a9e_c83e_11e9_92ec_b8763fda58c1row3_col7\" class=\"data row3 col7\" >398</td>\n",
       "                        <td id=\"T_93ee8a9e_c83e_11e9_92ec_b8763fda58c1row3_col8\" class=\"data row3 col8\" ><a target=\"_blank\" href=\"https://bungol.ca/listing/68-winston-park-boulevard-north-york-W4537312-3909710\">Link</a></td>\n",
       "                        <td id=\"T_93ee8a9e_c83e_11e9_92ec_b8763fda58c1row3_col9\" class=\"data row3 col9\" >W4537312</td>\n",
       "            </tr>\n",
       "            <tr>\n",
       "                        <th id=\"T_93ee8a9e_c83e_11e9_92ec_b8763fda58c1level0_row4\" class=\"row_heading level0 row4\" >4</th>\n",
       "                        <td id=\"T_93ee8a9e_c83e_11e9_92ec_b8763fda58c1row4_col0\" class=\"data row4 col0\" >Condo</td>\n",
       "                        <td id=\"T_93ee8a9e_c83e_11e9_92ec_b8763fda58c1row4_col1\" class=\"data row4 col1\" >#518</td>\n",
       "                        <td id=\"T_93ee8a9e_c83e_11e9_92ec_b8763fda58c1row4_col2\" class=\"data row4 col2\" >650 Lawrence Ave W, North York</td>\n",
       "                        <td id=\"T_93ee8a9e_c83e_11e9_92ec_b8763fda58c1row4_col3\" class=\"data row4 col3\" >For Sale</td>\n",
       "                        <td id=\"T_93ee8a9e_c83e_11e9_92ec_b8763fda58c1row4_col4\" class=\"data row4 col4\" >900-999</td>\n",
       "                        <td id=\"T_93ee8a9e_c83e_11e9_92ec_b8763fda58c1row4_col5\" class=\"data row4 col5\" >589,900</td>\n",
       "                        <td id=\"T_93ee8a9e_c83e_11e9_92ec_b8763fda58c1row4_col6\" class=\"data row4 col6\" >876</td>\n",
       "                        <td id=\"T_93ee8a9e_c83e_11e9_92ec_b8763fda58c1row4_col7\" class=\"data row4 col7\" >392</td>\n",
       "                        <td id=\"T_93ee8a9e_c83e_11e9_92ec_b8763fda58c1row4_col8\" class=\"data row4 col8\" ><a target=\"_blank\" href=\"https://bungol.ca/listing/650-lawrence-avenue-west-north-york-C4548224-3919745\">Link</a></td>\n",
       "                        <td id=\"T_93ee8a9e_c83e_11e9_92ec_b8763fda58c1row4_col9\" class=\"data row4 col9\" >C4548224</td>\n",
       "            </tr>\n",
       "            <tr>\n",
       "                        <th id=\"T_93ee8a9e_c83e_11e9_92ec_b8763fda58c1level0_row5\" class=\"row_heading level0 row5\" >5</th>\n",
       "                        <td id=\"T_93ee8a9e_c83e_11e9_92ec_b8763fda58c1row5_col0\" class=\"data row5 col0\" >Condo</td>\n",
       "                        <td id=\"T_93ee8a9e_c83e_11e9_92ec_b8763fda58c1row5_col1\" class=\"data row5 col1\" >#411</td>\n",
       "                        <td id=\"T_93ee8a9e_c83e_11e9_92ec_b8763fda58c1row5_col2\" class=\"data row5 col2\" >525 Wilson Ave, North York</td>\n",
       "                        <td id=\"T_93ee8a9e_c83e_11e9_92ec_b8763fda58c1row5_col3\" class=\"data row5 col3\" >For Sale</td>\n",
       "                        <td id=\"T_93ee8a9e_c83e_11e9_92ec_b8763fda58c1row5_col4\" class=\"data row5 col4\" >800-899</td>\n",
       "                        <td id=\"T_93ee8a9e_c83e_11e9_92ec_b8763fda58c1row5_col5\" class=\"data row5 col5\" >599,900</td>\n",
       "                        <td id=\"T_93ee8a9e_c83e_11e9_92ec_b8763fda58c1row5_col6\" class=\"data row5 col6\" >892</td>\n",
       "                        <td id=\"T_93ee8a9e_c83e_11e9_92ec_b8763fda58c1row5_col7\" class=\"data row5 col7\" >404</td>\n",
       "                        <td id=\"T_93ee8a9e_c83e_11e9_92ec_b8763fda58c1row5_col8\" class=\"data row5 col8\" ><a target=\"_blank\" href=\"https://bungol.ca/listing/525-wilson-avenue-north-york-C4530925-3903984\">Link</a></td>\n",
       "                        <td id=\"T_93ee8a9e_c83e_11e9_92ec_b8763fda58c1row5_col9\" class=\"data row5 col9\" >C4530925</td>\n",
       "            </tr>\n",
       "            <tr>\n",
       "                        <th id=\"T_93ee8a9e_c83e_11e9_92ec_b8763fda58c1level0_row6\" class=\"row_heading level0 row6\" >6</th>\n",
       "                        <td id=\"T_93ee8a9e_c83e_11e9_92ec_b8763fda58c1row6_col0\" class=\"data row6 col0\" >Townhouse</td>\n",
       "                        <td id=\"T_93ee8a9e_c83e_11e9_92ec_b8763fda58c1row6_col1\" class=\"data row6 col1\" >#2167</td>\n",
       "                        <td id=\"T_93ee8a9e_c83e_11e9_92ec_b8763fda58c1row6_col2\" class=\"data row6 col2\" >95 George Appleton Way, North York</td>\n",
       "                        <td id=\"T_93ee8a9e_c83e_11e9_92ec_b8763fda58c1row6_col3\" class=\"data row6 col3\" >Offer Pending</td>\n",
       "                        <td id=\"T_93ee8a9e_c83e_11e9_92ec_b8763fda58c1row6_col4\" class=\"data row6 col4\" >1400-1599</td>\n",
       "                        <td id=\"T_93ee8a9e_c83e_11e9_92ec_b8763fda58c1row6_col5\" class=\"data row6 col5\" >588,000</td>\n",
       "                        <td id=\"T_93ee8a9e_c83e_11e9_92ec_b8763fda58c1row6_col6\" class=\"data row6 col6\" >903</td>\n",
       "                        <td id=\"T_93ee8a9e_c83e_11e9_92ec_b8763fda58c1row6_col7\" class=\"data row6 col7\" >420</td>\n",
       "                        <td id=\"T_93ee8a9e_c83e_11e9_92ec_b8763fda58c1row6_col8\" class=\"data row6 col8\" ><a target=\"_blank\" href=\"https://bungol.ca/listing/95-george-appleton-way-north-york-W4537919-3910256\">Link</a></td>\n",
       "                        <td id=\"T_93ee8a9e_c83e_11e9_92ec_b8763fda58c1row6_col9\" class=\"data row6 col9\" >W4537919</td>\n",
       "            </tr>\n",
       "            <tr>\n",
       "                        <th id=\"T_93ee8a9e_c83e_11e9_92ec_b8763fda58c1level0_row7\" class=\"row_heading level0 row7\" >7</th>\n",
       "                        <td id=\"T_93ee8a9e_c83e_11e9_92ec_b8763fda58c1row7_col0\" class=\"data row7 col0\" >Townhouse</td>\n",
       "                        <td id=\"T_93ee8a9e_c83e_11e9_92ec_b8763fda58c1row7_col1\" class=\"data row7 col1\" >#11</td>\n",
       "                        <td id=\"T_93ee8a9e_c83e_11e9_92ec_b8763fda58c1row7_col2\" class=\"data row7 col2\" >68 Winston Park Blvd, North York</td>\n",
       "                        <td id=\"T_93ee8a9e_c83e_11e9_92ec_b8763fda58c1row7_col3\" class=\"data row7 col3\" >For Sale</td>\n",
       "                        <td id=\"T_93ee8a9e_c83e_11e9_92ec_b8763fda58c1row7_col4\" class=\"data row7 col4\" >1000-1199</td>\n",
       "                        <td id=\"T_93ee8a9e_c83e_11e9_92ec_b8763fda58c1row7_col5\" class=\"data row7 col5\" >585,000</td>\n",
       "                        <td id=\"T_93ee8a9e_c83e_11e9_92ec_b8763fda58c1row7_col6\" class=\"data row7 col6\" >906</td>\n",
       "                        <td id=\"T_93ee8a9e_c83e_11e9_92ec_b8763fda58c1row7_col7\" class=\"data row7 col7\" >425</td>\n",
       "                        <td id=\"T_93ee8a9e_c83e_11e9_92ec_b8763fda58c1row7_col8\" class=\"data row7 col8\" ><a target=\"_blank\" href=\"https://bungol.ca/listing/68-winston-park-boulevard-north-york-W4335426-3727497\">Link</a></td>\n",
       "                        <td id=\"T_93ee8a9e_c83e_11e9_92ec_b8763fda58c1row7_col9\" class=\"data row7 col9\" >W4335426</td>\n",
       "            </tr>\n",
       "            <tr>\n",
       "                        <th id=\"T_93ee8a9e_c83e_11e9_92ec_b8763fda58c1level0_row8\" class=\"row_heading level0 row8\" >8</th>\n",
       "                        <td id=\"T_93ee8a9e_c83e_11e9_92ec_b8763fda58c1row8_col0\" class=\"data row8 col0\" >Condo</td>\n",
       "                        <td id=\"T_93ee8a9e_c83e_11e9_92ec_b8763fda58c1row8_col1\" class=\"data row8 col1\" >#606</td>\n",
       "                        <td id=\"T_93ee8a9e_c83e_11e9_92ec_b8763fda58c1row8_col2\" class=\"data row8 col2\" >130 Neptune Dr, North York</td>\n",
       "                        <td id=\"T_93ee8a9e_c83e_11e9_92ec_b8763fda58c1row8_col3\" class=\"data row8 col3\" >For Sale</td>\n",
       "                        <td id=\"T_93ee8a9e_c83e_11e9_92ec_b8763fda58c1row8_col4\" class=\"data row8 col4\" >1200-1399</td>\n",
       "                        <td id=\"T_93ee8a9e_c83e_11e9_92ec_b8763fda58c1row8_col5\" class=\"data row8 col5\" >479,900</td>\n",
       "                        <td id=\"T_93ee8a9e_c83e_11e9_92ec_b8763fda58c1row8_col6\" class=\"data row8 col6\" >948</td>\n",
       "                        <td id=\"T_93ee8a9e_c83e_11e9_92ec_b8763fda58c1row8_col7\" class=\"data row8 col7\" >511</td>\n",
       "                        <td id=\"T_93ee8a9e_c83e_11e9_92ec_b8763fda58c1row8_col8\" class=\"data row8 col8\" ><a target=\"_blank\" href=\"https://bungol.ca/listing/130-neptune-drive-north-york-C4478284-3855940\">Link</a></td>\n",
       "                        <td id=\"T_93ee8a9e_c83e_11e9_92ec_b8763fda58c1row8_col9\" class=\"data row8 col9\" >C4478284</td>\n",
       "            </tr>\n",
       "            <tr>\n",
       "                        <th id=\"T_93ee8a9e_c83e_11e9_92ec_b8763fda58c1level0_row9\" class=\"row_heading level0 row9\" >9</th>\n",
       "                        <td id=\"T_93ee8a9e_c83e_11e9_92ec_b8763fda58c1row9_col0\" class=\"data row9 col0\" >Condo</td>\n",
       "                        <td id=\"T_93ee8a9e_c83e_11e9_92ec_b8763fda58c1row9_col1\" class=\"data row9 col1\" >-320</td>\n",
       "                        <td id=\"T_93ee8a9e_c83e_11e9_92ec_b8763fda58c1row9_col2\" class=\"data row9 col2\" >555 Wilson Ave, North York</td>\n",
       "                        <td id=\"T_93ee8a9e_c83e_11e9_92ec_b8763fda58c1row9_col3\" class=\"data row9 col3\" >For Sale</td>\n",
       "                        <td id=\"T_93ee8a9e_c83e_11e9_92ec_b8763fda58c1row9_col4\" class=\"data row9 col4\" >900-999</td>\n",
       "                        <td id=\"T_93ee8a9e_c83e_11e9_92ec_b8763fda58c1row9_col5\" class=\"data row9 col5\" >649,800</td>\n",
       "                        <td id=\"T_93ee8a9e_c83e_11e9_92ec_b8763fda58c1row9_col6\" class=\"data row9 col6\" >973</td>\n",
       "                        <td id=\"T_93ee8a9e_c83e_11e9_92ec_b8763fda58c1row9_col7\" class=\"data row9 col7\" >464</td>\n",
       "                        <td id=\"T_93ee8a9e_c83e_11e9_92ec_b8763fda58c1row9_col8\" class=\"data row9 col8\" ><a target=\"_blank\" href=\"https://bungol.ca/listing/555-wilson-avenue-north-york-C4556015-3926867\">Link</a></td>\n",
       "                        <td id=\"T_93ee8a9e_c83e_11e9_92ec_b8763fda58c1row9_col9\" class=\"data row9 col9\" >C4556015</td>\n",
       "            </tr>\n",
       "            <tr>\n",
       "                        <th id=\"T_93ee8a9e_c83e_11e9_92ec_b8763fda58c1level0_row10\" class=\"row_heading level0 row10\" >10</th>\n",
       "                        <td id=\"T_93ee8a9e_c83e_11e9_92ec_b8763fda58c1row10_col0\" class=\"data row10 col0\" >Condo</td>\n",
       "                        <td id=\"T_93ee8a9e_c83e_11e9_92ec_b8763fda58c1row10_col1\" class=\"data row10 col1\" >#1208</td>\n",
       "                        <td id=\"T_93ee8a9e_c83e_11e9_92ec_b8763fda58c1row10_col2\" class=\"data row10 col2\" >130 Neptune Dr, North York</td>\n",
       "                        <td id=\"T_93ee8a9e_c83e_11e9_92ec_b8763fda58c1row10_col3\" class=\"data row10 col3\" >For Sale</td>\n",
       "                        <td id=\"T_93ee8a9e_c83e_11e9_92ec_b8763fda58c1row10_col4\" class=\"data row10 col4\" >1200-1399</td>\n",
       "                        <td id=\"T_93ee8a9e_c83e_11e9_92ec_b8763fda58c1row10_col5\" class=\"data row10 col5\" >459,000</td>\n",
       "                        <td id=\"T_93ee8a9e_c83e_11e9_92ec_b8763fda58c1row10_col6\" class=\"data row10 col6\" >978</td>\n",
       "                        <td id=\"T_93ee8a9e_c83e_11e9_92ec_b8763fda58c1row10_col7\" class=\"data row10 col7\" >550</td>\n",
       "                        <td id=\"T_93ee8a9e_c83e_11e9_92ec_b8763fda58c1row10_col8\" class=\"data row10 col8\" ><a target=\"_blank\" href=\"https://bungol.ca/listing/130-neptune-drive-north-york-C4555081-3926023\">Link</a></td>\n",
       "                        <td id=\"T_93ee8a9e_c83e_11e9_92ec_b8763fda58c1row10_col9\" class=\"data row10 col9\" >C4555081</td>\n",
       "            </tr>\n",
       "            <tr>\n",
       "                        <th id=\"T_93ee8a9e_c83e_11e9_92ec_b8763fda58c1level0_row11\" class=\"row_heading level0 row11\" >11</th>\n",
       "                        <td id=\"T_93ee8a9e_c83e_11e9_92ec_b8763fda58c1row11_col0\" class=\"data row11 col0\" >Townhouse</td>\n",
       "                        <td id=\"T_93ee8a9e_c83e_11e9_92ec_b8763fda58c1row11_col1\" class=\"data row11 col1\" >#310</td>\n",
       "                        <td id=\"T_93ee8a9e_c83e_11e9_92ec_b8763fda58c1row11_col2\" class=\"data row11 col2\" >155 Leeward Glwy, North York</td>\n",
       "                        <td id=\"T_93ee8a9e_c83e_11e9_92ec_b8763fda58c1row11_col3\" class=\"data row11 col3\" >For Sale</td>\n",
       "                        <td id=\"T_93ee8a9e_c83e_11e9_92ec_b8763fda58c1row11_col4\" class=\"data row11 col4\" >1000-1199</td>\n",
       "                        <td id=\"T_93ee8a9e_c83e_11e9_92ec_b8763fda58c1row11_col5\" class=\"data row11 col5\" >489,900</td>\n",
       "                        <td id=\"T_93ee8a9e_c83e_11e9_92ec_b8763fda58c1row11_col6\" class=\"data row11 col6\" >1,012</td>\n",
       "                        <td id=\"T_93ee8a9e_c83e_11e9_92ec_b8763fda58c1row11_col7\" class=\"data row11 col7\" >570</td>\n",
       "                        <td id=\"T_93ee8a9e_c83e_11e9_92ec_b8763fda58c1row11_col8\" class=\"data row11 col8\" ><a target=\"_blank\" href=\"https://bungol.ca/listing/155-leeward-glenway-north-york-C4514673-3889216\">Link</a></td>\n",
       "                        <td id=\"T_93ee8a9e_c83e_11e9_92ec_b8763fda58c1row11_col9\" class=\"data row11 col9\" >C4514673</td>\n",
       "            </tr>\n",
       "            <tr>\n",
       "                        <th id=\"T_93ee8a9e_c83e_11e9_92ec_b8763fda58c1level0_row12\" class=\"row_heading level0 row12\" >12</th>\n",
       "                        <td id=\"T_93ee8a9e_c83e_11e9_92ec_b8763fda58c1row12_col0\" class=\"data row12 col0\" >Condo</td>\n",
       "                        <td id=\"T_93ee8a9e_c83e_11e9_92ec_b8763fda58c1row12_col1\" class=\"data row12 col1\" >#1402</td>\n",
       "                        <td id=\"T_93ee8a9e_c83e_11e9_92ec_b8763fda58c1row12_col2\" class=\"data row12 col2\" >130 Neptune Dr, North York</td>\n",
       "                        <td id=\"T_93ee8a9e_c83e_11e9_92ec_b8763fda58c1row12_col3\" class=\"data row12 col3\" >For Sale</td>\n",
       "                        <td id=\"T_93ee8a9e_c83e_11e9_92ec_b8763fda58c1row12_col4\" class=\"data row12 col4\" >1400-1599</td>\n",
       "                        <td id=\"T_93ee8a9e_c83e_11e9_92ec_b8763fda58c1row12_col5\" class=\"data row12 col5\" >549,000</td>\n",
       "                        <td id=\"T_93ee8a9e_c83e_11e9_92ec_b8763fda58c1row12_col6\" class=\"data row12 col6\" >1,131</td>\n",
       "                        <td id=\"T_93ee8a9e_c83e_11e9_92ec_b8763fda58c1row12_col7\" class=\"data row12 col7\" >665</td>\n",
       "                        <td id=\"T_93ee8a9e_c83e_11e9_92ec_b8763fda58c1row12_col8\" class=\"data row12 col8\" ><a target=\"_blank\" href=\"https://bungol.ca/listing/130-neptune-drive-north-york-C4496313-3872518\">Link</a></td>\n",
       "                        <td id=\"T_93ee8a9e_c83e_11e9_92ec_b8763fda58c1row12_col9\" class=\"data row12 col9\" >C4496313</td>\n",
       "            </tr>\n",
       "            <tr>\n",
       "                        <th id=\"T_93ee8a9e_c83e_11e9_92ec_b8763fda58c1level0_row13\" class=\"row_heading level0 row13\" >13</th>\n",
       "                        <td id=\"T_93ee8a9e_c83e_11e9_92ec_b8763fda58c1row13_col0\" class=\"data row13 col0\" >Condo</td>\n",
       "                        <td id=\"T_93ee8a9e_c83e_11e9_92ec_b8763fda58c1row13_col1\" class=\"data row13 col1\" >#808</td>\n",
       "                        <td id=\"T_93ee8a9e_c83e_11e9_92ec_b8763fda58c1row13_col2\" class=\"data row13 col2\" >3840 Bathurst St, North York</td>\n",
       "                        <td id=\"T_93ee8a9e_c83e_11e9_92ec_b8763fda58c1row13_col3\" class=\"data row13 col3\" >Offer Pending</td>\n",
       "                        <td id=\"T_93ee8a9e_c83e_11e9_92ec_b8763fda58c1row13_col4\" class=\"data row13 col4\" >1000-1199</td>\n",
       "                        <td id=\"T_93ee8a9e_c83e_11e9_92ec_b8763fda58c1row13_col5\" class=\"data row13 col5\" >624,900</td>\n",
       "                        <td id=\"T_93ee8a9e_c83e_11e9_92ec_b8763fda58c1row13_col6\" class=\"data row13 col6\" >1,201</td>\n",
       "                        <td id=\"T_93ee8a9e_c83e_11e9_92ec_b8763fda58c1row13_col7\" class=\"data row13 col7\" >702</td>\n",
       "                        <td id=\"T_93ee8a9e_c83e_11e9_92ec_b8763fda58c1row13_col8\" class=\"data row13 col8\" ><a target=\"_blank\" href=\"https://bungol.ca/listing/3840-bathurst-street-north-york-C4531859-3904807\">Link</a></td>\n",
       "                        <td id=\"T_93ee8a9e_c83e_11e9_92ec_b8763fda58c1row13_col9\" class=\"data row13 col9\" >C4531859</td>\n",
       "            </tr>\n",
       "            <tr>\n",
       "                        <th id=\"T_93ee8a9e_c83e_11e9_92ec_b8763fda58c1level0_row14\" class=\"row_heading level0 row14\" >14</th>\n",
       "                        <td id=\"T_93ee8a9e_c83e_11e9_92ec_b8763fda58c1row14_col0\" class=\"data row14 col0\" >Condo</td>\n",
       "                        <td id=\"T_93ee8a9e_c83e_11e9_92ec_b8763fda58c1row14_col1\" class=\"data row14 col1\" >#406</td>\n",
       "                        <td id=\"T_93ee8a9e_c83e_11e9_92ec_b8763fda58c1row14_col2\" class=\"data row14 col2\" >150 Neptune Dr, North York</td>\n",
       "                        <td id=\"T_93ee8a9e_c83e_11e9_92ec_b8763fda58c1row14_col3\" class=\"data row14 col3\" >For Sale</td>\n",
       "                        <td id=\"T_93ee8a9e_c83e_11e9_92ec_b8763fda58c1row14_col4\" class=\"data row14 col4\" >1400-1599</td>\n",
       "                        <td id=\"T_93ee8a9e_c83e_11e9_92ec_b8763fda58c1row14_col5\" class=\"data row14 col5\" >489,000</td>\n",
       "                        <td id=\"T_93ee8a9e_c83e_11e9_92ec_b8763fda58c1row14_col6\" class=\"data row14 col6\" >1,267</td>\n",
       "                        <td id=\"T_93ee8a9e_c83e_11e9_92ec_b8763fda58c1row14_col7\" class=\"data row14 col7\" >826</td>\n",
       "                        <td id=\"T_93ee8a9e_c83e_11e9_92ec_b8763fda58c1row14_col8\" class=\"data row14 col8\" ><a target=\"_blank\" href=\"https://bungol.ca/listing/150-neptune-drive-north-york-C4556939-3927735\">Link</a></td>\n",
       "                        <td id=\"T_93ee8a9e_c83e_11e9_92ec_b8763fda58c1row14_col9\" class=\"data row14 col9\" >C4556939</td>\n",
       "            </tr>\n",
       "            <tr>\n",
       "                        <th id=\"T_93ee8a9e_c83e_11e9_92ec_b8763fda58c1level0_row15\" class=\"row_heading level0 row15\" >15</th>\n",
       "                        <td id=\"T_93ee8a9e_c83e_11e9_92ec_b8763fda58c1row15_col0\" class=\"data row15 col0\" >Condo</td>\n",
       "                        <td id=\"T_93ee8a9e_c83e_11e9_92ec_b8763fda58c1row15_col1\" class=\"data row15 col1\" >#1003</td>\n",
       "                        <td id=\"T_93ee8a9e_c83e_11e9_92ec_b8763fda58c1row15_col2\" class=\"data row15 col2\" >150 Neptune Dr, North York</td>\n",
       "                        <td id=\"T_93ee8a9e_c83e_11e9_92ec_b8763fda58c1row15_col3\" class=\"data row15 col3\" >For Sale</td>\n",
       "                        <td id=\"T_93ee8a9e_c83e_11e9_92ec_b8763fda58c1row15_col4\" class=\"data row15 col4\" >1200-1399</td>\n",
       "                        <td id=\"T_93ee8a9e_c83e_11e9_92ec_b8763fda58c1row15_col5\" class=\"data row15 col5\" >490,000</td>\n",
       "                        <td id=\"T_93ee8a9e_c83e_11e9_92ec_b8763fda58c1row15_col6\" class=\"data row15 col6\" >1,267</td>\n",
       "                        <td id=\"T_93ee8a9e_c83e_11e9_92ec_b8763fda58c1row15_col7\" class=\"data row15 col7\" >826</td>\n",
       "                        <td id=\"T_93ee8a9e_c83e_11e9_92ec_b8763fda58c1row15_col8\" class=\"data row15 col8\" ><a target=\"_blank\" href=\"https://bungol.ca/listing/150-neptune-drive-north-york-C4533114-3905943\">Link</a></td>\n",
       "                        <td id=\"T_93ee8a9e_c83e_11e9_92ec_b8763fda58c1row15_col9\" class=\"data row15 col9\" >C4533114</td>\n",
       "            </tr>\n",
       "            <tr>\n",
       "                        <th id=\"T_93ee8a9e_c83e_11e9_92ec_b8763fda58c1level0_row16\" class=\"row_heading level0 row16\" >16</th>\n",
       "                        <td id=\"T_93ee8a9e_c83e_11e9_92ec_b8763fda58c1row16_col0\" class=\"data row16 col0\" >Condo</td>\n",
       "                        <td id=\"T_93ee8a9e_c83e_11e9_92ec_b8763fda58c1row16_col1\" class=\"data row16 col1\" >#601</td>\n",
       "                        <td id=\"T_93ee8a9e_c83e_11e9_92ec_b8763fda58c1row16_col2\" class=\"data row16 col2\" >3555 Bathurst St, North York</td>\n",
       "                        <td id=\"T_93ee8a9e_c83e_11e9_92ec_b8763fda58c1row16_col3\" class=\"data row16 col3\" >For Sale</td>\n",
       "                        <td id=\"T_93ee8a9e_c83e_11e9_92ec_b8763fda58c1row16_col4\" class=\"data row16 col4\" >900-999</td>\n",
       "                        <td id=\"T_93ee8a9e_c83e_11e9_92ec_b8763fda58c1row16_col5\" class=\"data row16 col5\" >379,000</td>\n",
       "                        <td id=\"T_93ee8a9e_c83e_11e9_92ec_b8763fda58c1row16_col6\" class=\"data row16 col6\" >1,290</td>\n",
       "                        <td id=\"T_93ee8a9e_c83e_11e9_92ec_b8763fda58c1row16_col7\" class=\"data row16 col7\" >896</td>\n",
       "                        <td id=\"T_93ee8a9e_c83e_11e9_92ec_b8763fda58c1row16_col8\" class=\"data row16 col8\" ><a target=\"_blank\" href=\"https://bungol.ca/listing/3555-bathurst-street-north-york-C4522667-3896477\">Link</a></td>\n",
       "                        <td id=\"T_93ee8a9e_c83e_11e9_92ec_b8763fda58c1row16_col9\" class=\"data row16 col9\" >C4522667</td>\n",
       "            </tr>\n",
       "            <tr>\n",
       "                        <th id=\"T_93ee8a9e_c83e_11e9_92ec_b8763fda58c1level0_row17\" class=\"row_heading level0 row17\" >17</th>\n",
       "                        <td id=\"T_93ee8a9e_c83e_11e9_92ec_b8763fda58c1row17_col0\" class=\"data row17 col0\" >Condo</td>\n",
       "                        <td id=\"T_93ee8a9e_c83e_11e9_92ec_b8763fda58c1row17_col1\" class=\"data row17 col1\" >#1004</td>\n",
       "                        <td id=\"T_93ee8a9e_c83e_11e9_92ec_b8763fda58c1row17_col2\" class=\"data row17 col2\" >150 Neptune Dr, North York</td>\n",
       "                        <td id=\"T_93ee8a9e_c83e_11e9_92ec_b8763fda58c1row17_col3\" class=\"data row17 col3\" >For Sale</td>\n",
       "                        <td id=\"T_93ee8a9e_c83e_11e9_92ec_b8763fda58c1row17_col4\" class=\"data row17 col4\" >1400-1599</td>\n",
       "                        <td id=\"T_93ee8a9e_c83e_11e9_92ec_b8763fda58c1row17_col5\" class=\"data row17 col5\" >599,000</td>\n",
       "                        <td id=\"T_93ee8a9e_c83e_11e9_92ec_b8763fda58c1row17_col6\" class=\"data row17 col6\" >1,314</td>\n",
       "                        <td id=\"T_93ee8a9e_c83e_11e9_92ec_b8763fda58c1row17_col7\" class=\"data row17 col7\" >826</td>\n",
       "                        <td id=\"T_93ee8a9e_c83e_11e9_92ec_b8763fda58c1row17_col8\" class=\"data row17 col8\" ><a target=\"_blank\" href=\"https://bungol.ca/listing/150-neptune-drive-north-york-C4524793-3898489\">Link</a></td>\n",
       "                        <td id=\"T_93ee8a9e_c83e_11e9_92ec_b8763fda58c1row17_col9\" class=\"data row17 col9\" >C4524793</td>\n",
       "            </tr>\n",
       "    </tbody></table>"
      ],
      "text/plain": [
       "<pandas.io.formats.style.Styler at 0x1e049748>"
      ]
     },
     "execution_count": 123,
     "metadata": {},
     "output_type": "execute_result"
    }
   ],
   "source": [
    "def make_hyperlink(cell):\n",
    "    return f'<a target=\"_blank\" href=\"{cell}\">Link</a>'\n",
    "    \n",
    "result = df[['PropertyType', 'Unit', 'Address', 'Status', 'SquareFootage', 'ListPrice', 'MonthlyExpenses', 'TrueMaintenanceFee', 'URL', 'MLS']] \\\n",
    "            .sort_values('MonthlyExpenses').reset_index(drop=True) \\\n",
    "            .style.format({\n",
    "                'ListPrice': '{:,.0f}',\n",
    "                'PropertyTax': '{:,.2f}',\n",
    "                'MonthlyExpenses': '{:,.0f}',\n",
    "                'TrueMaintenanceFee': '{:,.0f}',\n",
    "                'AvgPersonalIncome': '{:,.0f}',\n",
    "                'URL': make_hyperlink\n",
    "            })\n",
    "result"
   ]
  },
  {
   "cell_type": "markdown",
   "metadata": {},
   "source": [
    "# Export"
   ]
  },
  {
   "cell_type": "code",
   "execution_count": 124,
   "metadata": {},
   "outputs": [],
   "source": [
    "# result.to_excel('./result.xlsx', index=False)"
   ]
  },
  {
   "cell_type": "code",
   "execution_count": null,
   "metadata": {},
   "outputs": [],
   "source": []
  }
 ],
 "metadata": {
  "kernelspec": {
   "display_name": "Python 3",
   "language": "python",
   "name": "python3"
  },
  "language_info": {
   "codemirror_mode": {
    "name": "ipython",
    "version": 3
   },
   "file_extension": ".py",
   "mimetype": "text/x-python",
   "name": "python",
   "nbconvert_exporter": "python",
   "pygments_lexer": "ipython3",
   "version": "3.7.3"
  }
 },
 "nbformat": 4,
 "nbformat_minor": 4
}
