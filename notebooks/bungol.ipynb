{
 "cells": [
  {
   "cell_type": "code",
   "execution_count": 7,
   "metadata": {},
   "outputs": [],
   "source": [
    "import numpy as np\n",
    "import pandas as pd\n",
    "import requests\n",
    "from bs4 import BeautifulSoup\n",
    "from time import sleep\n",
    "import sys\n",
    "import re\n",
    "import os\n",
    "\n",
    "from selenium import webdriver\n",
    "from selenium.webdriver.common.action_chains import ActionChains\n",
    "from selenium.webdriver.common.keys import Keys\n",
    "from selenium.webdriver.support.ui import WebDriverWait\n",
    "from selenium.webdriver.support import expected_conditions as EC\n",
    "from selenium.webdriver.common.by import By"
   ]
  },
  {
   "cell_type": "markdown",
   "metadata": {},
   "source": [
    "# Start up"
   ]
  },
  {
   "cell_type": "code",
   "execution_count": 8,
   "metadata": {},
   "outputs": [],
   "source": [
    "if sys.platform == 'darwin':\n",
    "    driver = webdriver.Chrome('../webdriver/chromedriver_mac')\n",
    "elif sys.platform == 'win32':\n",
    "    driver = webdriver.Chrome('../webdriver/chromedriver_win.exe')"
   ]
  },
  {
   "cell_type": "code",
   "execution_count": 9,
   "metadata": {},
   "outputs": [],
   "source": [
    "driver.get('https://bungol.ca')"
   ]
  },
  {
   "cell_type": "code",
   "execution_count": 10,
   "metadata": {},
   "outputs": [],
   "source": [
    "login = driver.find_element_by_link_text('Login/Signup')\n",
    "login.click()\n",
    "\n",
    "username = driver.find_element_by_name('username')\n",
    "password = driver.find_element_by_name('password')\n",
    "\n",
    "username.send_keys('scottw')\n",
    "password.send_keys('zojzes-dycpoQ-2nidwy')\n",
    "password.send_keys(Keys.RETURN)"
   ]
  },
  {
   "cell_type": "markdown",
   "metadata": {},
   "source": [
    "# Gather properties"
   ]
  },
  {
   "cell_type": "markdown",
   "metadata": {},
   "source": [
    "Choose an area and set filter conditions in bungol before you run the cells below"
   ]
  },
  {
   "cell_type": "code",
   "execution_count": 78,
   "metadata": {},
   "outputs": [],
   "source": [
    "urls = []\n",
    "\n",
    "leftSidebarClose = driver.find_element_by_id('leftSidebarClose')\n",
    "if not ('leftSidebarClosed' in leftSidebarClose.get_attribute('class')):\n",
    "    leftSidebarClose.click()\n",
    "\n",
    "icons = driver.find_elements_by_css_selector('div.leaflet-marker-icon')\n",
    "for icon in icons:\n",
    "    actions = ActionChains(driver)\n",
    "    actions.move_to_element(icon).perform()\n",
    "    sleep(1)\n",
    "\n",
    "    popup = driver.find_element_by_id('popup')\n",
    "    urls += [a.get_attribute('href') for a in popup.find_elements_by_tag_name('a')]\n",
    "    \n",
    "    # Clear the popup\n",
    "    driver.execute_script('arguments[0].innerHTML = \"\"', popup)"
   ]
  },
  {
   "cell_type": "code",
   "execution_count": 79,
   "metadata": {},
   "outputs": [
    {
     "data": {
      "text/plain": [
       "15"
      ]
     },
     "execution_count": 79,
     "metadata": {},
     "output_type": "execute_result"
    }
   ],
   "source": [
    "len(urls)"
   ]
  },
  {
   "cell_type": "code",
   "execution_count": 80,
   "metadata": {},
   "outputs": [
    {
     "name": "stdout",
     "output_type": "stream",
     "text": [
      "10 / 15\n"
     ]
    }
   ],
   "source": [
    "details = []\n",
    "\n",
    "# 70% of aunty's home\n",
    "standardExpenses = pd.Series({\n",
    "    'Water': 56.21,\n",
    "    'Heat': 98.41,\n",
    "    'Insurance': 71.69,\n",
    "    'CAC': 0,             # included in hydro\n",
    "    'Hydro': 106.6\n",
    "}) * 0.7\n",
    "\n",
    "for i, url in enumerate(urls):\n",
    "    if i % 10 == 0 and i > 0:\n",
    "        print(f'{i} / {len(urls)}')\n",
    "        \n",
    "    driver.get(url)\n",
    "    driver.find_element_by_link_text('Community').click()\n",
    "    \n",
    "    try:\n",
    "        wait = WebDriverWait(driver, 5, poll_frequency=1)\n",
    "        wait.until(EC.text_to_be_present_in_element((By.ID, 'listingCommunityAverageIncome'), ','))\n",
    "    except:\n",
    "        pass\n",
    "    \n",
    "    soup = BeautifulSoup(driver.page_source)\n",
    "    s = pd.Series()\n",
    "\n",
    "    # Variables whose format is <div id=\"#...\">value</div>\n",
    "    info = {\n",
    "        'Address': '#listingAddress',\n",
    "        'PropertyType': '#listingPropertyType',\n",
    "        'AvgHouseholdIncome': '#listingCommunityAverageIncome',\n",
    "        'AvgHouseholdSize': '#listingCommunityHouseholdSize'\n",
    "    }\n",
    "    \n",
    "    for variable, selector in info.items():\n",
    "        value = soup.select(selector)[0].get_text()\n",
    "        s[variable] = value\n",
    "\n",
    "    # Variables whose format is <div id=\"#...\">label: value</div>\n",
    "    info = {\n",
    "        'ListPrice': '#listingListPrice',\n",
    "        'ListingDate': '#listingContractDate',\n",
    "        'SoldDate': '#listingEndDate',\n",
    "        'SquareFootage': '#listingSummarySqFt',\n",
    "        'MaintenanceFee': '#listingSummaryMaintenanceFees',\n",
    "        'PropertyTax': '#listingSummaryTaxes',\n",
    "        'MLS': '#listingMiscMLS',\n",
    "        'DayOnMarket': '#listingDOM'\n",
    "    }\n",
    "\n",
    "    for variable, selector in info.items():\n",
    "        tmp = soup.select(selector)[0].get_text().split(':')\n",
    "        value = tmp[1] if len(tmp) == 2 else None\n",
    "        s[variable] = value\n",
    "\n",
    "    # Some special cases\n",
    "    tmp = soup.select('#listingStatus')[0].get_text().split(' - ')\n",
    "    s['Status'], s['Price'] = tmp if len(tmp) == 2 else (tmp[0], None)\n",
    "\n",
    "    tmp = soup.select('#listingBedBath')[0].get_text().split('|')\n",
    "    s['Bedrooms'], s['Bathrooms'], s['ParkingSpots'] = tmp if len(tmp) == 3 else (None, None, None)\n",
    "    \n",
    "    s = s.str.strip()\n",
    "    \n",
    "    # Monthly expense and condo fees, if applicable\n",
    "    expenses = standardExpenses.copy()\n",
    "    \n",
    "    if driver.find_element_by_id('listingCondoFeesTable') is None:\n",
    "        s['IsTaxesIncluded'] = False\n",
    "        expenses['Parking'] = 0\n",
    "    else:\n",
    "        for item in ['Water', 'Heat', 'Insurance', 'CAC', 'Hydro', 'Parking', 'Taxes']:\n",
    "            tmp = driver.find_element_by_id(f'listingCondoFeesTable{item}')\n",
    "            isCovered = 'bg-success' in tmp.get_attribute('class')\n",
    "\n",
    "            if item == 'Taxes':\n",
    "                s['IsTaxesIncluded'] = isCovered\n",
    "            elif isCovered:\n",
    "                expenses[item] = 0\n",
    "\n",
    "    s['UncoveredExpenses'] = expenses.sum()\n",
    "    s['URL'] = url\n",
    "    details.append(s)"
   ]
  },
  {
   "cell_type": "code",
   "execution_count": 81,
   "metadata": {},
   "outputs": [],
   "source": [
    "df = pd.DataFrame(details)"
   ]
  },
  {
   "cell_type": "code",
   "execution_count": 82,
   "metadata": {},
   "outputs": [],
   "source": [
    "s = df['Address'].str.extract(r'(.\\d+) - (\\d.+)', expand=True)\n",
    "s.columns = ['Unit', 'Address']\n",
    "\n",
    "df['Unit'] = s['Unit'].fillna('')\n",
    "df['Address'] = s['Address'].combine_first(df['Address'])"
   ]
  },
  {
   "cell_type": "code",
   "execution_count": 83,
   "metadata": {},
   "outputs": [],
   "source": [
    "df['PropertyType'] = df['PropertyType'].map({\n",
    "    'Condo Apartment': 'Condo',\n",
    "    'Townhouse (Condo)': 'Townhouse',\n",
    "    'Detached House': 'Detached'\n",
    "})"
   ]
  },
  {
   "cell_type": "code",
   "execution_count": 84,
   "metadata": {},
   "outputs": [],
   "source": [
    "cols = ['ListingDate', 'SoldDate']\n",
    "df[cols] = df[cols].apply(pd.to_datetime, axis=1)"
   ]
  },
  {
   "cell_type": "code",
   "execution_count": 85,
   "metadata": {},
   "outputs": [],
   "source": [
    "cols = ['ListPrice', 'Price', 'MaintenanceFee', 'PropertyTax', 'AvgHouseholdIncome', 'AvgHouseholdSize']\n",
    "df[cols] = df[cols].apply(lambda col: col.str.replace(r'[^0-9\\.]', '')).apply(pd.to_numeric)"
   ]
  },
  {
   "cell_type": "code",
   "execution_count": 86,
   "metadata": {},
   "outputs": [],
   "source": [
    "df['AvgPersonalIncome'] = df['AvgHouseholdIncome'] / df['AvgHouseholdSize']"
   ]
  },
  {
   "cell_type": "markdown",
   "metadata": {},
   "source": [
    "The reported tax on the listing tends to be lower than it really is. We take the *greater* of the reported property tax and Toronto's property tax rate of 0.51%."
   ]
  },
  {
   "cell_type": "code",
   "execution_count": 87,
   "metadata": {},
   "outputs": [],
   "source": [
    "df['PropertyTax'] = pd.DataFrame({\n",
    "    'ReportedTax': df['PropertyTax'],\n",
    "    'CalculatedTax': df['ListPrice'] * 0.0051 / 12\n",
    "}).max(axis=1)"
   ]
  },
  {
   "cell_type": "code",
   "execution_count": 88,
   "metadata": {},
   "outputs": [],
   "source": [
    "df['MonthlyExpenses'] = df['MaintenanceFee'].fillna(0) + df['UncoveredExpenses'].fillna(0)\n",
    "\n",
    "# If maintenance fee doesn't include property tax, add that in\n",
    "cond = df['IsTaxesIncluded'] == False\n",
    "df.loc[cond, 'MonthlyExpenses'] += df.loc[cond, 'PropertyTax']\n",
    "\n",
    "df['TrueMaintenanceFee'] = df['MonthlyExpenses'] - df['PropertyTax'] - standardExpenses.sum()"
   ]
  },
  {
   "cell_type": "code",
   "execution_count": 89,
   "metadata": {},
   "outputs": [],
   "source": [
    "df['Bedrooms'] = df['Bedrooms'].apply(eval)\n",
    "\n",
    "cols = ['Bathrooms', 'ParkingSpots']\n",
    "df[cols] = df[cols].apply(pd.to_numeric)"
   ]
  },
  {
   "cell_type": "code",
   "execution_count": 90,
   "metadata": {},
   "outputs": [],
   "source": [
    "s = pd.to_timedelta(df['DayOnMarket'], errors='coerce') / pd.Timedelta(days=1)\n",
    "t = df['DayOnMarket'].str.extract(r'(?P<Month>\\d+) months?, (?P<Day>\\d+) days?') \\\n",
    "        .astype('float') \\\n",
    "        .apply(lambda row: row['Month'] * 30 + row['Day'], axis=1)\n",
    "\n",
    "df['DayOnMarket'] = s.combine_first(t).astype('int')"
   ]
  },
  {
   "cell_type": "code",
   "execution_count": 91,
   "metadata": {},
   "outputs": [
    {
     "data": {
      "text/html": [
       "<style  type=\"text/css\" >\n",
       "</style><table id=\"T_cd0074ae_c86f_11e9_a175_a82066123e3c\" ><thead>    <tr>        <th class=\"blank level0\" ></th>        <th class=\"col_heading level0 col0\" >PropertyType</th>        <th class=\"col_heading level0 col1\" >Unit</th>        <th class=\"col_heading level0 col2\" >Address</th>        <th class=\"col_heading level0 col3\" >Status</th>        <th class=\"col_heading level0 col4\" >SquareFootage</th>        <th class=\"col_heading level0 col5\" >ListPrice</th>        <th class=\"col_heading level0 col6\" >MonthlyExpenses</th>        <th class=\"col_heading level0 col7\" >TrueMaintenanceFee</th>        <th class=\"col_heading level0 col8\" >URL</th>        <th class=\"col_heading level0 col9\" >MLS</th>        <th class=\"col_heading level0 col10\" >DayOnMarket</th>    </tr></thead><tbody>\n",
       "                <tr>\n",
       "                        <th id=\"T_cd0074ae_c86f_11e9_a175_a82066123e3clevel0_row0\" class=\"row_heading level0 row0\" >0</th>\n",
       "                        <td id=\"T_cd0074ae_c86f_11e9_a175_a82066123e3crow0_col0\" class=\"data row0 col0\" >Condo</td>\n",
       "                        <td id=\"T_cd0074ae_c86f_11e9_a175_a82066123e3crow0_col1\" class=\"data row0 col1\" >#409</td>\n",
       "                        <td id=\"T_cd0074ae_c86f_11e9_a175_a82066123e3crow0_col2\" class=\"data row0 col2\" >275 Yorkland Rd, North York</td>\n",
       "                        <td id=\"T_cd0074ae_c86f_11e9_a175_a82066123e3crow0_col3\" class=\"data row0 col3\" >For Sale</td>\n",
       "                        <td id=\"T_cd0074ae_c86f_11e9_a175_a82066123e3crow0_col4\" class=\"data row0 col4\" >800-899</td>\n",
       "                        <td id=\"T_cd0074ae_c86f_11e9_a175_a82066123e3crow0_col5\" class=\"data row0 col5\" >575,900</td>\n",
       "                        <td id=\"T_cd0074ae_c86f_11e9_a175_a82066123e3crow0_col6\" class=\"data row0 col6\" >888</td>\n",
       "                        <td id=\"T_cd0074ae_c86f_11e9_a175_a82066123e3crow0_col7\" class=\"data row0 col7\" >410</td>\n",
       "                        <td id=\"T_cd0074ae_c86f_11e9_a175_a82066123e3crow0_col8\" class=\"data row0 col8\" ><a target=\"_blank\" href=\"https://bungol.ca/listing/275-yorkland-road-north-york-C4555880-3926767\">Link</a></td>\n",
       "                        <td id=\"T_cd0074ae_c86f_11e9_a175_a82066123e3crow0_col9\" class=\"data row0 col9\" >C4555880</td>\n",
       "                        <td id=\"T_cd0074ae_c86f_11e9_a175_a82066123e3crow0_col10\" class=\"data row0 col10\" >5</td>\n",
       "            </tr>\n",
       "            <tr>\n",
       "                        <th id=\"T_cd0074ae_c86f_11e9_a175_a82066123e3clevel0_row1\" class=\"row_heading level0 row1\" >1</th>\n",
       "                        <td id=\"T_cd0074ae_c86f_11e9_a175_a82066123e3crow1_col0\" class=\"data row1 col0\" >Condo</td>\n",
       "                        <td id=\"T_cd0074ae_c86f_11e9_a175_a82066123e3crow1_col1\" class=\"data row1 col1\" >#505</td>\n",
       "                        <td id=\"T_cd0074ae_c86f_11e9_a175_a82066123e3crow1_col2\" class=\"data row1 col2\" >50 Forest Manor Rd, North York</td>\n",
       "                        <td id=\"T_cd0074ae_c86f_11e9_a175_a82066123e3crow1_col3\" class=\"data row1 col3\" >For Sale</td>\n",
       "                        <td id=\"T_cd0074ae_c86f_11e9_a175_a82066123e3crow1_col4\" class=\"data row1 col4\" >700-799</td>\n",
       "                        <td id=\"T_cd0074ae_c86f_11e9_a175_a82066123e3crow1_col5\" class=\"data row1 col5\" >620,000</td>\n",
       "                        <td id=\"T_cd0074ae_c86f_11e9_a175_a82066123e3crow1_col6\" class=\"data row1 col6\" >903</td>\n",
       "                        <td id=\"T_cd0074ae_c86f_11e9_a175_a82066123e3crow1_col7\" class=\"data row1 col7\" >407</td>\n",
       "                        <td id=\"T_cd0074ae_c86f_11e9_a175_a82066123e3crow1_col8\" class=\"data row1 col8\" ><a target=\"_blank\" href=\"https://bungol.ca/listing/50-forest-manor-road-north-york-C4557425-3928162\">Link</a></td>\n",
       "                        <td id=\"T_cd0074ae_c86f_11e9_a175_a82066123e3crow1_col9\" class=\"data row1 col9\" >C4557425</td>\n",
       "                        <td id=\"T_cd0074ae_c86f_11e9_a175_a82066123e3crow1_col10\" class=\"data row1 col10\" >0</td>\n",
       "            </tr>\n",
       "            <tr>\n",
       "                        <th id=\"T_cd0074ae_c86f_11e9_a175_a82066123e3clevel0_row2\" class=\"row_heading level0 row2\" >2</th>\n",
       "                        <td id=\"T_cd0074ae_c86f_11e9_a175_a82066123e3crow2_col0\" class=\"data row2 col0\" >Condo</td>\n",
       "                        <td id=\"T_cd0074ae_c86f_11e9_a175_a82066123e3crow2_col1\" class=\"data row2 col1\" >#308</td>\n",
       "                        <td id=\"T_cd0074ae_c86f_11e9_a175_a82066123e3crow2_col2\" class=\"data row2 col2\" >66 Forest Manor Rd, North York</td>\n",
       "                        <td id=\"T_cd0074ae_c86f_11e9_a175_a82066123e3crow2_col3\" class=\"data row2 col3\" >Offer Pending</td>\n",
       "                        <td id=\"T_cd0074ae_c86f_11e9_a175_a82066123e3crow2_col4\" class=\"data row2 col4\" >700-799</td>\n",
       "                        <td id=\"T_cd0074ae_c86f_11e9_a175_a82066123e3crow2_col5\" class=\"data row2 col5\" >599,000</td>\n",
       "                        <td id=\"T_cd0074ae_c86f_11e9_a175_a82066123e3crow2_col6\" class=\"data row2 col6\" >916</td>\n",
       "                        <td id=\"T_cd0074ae_c86f_11e9_a175_a82066123e3crow2_col7\" class=\"data row2 col7\" >428</td>\n",
       "                        <td id=\"T_cd0074ae_c86f_11e9_a175_a82066123e3crow2_col8\" class=\"data row2 col8\" ><a target=\"_blank\" href=\"https://bungol.ca/listing/66-forest-manor-road-north-york-C4498125-3874179\">Link</a></td>\n",
       "                        <td id=\"T_cd0074ae_c86f_11e9_a175_a82066123e3crow2_col9\" class=\"data row2 col9\" >C4498125</td>\n",
       "                        <td id=\"T_cd0074ae_c86f_11e9_a175_a82066123e3crow2_col10\" class=\"data row2 col10\" >63</td>\n",
       "            </tr>\n",
       "            <tr>\n",
       "                        <th id=\"T_cd0074ae_c86f_11e9_a175_a82066123e3clevel0_row3\" class=\"row_heading level0 row3\" >3</th>\n",
       "                        <td id=\"T_cd0074ae_c86f_11e9_a175_a82066123e3crow3_col0\" class=\"data row3 col0\" >Condo</td>\n",
       "                        <td id=\"T_cd0074ae_c86f_11e9_a175_a82066123e3crow3_col1\" class=\"data row3 col1\" >#610</td>\n",
       "                        <td id=\"T_cd0074ae_c86f_11e9_a175_a82066123e3crow3_col2\" class=\"data row3 col2\" >275 Yorkland Rd, North York</td>\n",
       "                        <td id=\"T_cd0074ae_c86f_11e9_a175_a82066123e3crow3_col3\" class=\"data row3 col3\" >For Sale</td>\n",
       "                        <td id=\"T_cd0074ae_c86f_11e9_a175_a82066123e3crow3_col4\" class=\"data row3 col4\" >800-899</td>\n",
       "                        <td id=\"T_cd0074ae_c86f_11e9_a175_a82066123e3crow3_col5\" class=\"data row3 col5\" >578,900</td>\n",
       "                        <td id=\"T_cd0074ae_c86f_11e9_a175_a82066123e3crow3_col6\" class=\"data row3 col6\" >937</td>\n",
       "                        <td id=\"T_cd0074ae_c86f_11e9_a175_a82066123e3crow3_col7\" class=\"data row3 col7\" >458</td>\n",
       "                        <td id=\"T_cd0074ae_c86f_11e9_a175_a82066123e3crow3_col8\" class=\"data row3 col8\" ><a target=\"_blank\" href=\"https://bungol.ca/listing/275-yorkland-road-north-york-C4515230-3889740\">Link</a></td>\n",
       "                        <td id=\"T_cd0074ae_c86f_11e9_a175_a82066123e3crow3_col9\" class=\"data row3 col9\" >C4515230</td>\n",
       "                        <td id=\"T_cd0074ae_c86f_11e9_a175_a82066123e3crow3_col10\" class=\"data row3 col10\" >48</td>\n",
       "            </tr>\n",
       "            <tr>\n",
       "                        <th id=\"T_cd0074ae_c86f_11e9_a175_a82066123e3clevel0_row4\" class=\"row_heading level0 row4\" >4</th>\n",
       "                        <td id=\"T_cd0074ae_c86f_11e9_a175_a82066123e3crow4_col0\" class=\"data row4 col0\" >Condo</td>\n",
       "                        <td id=\"T_cd0074ae_c86f_11e9_a175_a82066123e3crow4_col1\" class=\"data row4 col1\" >#1005</td>\n",
       "                        <td id=\"T_cd0074ae_c86f_11e9_a175_a82066123e3crow4_col2\" class=\"data row4 col2\" >150 Fairview Mall Dr, North York</td>\n",
       "                        <td id=\"T_cd0074ae_c86f_11e9_a175_a82066123e3crow4_col3\" class=\"data row4 col3\" >For Sale</td>\n",
       "                        <td id=\"T_cd0074ae_c86f_11e9_a175_a82066123e3crow4_col4\" class=\"data row4 col4\" >700-799</td>\n",
       "                        <td id=\"T_cd0074ae_c86f_11e9_a175_a82066123e3crow4_col5\" class=\"data row4 col5\" >629,000</td>\n",
       "                        <td id=\"T_cd0074ae_c86f_11e9_a175_a82066123e3crow4_col6\" class=\"data row4 col6\" >938</td>\n",
       "                        <td id=\"T_cd0074ae_c86f_11e9_a175_a82066123e3crow4_col7\" class=\"data row4 col7\" >438</td>\n",
       "                        <td id=\"T_cd0074ae_c86f_11e9_a175_a82066123e3crow4_col8\" class=\"data row4 col8\" ><a target=\"_blank\" href=\"https://bungol.ca/listing/150-fairview-mall-drive-north-york-C4513328-3887984\">Link</a></td>\n",
       "                        <td id=\"T_cd0074ae_c86f_11e9_a175_a82066123e3crow4_col9\" class=\"data row4 col9\" >C4513328</td>\n",
       "                        <td id=\"T_cd0074ae_c86f_11e9_a175_a82066123e3crow4_col10\" class=\"data row4 col10\" >48</td>\n",
       "            </tr>\n",
       "            <tr>\n",
       "                        <th id=\"T_cd0074ae_c86f_11e9_a175_a82066123e3clevel0_row5\" class=\"row_heading level0 row5\" >5</th>\n",
       "                        <td id=\"T_cd0074ae_c86f_11e9_a175_a82066123e3crow5_col0\" class=\"data row5 col0\" >Townhouse</td>\n",
       "                        <td id=\"T_cd0074ae_c86f_11e9_a175_a82066123e3crow5_col1\" class=\"data row5 col1\" >#5</td>\n",
       "                        <td id=\"T_cd0074ae_c86f_11e9_a175_a82066123e3crow5_col2\" class=\"data row5 col2\" >8 Esterbrooke Ave, North York</td>\n",
       "                        <td id=\"T_cd0074ae_c86f_11e9_a175_a82066123e3crow5_col3\" class=\"data row5 col3\" >For Sale</td>\n",
       "                        <td id=\"T_cd0074ae_c86f_11e9_a175_a82066123e3crow5_col4\" class=\"data row5 col4\" >1200-1399</td>\n",
       "                        <td id=\"T_cd0074ae_c86f_11e9_a175_a82066123e3crow5_col5\" class=\"data row5 col5\" >588,000</td>\n",
       "                        <td id=\"T_cd0074ae_c86f_11e9_a175_a82066123e3crow5_col6\" class=\"data row5 col6\" >965</td>\n",
       "                        <td id=\"T_cd0074ae_c86f_11e9_a175_a82066123e3crow5_col7\" class=\"data row5 col7\" >482</td>\n",
       "                        <td id=\"T_cd0074ae_c86f_11e9_a175_a82066123e3crow5_col8\" class=\"data row5 col8\" ><a target=\"_blank\" href=\"https://bungol.ca/listing/8-esterbrooke-avenue-north-york-C4556310-3927160\">Link</a></td>\n",
       "                        <td id=\"T_cd0074ae_c86f_11e9_a175_a82066123e3crow5_col9\" class=\"data row5 col9\" >C4556310</td>\n",
       "                        <td id=\"T_cd0074ae_c86f_11e9_a175_a82066123e3crow5_col10\" class=\"data row5 col10\" >2</td>\n",
       "            </tr>\n",
       "            <tr>\n",
       "                        <th id=\"T_cd0074ae_c86f_11e9_a175_a82066123e3clevel0_row6\" class=\"row_heading level0 row6\" >6</th>\n",
       "                        <td id=\"T_cd0074ae_c86f_11e9_a175_a82066123e3crow6_col0\" class=\"data row6 col0\" >Condo</td>\n",
       "                        <td id=\"T_cd0074ae_c86f_11e9_a175_a82066123e3crow6_col1\" class=\"data row6 col1\" >#905</td>\n",
       "                        <td id=\"T_cd0074ae_c86f_11e9_a175_a82066123e3crow6_col2\" class=\"data row6 col2\" >52 Forest Manor Rd, North York</td>\n",
       "                        <td id=\"T_cd0074ae_c86f_11e9_a175_a82066123e3crow6_col3\" class=\"data row6 col3\" >For Sale</td>\n",
       "                        <td id=\"T_cd0074ae_c86f_11e9_a175_a82066123e3crow6_col4\" class=\"data row6 col4\" >700-799</td>\n",
       "                        <td id=\"T_cd0074ae_c86f_11e9_a175_a82066123e3crow6_col5\" class=\"data row6 col5\" >618,800</td>\n",
       "                        <td id=\"T_cd0074ae_c86f_11e9_a175_a82066123e3crow6_col6\" class=\"data row6 col6\" >974</td>\n",
       "                        <td id=\"T_cd0074ae_c86f_11e9_a175_a82066123e3crow6_col7\" class=\"data row6 col7\" >478</td>\n",
       "                        <td id=\"T_cd0074ae_c86f_11e9_a175_a82066123e3crow6_col8\" class=\"data row6 col8\" ><a target=\"_blank\" href=\"https://bungol.ca/listing/52-forest-manor-road-north-york-C4528628-3901864\">Link</a></td>\n",
       "                        <td id=\"T_cd0074ae_c86f_11e9_a175_a82066123e3crow6_col9\" class=\"data row6 col9\" >C4528628</td>\n",
       "                        <td id=\"T_cd0074ae_c86f_11e9_a175_a82066123e3crow6_col10\" class=\"data row6 col10\" >33</td>\n",
       "            </tr>\n",
       "            <tr>\n",
       "                        <th id=\"T_cd0074ae_c86f_11e9_a175_a82066123e3clevel0_row7\" class=\"row_heading level0 row7\" >7</th>\n",
       "                        <td id=\"T_cd0074ae_c86f_11e9_a175_a82066123e3crow7_col0\" class=\"data row7 col0\" >Condo</td>\n",
       "                        <td id=\"T_cd0074ae_c86f_11e9_a175_a82066123e3crow7_col1\" class=\"data row7 col1\" >#1108</td>\n",
       "                        <td id=\"T_cd0074ae_c86f_11e9_a175_a82066123e3crow7_col2\" class=\"data row7 col2\" >5 Old Sheppard Ave, North York</td>\n",
       "                        <td id=\"T_cd0074ae_c86f_11e9_a175_a82066123e3crow7_col3\" class=\"data row7 col3\" >For Sale</td>\n",
       "                        <td id=\"T_cd0074ae_c86f_11e9_a175_a82066123e3crow7_col4\" class=\"data row7 col4\" >900-999</td>\n",
       "                        <td id=\"T_cd0074ae_c86f_11e9_a175_a82066123e3crow7_col5\" class=\"data row7 col5\" >368,000</td>\n",
       "                        <td id=\"T_cd0074ae_c86f_11e9_a175_a82066123e3crow7_col6\" class=\"data row7 col6\" >1,005</td>\n",
       "                        <td id=\"T_cd0074ae_c86f_11e9_a175_a82066123e3crow7_col7\" class=\"data row7 col7\" >615</td>\n",
       "                        <td id=\"T_cd0074ae_c86f_11e9_a175_a82066123e3crow7_col8\" class=\"data row7 col8\" ><a target=\"_blank\" href=\"https://bungol.ca/listing/5-old-sheppard-avenue-north-york-C4557181-3927941\">Link</a></td>\n",
       "                        <td id=\"T_cd0074ae_c86f_11e9_a175_a82066123e3crow7_col9\" class=\"data row7 col9\" >C4557181</td>\n",
       "                        <td id=\"T_cd0074ae_c86f_11e9_a175_a82066123e3crow7_col10\" class=\"data row7 col10\" >0</td>\n",
       "            </tr>\n",
       "            <tr>\n",
       "                        <th id=\"T_cd0074ae_c86f_11e9_a175_a82066123e3clevel0_row8\" class=\"row_heading level0 row8\" >8</th>\n",
       "                        <td id=\"T_cd0074ae_c86f_11e9_a175_a82066123e3crow8_col0\" class=\"data row8 col0\" >Condo</td>\n",
       "                        <td id=\"T_cd0074ae_c86f_11e9_a175_a82066123e3crow8_col1\" class=\"data row8 col1\" >#124</td>\n",
       "                        <td id=\"T_cd0074ae_c86f_11e9_a175_a82066123e3crow8_col2\" class=\"data row8 col2\" >52 Forest Manor Rd, North York</td>\n",
       "                        <td id=\"T_cd0074ae_c86f_11e9_a175_a82066123e3crow8_col3\" class=\"data row8 col3\" >For Sale</td>\n",
       "                        <td id=\"T_cd0074ae_c86f_11e9_a175_a82066123e3crow8_col4\" class=\"data row8 col4\" >800-899</td>\n",
       "                        <td id=\"T_cd0074ae_c86f_11e9_a175_a82066123e3crow8_col5\" class=\"data row8 col5\" >607,000</td>\n",
       "                        <td id=\"T_cd0074ae_c86f_11e9_a175_a82066123e3crow8_col6\" class=\"data row8 col6\" >1,007</td>\n",
       "                        <td id=\"T_cd0074ae_c86f_11e9_a175_a82066123e3crow8_col7\" class=\"data row8 col7\" >516</td>\n",
       "                        <td id=\"T_cd0074ae_c86f_11e9_a175_a82066123e3crow8_col8\" class=\"data row8 col8\" ><a target=\"_blank\" href=\"https://bungol.ca/listing/52-forest-manor-road-north-york-C4555363-3926231\">Link</a></td>\n",
       "                        <td id=\"T_cd0074ae_c86f_11e9_a175_a82066123e3crow8_col9\" class=\"data row8 col9\" >C4555363</td>\n",
       "                        <td id=\"T_cd0074ae_c86f_11e9_a175_a82066123e3crow8_col10\" class=\"data row8 col10\" >4</td>\n",
       "            </tr>\n",
       "            <tr>\n",
       "                        <th id=\"T_cd0074ae_c86f_11e9_a175_a82066123e3clevel0_row9\" class=\"row_heading level0 row9\" >9</th>\n",
       "                        <td id=\"T_cd0074ae_c86f_11e9_a175_a82066123e3crow9_col0\" class=\"data row9 col0\" >Townhouse</td>\n",
       "                        <td id=\"T_cd0074ae_c86f_11e9_a175_a82066123e3crow9_col1\" class=\"data row9 col1\" >#100</td>\n",
       "                        <td id=\"T_cd0074ae_c86f_11e9_a175_a82066123e3crow9_col2\" class=\"data row9 col2\" >25 Esterbrooke Ave, North York</td>\n",
       "                        <td id=\"T_cd0074ae_c86f_11e9_a175_a82066123e3crow9_col3\" class=\"data row9 col3\" >For Sale</td>\n",
       "                        <td id=\"T_cd0074ae_c86f_11e9_a175_a82066123e3crow9_col4\" class=\"data row9 col4\" >1200-1399</td>\n",
       "                        <td id=\"T_cd0074ae_c86f_11e9_a175_a82066123e3crow9_col5\" class=\"data row9 col5\" >598,000</td>\n",
       "                        <td id=\"T_cd0074ae_c86f_11e9_a175_a82066123e3crow9_col6\" class=\"data row9 col6\" >1,043</td>\n",
       "                        <td id=\"T_cd0074ae_c86f_11e9_a175_a82066123e3crow9_col7\" class=\"data row9 col7\" >556</td>\n",
       "                        <td id=\"T_cd0074ae_c86f_11e9_a175_a82066123e3crow9_col8\" class=\"data row9 col8\" ><a target=\"_blank\" href=\"https://bungol.ca/listing/25-esterbrooke-avenue-north-york-C4554688-3925670\">Link</a></td>\n",
       "                        <td id=\"T_cd0074ae_c86f_11e9_a175_a82066123e3crow9_col9\" class=\"data row9 col9\" >C4554688</td>\n",
       "                        <td id=\"T_cd0074ae_c86f_11e9_a175_a82066123e3crow9_col10\" class=\"data row9 col10\" >5</td>\n",
       "            </tr>\n",
       "            <tr>\n",
       "                        <th id=\"T_cd0074ae_c86f_11e9_a175_a82066123e3clevel0_row10\" class=\"row_heading level0 row10\" >10</th>\n",
       "                        <td id=\"T_cd0074ae_c86f_11e9_a175_a82066123e3crow10_col0\" class=\"data row10 col0\" >Condo</td>\n",
       "                        <td id=\"T_cd0074ae_c86f_11e9_a175_a82066123e3crow10_col1\" class=\"data row10 col1\" >#510</td>\n",
       "                        <td id=\"T_cd0074ae_c86f_11e9_a175_a82066123e3crow10_col2\" class=\"data row10 col2\" >10 Muirhead Rd, North York</td>\n",
       "                        <td id=\"T_cd0074ae_c86f_11e9_a175_a82066123e3crow10_col3\" class=\"data row10 col3\" >For Sale</td>\n",
       "                        <td id=\"T_cd0074ae_c86f_11e9_a175_a82066123e3crow10_col4\" class=\"data row10 col4\" >1000-1199</td>\n",
       "                        <td id=\"T_cd0074ae_c86f_11e9_a175_a82066123e3crow10_col5\" class=\"data row10 col5\" >424,900</td>\n",
       "                        <td id=\"T_cd0074ae_c86f_11e9_a175_a82066123e3crow10_col6\" class=\"data row10 col6\" >1,161</td>\n",
       "                        <td id=\"T_cd0074ae_c86f_11e9_a175_a82066123e3crow10_col7\" class=\"data row10 col7\" >747</td>\n",
       "                        <td id=\"T_cd0074ae_c86f_11e9_a175_a82066123e3crow10_col8\" class=\"data row10 col8\" ><a target=\"_blank\" href=\"https://bungol.ca/listing/10-muirhead-road-north-york-C4556679-3927509\">Link</a></td>\n",
       "                        <td id=\"T_cd0074ae_c86f_11e9_a175_a82066123e3crow10_col9\" class=\"data row10 col9\" >C4556679</td>\n",
       "                        <td id=\"T_cd0074ae_c86f_11e9_a175_a82066123e3crow10_col10\" class=\"data row10 col10\" >1</td>\n",
       "            </tr>\n",
       "            <tr>\n",
       "                        <th id=\"T_cd0074ae_c86f_11e9_a175_a82066123e3clevel0_row11\" class=\"row_heading level0 row11\" >11</th>\n",
       "                        <td id=\"T_cd0074ae_c86f_11e9_a175_a82066123e3crow11_col0\" class=\"data row11 col0\" >Condo</td>\n",
       "                        <td id=\"T_cd0074ae_c86f_11e9_a175_a82066123e3crow11_col1\" class=\"data row11 col1\" >#1501</td>\n",
       "                        <td id=\"T_cd0074ae_c86f_11e9_a175_a82066123e3crow11_col2\" class=\"data row11 col2\" >10 Muirhead Rd, North York</td>\n",
       "                        <td id=\"T_cd0074ae_c86f_11e9_a175_a82066123e3crow11_col3\" class=\"data row11 col3\" >For Sale</td>\n",
       "                        <td id=\"T_cd0074ae_c86f_11e9_a175_a82066123e3crow11_col4\" class=\"data row11 col4\" >1000-1199</td>\n",
       "                        <td id=\"T_cd0074ae_c86f_11e9_a175_a82066123e3crow11_col5\" class=\"data row11 col5\" >545,000</td>\n",
       "                        <td id=\"T_cd0074ae_c86f_11e9_a175_a82066123e3crow11_col6\" class=\"data row11 col6\" >1,212</td>\n",
       "                        <td id=\"T_cd0074ae_c86f_11e9_a175_a82066123e3crow11_col7\" class=\"data row11 col7\" >747</td>\n",
       "                        <td id=\"T_cd0074ae_c86f_11e9_a175_a82066123e3crow11_col8\" class=\"data row11 col8\" ><a target=\"_blank\" href=\"https://bungol.ca/listing/10-muirhead-road-north-york-C4542941-3914894\">Link</a></td>\n",
       "                        <td id=\"T_cd0074ae_c86f_11e9_a175_a82066123e3crow11_col9\" class=\"data row11 col9\" >C4542941</td>\n",
       "                        <td id=\"T_cd0074ae_c86f_11e9_a175_a82066123e3crow11_col10\" class=\"data row11 col10\" >19</td>\n",
       "            </tr>\n",
       "            <tr>\n",
       "                        <th id=\"T_cd0074ae_c86f_11e9_a175_a82066123e3clevel0_row12\" class=\"row_heading level0 row12\" >12</th>\n",
       "                        <td id=\"T_cd0074ae_c86f_11e9_a175_a82066123e3crow12_col0\" class=\"data row12 col0\" >Condo</td>\n",
       "                        <td id=\"T_cd0074ae_c86f_11e9_a175_a82066123e3crow12_col1\" class=\"data row12 col1\" >#2206</td>\n",
       "                        <td id=\"T_cd0074ae_c86f_11e9_a175_a82066123e3crow12_col2\" class=\"data row12 col2\" >1900 Sheppard Ave E, North York</td>\n",
       "                        <td id=\"T_cd0074ae_c86f_11e9_a175_a82066123e3crow12_col3\" class=\"data row12 col3\" >For Sale</td>\n",
       "                        <td id=\"T_cd0074ae_c86f_11e9_a175_a82066123e3crow12_col4\" class=\"data row12 col4\" >1200-1399</td>\n",
       "                        <td id=\"T_cd0074ae_c86f_11e9_a175_a82066123e3crow12_col5\" class=\"data row12 col5\" >439,000</td>\n",
       "                        <td id=\"T_cd0074ae_c86f_11e9_a175_a82066123e3crow12_col6\" class=\"data row12 col6\" >1,296</td>\n",
       "                        <td id=\"T_cd0074ae_c86f_11e9_a175_a82066123e3crow12_col7\" class=\"data row12 col7\" >876</td>\n",
       "                        <td id=\"T_cd0074ae_c86f_11e9_a175_a82066123e3crow12_col8\" class=\"data row12 col8\" ><a target=\"_blank\" href=\"https://bungol.ca/listing/1900-sheppard-avenue-east-north-york-C4392676-3777974\">Link</a></td>\n",
       "                        <td id=\"T_cd0074ae_c86f_11e9_a175_a82066123e3crow12_col9\" class=\"data row12 col9\" >C4392676</td>\n",
       "                        <td id=\"T_cd0074ae_c86f_11e9_a175_a82066123e3crow12_col10\" class=\"data row12 col10\" >155</td>\n",
       "            </tr>\n",
       "            <tr>\n",
       "                        <th id=\"T_cd0074ae_c86f_11e9_a175_a82066123e3clevel0_row13\" class=\"row_heading level0 row13\" >13</th>\n",
       "                        <td id=\"T_cd0074ae_c86f_11e9_a175_a82066123e3crow13_col0\" class=\"data row13 col0\" >Condo</td>\n",
       "                        <td id=\"T_cd0074ae_c86f_11e9_a175_a82066123e3crow13_col1\" class=\"data row13 col1\" >#210</td>\n",
       "                        <td id=\"T_cd0074ae_c86f_11e9_a175_a82066123e3crow13_col2\" class=\"data row13 col2\" >1900 Sheppard Ave E, North York</td>\n",
       "                        <td id=\"T_cd0074ae_c86f_11e9_a175_a82066123e3crow13_col3\" class=\"data row13 col3\" >Offer Pending</td>\n",
       "                        <td id=\"T_cd0074ae_c86f_11e9_a175_a82066123e3crow13_col4\" class=\"data row13 col4\" >1000-1199</td>\n",
       "                        <td id=\"T_cd0074ae_c86f_11e9_a175_a82066123e3crow13_col5\" class=\"data row13 col5\" >449,000</td>\n",
       "                        <td id=\"T_cd0074ae_c86f_11e9_a175_a82066123e3crow13_col6\" class=\"data row13 col6\" >1,304</td>\n",
       "                        <td id=\"T_cd0074ae_c86f_11e9_a175_a82066123e3crow13_col7\" class=\"data row13 col7\" >880</td>\n",
       "                        <td id=\"T_cd0074ae_c86f_11e9_a175_a82066123e3crow13_col8\" class=\"data row13 col8\" ><a target=\"_blank\" href=\"https://bungol.ca/listing/1900-sheppard-avenue-east-north-york-C4541590-3913607\">Link</a></td>\n",
       "                        <td id=\"T_cd0074ae_c86f_11e9_a175_a82066123e3crow13_col9\" class=\"data row13 col9\" >C4541590</td>\n",
       "                        <td id=\"T_cd0074ae_c86f_11e9_a175_a82066123e3crow13_col10\" class=\"data row13 col10\" >19</td>\n",
       "            </tr>\n",
       "            <tr>\n",
       "                        <th id=\"T_cd0074ae_c86f_11e9_a175_a82066123e3clevel0_row14\" class=\"row_heading level0 row14\" >14</th>\n",
       "                        <td id=\"T_cd0074ae_c86f_11e9_a175_a82066123e3crow14_col0\" class=\"data row14 col0\" >Condo</td>\n",
       "                        <td id=\"T_cd0074ae_c86f_11e9_a175_a82066123e3crow14_col1\" class=\"data row14 col1\" >#706</td>\n",
       "                        <td id=\"T_cd0074ae_c86f_11e9_a175_a82066123e3crow14_col2\" class=\"data row14 col2\" >1900 Sheppard Ave E, North York</td>\n",
       "                        <td id=\"T_cd0074ae_c86f_11e9_a175_a82066123e3crow14_col3\" class=\"data row14 col3\" >For Sale</td>\n",
       "                        <td id=\"T_cd0074ae_c86f_11e9_a175_a82066123e3crow14_col4\" class=\"data row14 col4\" >1200-1399</td>\n",
       "                        <td id=\"T_cd0074ae_c86f_11e9_a175_a82066123e3crow14_col5\" class=\"data row14 col5\" >557,000</td>\n",
       "                        <td id=\"T_cd0074ae_c86f_11e9_a175_a82066123e3crow14_col6\" class=\"data row14 col6\" >1,350</td>\n",
       "                        <td id=\"T_cd0074ae_c86f_11e9_a175_a82066123e3crow14_col7\" class=\"data row14 col7\" >880</td>\n",
       "                        <td id=\"T_cd0074ae_c86f_11e9_a175_a82066123e3crow14_col8\" class=\"data row14 col8\" ><a target=\"_blank\" href=\"https://bungol.ca/listing/1900-sheppard-avenue-east-north-york-C4517351-3891695\">Link</a></td>\n",
       "                        <td id=\"T_cd0074ae_c86f_11e9_a175_a82066123e3crow14_col9\" class=\"data row14 col9\" >C4517351</td>\n",
       "                        <td id=\"T_cd0074ae_c86f_11e9_a175_a82066123e3crow14_col10\" class=\"data row14 col10\" >43</td>\n",
       "            </tr>\n",
       "    </tbody></table>"
      ],
      "text/plain": [
       "<pandas.io.formats.style.Styler at 0x118676f28>"
      ]
     },
     "execution_count": 91,
     "metadata": {},
     "output_type": "execute_result"
    }
   ],
   "source": [
    "def make_hyperlink(cell):\n",
    "    return f'<a target=\"_blank\" href=\"{cell}\">Link</a>'\n",
    "    \n",
    "result = df[['PropertyType', 'Unit', 'Address', 'Status', 'SquareFootage', 'ListPrice', 'MonthlyExpenses', 'TrueMaintenanceFee', 'URL', 'MLS', 'DayOnMarket']] \\\n",
    "            .sort_values('MonthlyExpenses').reset_index(drop=True) \\\n",
    "            .style.format({\n",
    "                'ListPrice': '{:,.0f}',\n",
    "                'PropertyTax': '{:,.2f}',\n",
    "                'MonthlyExpenses': '{:,.0f}',\n",
    "                'TrueMaintenanceFee': '{:,.0f}',\n",
    "                'AvgPersonalIncome': '{:,.0f}',\n",
    "                'URL': make_hyperlink\n",
    "            })\n",
    "result"
   ]
  },
  {
   "cell_type": "markdown",
   "metadata": {},
   "source": [
    "# Export"
   ]
  },
  {
   "cell_type": "code",
   "execution_count": 92,
   "metadata": {},
   "outputs": [],
   "source": [
    "# result.to_excel('./result.xlsx', index=False)"
   ]
  },
  {
   "cell_type": "code",
   "execution_count": null,
   "metadata": {},
   "outputs": [],
   "source": []
  }
 ],
 "metadata": {
  "kernelspec": {
   "display_name": "Python 3",
   "language": "python",
   "name": "python3"
  },
  "language_info": {
   "codemirror_mode": {
    "name": "ipython",
    "version": 3
   },
   "file_extension": ".py",
   "mimetype": "text/x-python",
   "name": "python",
   "nbconvert_exporter": "python",
   "pygments_lexer": "ipython3",
   "version": "3.7.3"
  }
 },
 "nbformat": 4,
 "nbformat_minor": 4
}
