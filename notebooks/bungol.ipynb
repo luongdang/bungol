{
 "cells": [
  {
   "cell_type": "code",
   "execution_count": 1,
   "metadata": {},
   "outputs": [],
   "source": [
    "import numpy as np\n",
    "import pandas as pd\n",
    "import requests\n",
    "from bs4 import BeautifulSoup\n",
    "from time import sleep\n",
    "import sys\n",
    "import re\n",
    "import os\n",
    "\n",
    "from selenium import webdriver\n",
    "from selenium.webdriver.common.action_chains import ActionChains\n",
    "from selenium.webdriver.common.keys import Keys\n",
    "from selenium.webdriver.support.ui import WebDriverWait\n",
    "from selenium.webdriver.support import expected_conditions as EC\n",
    "from selenium.webdriver.common.by import By"
   ]
  },
  {
   "cell_type": "markdown",
   "metadata": {},
   "source": [
    "# Start up"
   ]
  },
  {
   "cell_type": "code",
   "execution_count": 2,
   "metadata": {},
   "outputs": [],
   "source": [
    "if sys.platform == 'darwin':\n",
    "    driver = webdriver.Chrome('../webdriver/chromedriver_mac')\n",
    "elif sys.platform == 'win32':\n",
    "    driver = webdriver.Chrome('../webdriver/chromedriver_win.exe')"
   ]
  },
  {
   "cell_type": "code",
   "execution_count": 3,
   "metadata": {},
   "outputs": [],
   "source": [
    "driver.get('https://bungol.ca')"
   ]
  },
  {
   "cell_type": "code",
   "execution_count": 4,
   "metadata": {},
   "outputs": [],
   "source": [
    "login = driver.find_element_by_link_text('Login/Signup')\n",
    "login.click()\n",
    "\n",
    "username = driver.find_element_by_name('username')\n",
    "password = driver.find_element_by_name('password')\n",
    "\n",
    "username.send_keys('scottw')\n",
    "password.send_keys('zojzes-dycpoQ-2nidwy')\n",
    "password.send_keys(Keys.RETURN)"
   ]
  },
  {
   "cell_type": "markdown",
   "metadata": {},
   "source": [
    "# Gather properties"
   ]
  },
  {
   "cell_type": "markdown",
   "metadata": {},
   "source": [
    "Choose an area and set filter conditions in bungol before you run the cells below"
   ]
  },
  {
   "cell_type": "code",
   "execution_count": 36,
   "metadata": {},
   "outputs": [],
   "source": [
    "urls = []\n",
    "\n",
    "leftSidebarClose = driver.find_element_by_id('leftSidebarClose')\n",
    "if not ('leftSidebarClosed' in leftSidebarClose.get_attribute('class')):\n",
    "    leftSidebarClose.click()\n",
    "\n",
    "icons = driver.find_elements_by_css_selector('div.leaflet-marker-icon')\n",
    "for icon in icons:\n",
    "    actions = ActionChains(driver)\n",
    "    actions.move_to_element(icon).perform()\n",
    "    sleep(1)\n",
    "\n",
    "    popup = driver.find_element_by_id('popup')\n",
    "    urls += [a.get_attribute('href') for a in popup.find_elements_by_tag_name('a')]\n",
    "    \n",
    "    # Clear the popup\n",
    "    driver.execute_script('arguments[0].innerHTML = \"\"', popup)"
   ]
  },
  {
   "cell_type": "code",
   "execution_count": 37,
   "metadata": {},
   "outputs": [
    {
     "data": {
      "text/plain": [
       "11"
      ]
     },
     "execution_count": 37,
     "metadata": {},
     "output_type": "execute_result"
    }
   ],
   "source": [
    "len(urls)"
   ]
  },
  {
   "cell_type": "code",
   "execution_count": 38,
   "metadata": {},
   "outputs": [
    {
     "name": "stdout",
     "output_type": "stream",
     "text": [
      "10 / 11\n"
     ]
    }
   ],
   "source": [
    "details = []\n",
    "\n",
    "# 70% of aunty's home\n",
    "standardExpenses = pd.Series({\n",
    "    'Water': 56.21,\n",
    "    'Heat': 98.41,\n",
    "    'Insurance': 71.69,\n",
    "    'CAC': 0,             # included in hydro\n",
    "    'Hydro': 106.6\n",
    "}) * 0.5\n",
    "\n",
    "for i, url in enumerate(urls):\n",
    "    if i % 10 == 0 and i > 0:\n",
    "        print(f'{i} / {len(urls)}')\n",
    "        \n",
    "    driver.get(url)\n",
    "    driver.find_element_by_link_text('Community').click()\n",
    "    \n",
    "    try:\n",
    "        wait = WebDriverWait(driver, 5, poll_frequency=1)\n",
    "        wait.until(EC.text_to_be_present_in_element((By.ID, 'listingCommunityAverageIncome'), ','))\n",
    "    except:\n",
    "        pass\n",
    "    \n",
    "    soup = BeautifulSoup(driver.page_source)\n",
    "    s = pd.Series()\n",
    "\n",
    "    # Variables whose format is <div id=\"#...\">value</div>\n",
    "    info = {\n",
    "        'Address': '#listingAddress',\n",
    "        'PropertyType': '#listingPropertyType',\n",
    "        'AvgHouseholdIncome': '#listingCommunityAverageIncome',\n",
    "        'AvgHouseholdSize': '#listingCommunityHouseholdSize'\n",
    "    }\n",
    "    \n",
    "    for variable, selector in info.items():\n",
    "        value = soup.select(selector)[0].get_text()\n",
    "        s[variable] = value\n",
    "\n",
    "    # Variables whose format is <div id=\"#...\">label: value</div>\n",
    "    info = {\n",
    "        'ListPrice': '#listingListPrice',\n",
    "        'ListingDate': '#listingContractDate',\n",
    "        'SoldDate': '#listingEndDate',\n",
    "        'SquareFootage': '#listingSummarySqFt',\n",
    "        'MaintenanceFee': '#listingSummaryMaintenanceFees',\n",
    "        'PropertyTax': '#listingSummaryTaxes',\n",
    "        'MLS': '#listingMiscMLS',\n",
    "        'DayOnMarket': '#listingDOM'\n",
    "    }\n",
    "\n",
    "    for variable, selector in info.items():\n",
    "        tmp = soup.select(selector)[0].get_text().split(':')\n",
    "        value = tmp[1] if len(tmp) == 2 else None\n",
    "        s[variable] = value\n",
    "\n",
    "    # Some special cases\n",
    "    tmp = soup.select('#listingStatus')[0].get_text().split(' - ')\n",
    "    s['Status'], s['Price'] = tmp if len(tmp) == 2 else (tmp[0], None)\n",
    "\n",
    "    tmp = soup.select('#listingBedBath')[0].get_text().split('|')\n",
    "    s['Bedrooms'], s['Bathrooms'], s['ParkingSpots'] = tmp if len(tmp) == 3 else (None, None, None)\n",
    "    \n",
    "    s = s.str.strip()\n",
    "    \n",
    "    # Monthly expense and condo fees, if applicable\n",
    "    expenses = standardExpenses.copy()\n",
    "    \n",
    "    if driver.find_element_by_id('listingCondoFeesTable') is None:\n",
    "        s['IsTaxesIncluded'] = False\n",
    "        expenses['Parking'] = 0\n",
    "    else:\n",
    "        for item in ['Water', 'Heat', 'Insurance', 'CAC', 'Hydro', 'Parking', 'Taxes']:\n",
    "            tmp = driver.find_element_by_id(f'listingCondoFeesTable{item}')\n",
    "            isCovered = 'bg-success' in tmp.get_attribute('class')\n",
    "\n",
    "            if item == 'Taxes':\n",
    "                s['IsTaxesIncluded'] = isCovered\n",
    "            elif isCovered:\n",
    "                expenses[item] = 0\n",
    "\n",
    "    s['UncoveredExpenses'] = expenses.sum()\n",
    "    s['URL'] = url\n",
    "    details.append(s)"
   ]
  },
  {
   "cell_type": "code",
   "execution_count": 39,
   "metadata": {},
   "outputs": [],
   "source": [
    "df = pd.DataFrame(details)"
   ]
  },
  {
   "cell_type": "code",
   "execution_count": 40,
   "metadata": {},
   "outputs": [],
   "source": [
    "s = df['Address'].str.extract(r'(.\\d+) - (\\d.+)', expand=True)\n",
    "s.columns = ['Unit', 'Address']\n",
    "\n",
    "df['Unit'] = s['Unit'].fillna('')\n",
    "df['Address'] = s['Address'].combine_first(df['Address'])"
   ]
  },
  {
   "cell_type": "code",
   "execution_count": 41,
   "metadata": {},
   "outputs": [],
   "source": [
    "df['PropertyType'] = df['PropertyType'].map({\n",
    "    'Condo Apartment': 'Condo',\n",
    "    'Townhouse (Condo)': 'Townhouse',\n",
    "    'Detached House': 'Detached'\n",
    "})"
   ]
  },
  {
   "cell_type": "code",
   "execution_count": 42,
   "metadata": {},
   "outputs": [],
   "source": [
    "cols = ['ListingDate', 'SoldDate']\n",
    "df[cols] = df[cols].apply(pd.to_datetime, axis=1)"
   ]
  },
  {
   "cell_type": "code",
   "execution_count": 43,
   "metadata": {},
   "outputs": [],
   "source": [
    "cols = ['ListPrice', 'Price', 'MaintenanceFee', 'PropertyTax', 'AvgHouseholdIncome', 'AvgHouseholdSize']\n",
    "df[cols] = df[cols].apply(lambda col: col.str.replace(r'[^0-9\\.]', '')).apply(pd.to_numeric)"
   ]
  },
  {
   "cell_type": "code",
   "execution_count": 44,
   "metadata": {},
   "outputs": [],
   "source": [
    "df['AvgPersonalIncome'] = df['AvgHouseholdIncome'] / df['AvgHouseholdSize']"
   ]
  },
  {
   "cell_type": "markdown",
   "metadata": {},
   "source": [
    "The reported tax on the listing tends to be lower than it really is. We take the *greater* of the reported property tax and Toronto's property tax rate of 0.51%."
   ]
  },
  {
   "cell_type": "code",
   "execution_count": 45,
   "metadata": {},
   "outputs": [],
   "source": [
    "df['PropertyTax'] = pd.DataFrame({\n",
    "    'ReportedTax': df['PropertyTax'],\n",
    "    'CalculatedTax': df['ListPrice'] * 0.0051 / 12\n",
    "}).max(axis=1)"
   ]
  },
  {
   "cell_type": "code",
   "execution_count": 46,
   "metadata": {},
   "outputs": [],
   "source": [
    "df['MonthlyExpenses'] = df['MaintenanceFee'].fillna(0) + df['UncoveredExpenses'].fillna(0)\n",
    "\n",
    "# If maintenance fee doesn't include property tax, add that in\n",
    "cond = df['IsTaxesIncluded'] == False\n",
    "df.loc[cond, 'MonthlyExpenses'] += df.loc[cond, 'PropertyTax']\n",
    "\n",
    "df['TrueMaintenanceFee'] = df['MonthlyExpenses'] - df['PropertyTax'] - standardExpenses.sum()"
   ]
  },
  {
   "cell_type": "code",
   "execution_count": 47,
   "metadata": {},
   "outputs": [],
   "source": [
    "df['Bedrooms'] = df['Bedrooms'].apply(eval)\n",
    "\n",
    "cols = ['Bathrooms', 'ParkingSpots']\n",
    "df[cols] = df[cols].apply(pd.to_numeric)"
   ]
  },
  {
   "cell_type": "code",
   "execution_count": 48,
   "metadata": {},
   "outputs": [],
   "source": [
    "s = pd.to_timedelta(df['DayOnMarket'], errors='coerce') / pd.Timedelta(days=1)\n",
    "t = df['DayOnMarket'].str.extract(r'(?P<Month>\\d+) months?, (?P<Day>\\d+) days?') \\\n",
    "        .astype('float') \\\n",
    "        .apply(lambda row: row['Month'] * 30 + row['Day'], axis=1)\n",
    "\n",
    "df['DayOnMarket'] = s.combine_first(t).fillna(-1).astype('int')"
   ]
  },
  {
   "cell_type": "code",
   "execution_count": 49,
   "metadata": {},
   "outputs": [
    {
     "data": {
      "text/html": [
       "<style  type=\"text/css\" >\n",
       "</style><table id=\"T_e0a6099c_01c7_11ea_8606_a82066123e3c\" ><thead>    <tr>        <th class=\"blank level0\" ></th>        <th class=\"col_heading level0 col0\" >PropertyType</th>        <th class=\"col_heading level0 col1\" >Unit</th>        <th class=\"col_heading level0 col2\" >Address</th>        <th class=\"col_heading level0 col3\" >Status</th>        <th class=\"col_heading level0 col4\" >SquareFootage</th>        <th class=\"col_heading level0 col5\" >ListPrice</th>        <th class=\"col_heading level0 col6\" >MonthlyExpenses</th>        <th class=\"col_heading level0 col7\" >TrueMaintenanceFee</th>        <th class=\"col_heading level0 col8\" >URL</th>        <th class=\"col_heading level0 col9\" >MLS</th>        <th class=\"col_heading level0 col10\" >DayOnMarket</th>    </tr></thead><tbody>\n",
       "                <tr>\n",
       "                        <th id=\"T_e0a6099c_01c7_11ea_8606_a82066123e3clevel0_row0\" class=\"row_heading level0 row0\" >0</th>\n",
       "                        <td id=\"T_e0a6099c_01c7_11ea_8606_a82066123e3crow0_col0\" class=\"data row0 col0\" >Condo</td>\n",
       "                        <td id=\"T_e0a6099c_01c7_11ea_8606_a82066123e3crow0_col1\" class=\"data row0 col1\" >#605</td>\n",
       "                        <td id=\"T_e0a6099c_01c7_11ea_8606_a82066123e3crow0_col2\" class=\"data row0 col2\" >100 Antibes Dr, North York</td>\n",
       "                        <td id=\"T_e0a6099c_01c7_11ea_8606_a82066123e3crow0_col3\" class=\"data row0 col3\" >Offer Pending</td>\n",
       "                        <td id=\"T_e0a6099c_01c7_11ea_8606_a82066123e3crow0_col4\" class=\"data row0 col4\" >1000-1199</td>\n",
       "                        <td id=\"T_e0a6099c_01c7_11ea_8606_a82066123e3crow0_col5\" class=\"data row0 col5\" >479,000</td>\n",
       "                        <td id=\"T_e0a6099c_01c7_11ea_8606_a82066123e3crow0_col6\" class=\"data row0 col6\" >927</td>\n",
       "                        <td id=\"T_e0a6099c_01c7_11ea_8606_a82066123e3crow0_col7\" class=\"data row0 col7\" >490</td>\n",
       "                        <td id=\"T_e0a6099c_01c7_11ea_8606_a82066123e3crow0_col8\" class=\"data row0 col8\" ><a target=\"_blank\" href=\"https://bungol.ca/listing/100-antibes-drive-north-york-C4590623-3958471\">Link</a></td>\n",
       "                        <td id=\"T_e0a6099c_01c7_11ea_8606_a82066123e3crow0_col9\" class=\"data row0 col9\" >C4590623</td>\n",
       "                        <td id=\"T_e0a6099c_01c7_11ea_8606_a82066123e3crow0_col10\" class=\"data row0 col10\" >46</td>\n",
       "            </tr>\n",
       "            <tr>\n",
       "                        <th id=\"T_e0a6099c_01c7_11ea_8606_a82066123e3clevel0_row1\" class=\"row_heading level0 row1\" >1</th>\n",
       "                        <td id=\"T_e0a6099c_01c7_11ea_8606_a82066123e3crow1_col0\" class=\"data row1 col0\" >Condo</td>\n",
       "                        <td id=\"T_e0a6099c_01c7_11ea_8606_a82066123e3crow1_col1\" class=\"data row1 col1\" >#1805</td>\n",
       "                        <td id=\"T_e0a6099c_01c7_11ea_8606_a82066123e3crow1_col2\" class=\"data row1 col2\" >80 Antibes Dr, North York</td>\n",
       "                        <td id=\"T_e0a6099c_01c7_11ea_8606_a82066123e3crow1_col3\" class=\"data row1 col3\" >For Sale</td>\n",
       "                        <td id=\"T_e0a6099c_01c7_11ea_8606_a82066123e3crow1_col4\" class=\"data row1 col4\" >1000-1199</td>\n",
       "                        <td id=\"T_e0a6099c_01c7_11ea_8606_a82066123e3crow1_col5\" class=\"data row1 col5\" >529,900</td>\n",
       "                        <td id=\"T_e0a6099c_01c7_11ea_8606_a82066123e3crow1_col6\" class=\"data row1 col6\" >984</td>\n",
       "                        <td id=\"T_e0a6099c_01c7_11ea_8606_a82066123e3crow1_col7\" class=\"data row1 col7\" >525</td>\n",
       "                        <td id=\"T_e0a6099c_01c7_11ea_8606_a82066123e3crow1_col8\" class=\"data row1 col8\" ><a target=\"_blank\" href=\"https://bungol.ca/listing/80-antibes-drive-north-york-C4597528-3964751\">Link</a></td>\n",
       "                        <td id=\"T_e0a6099c_01c7_11ea_8606_a82066123e3crow1_col9\" class=\"data row1 col9\" >C4597528</td>\n",
       "                        <td id=\"T_e0a6099c_01c7_11ea_8606_a82066123e3crow1_col10\" class=\"data row1 col10\" >37</td>\n",
       "            </tr>\n",
       "            <tr>\n",
       "                        <th id=\"T_e0a6099c_01c7_11ea_8606_a82066123e3clevel0_row2\" class=\"row_heading level0 row2\" >2</th>\n",
       "                        <td id=\"T_e0a6099c_01c7_11ea_8606_a82066123e3crow2_col0\" class=\"data row2 col0\" >Condo</td>\n",
       "                        <td id=\"T_e0a6099c_01c7_11ea_8606_a82066123e3crow2_col1\" class=\"data row2 col1\" >#409</td>\n",
       "                        <td id=\"T_e0a6099c_01c7_11ea_8606_a82066123e3crow2_col2\" class=\"data row2 col2\" >10 Torresdale Ave, North York</td>\n",
       "                        <td id=\"T_e0a6099c_01c7_11ea_8606_a82066123e3crow2_col3\" class=\"data row2 col3\" >For Sale</td>\n",
       "                        <td id=\"T_e0a6099c_01c7_11ea_8606_a82066123e3crow2_col4\" class=\"data row2 col4\" >1000-1199</td>\n",
       "                        <td id=\"T_e0a6099c_01c7_11ea_8606_a82066123e3crow2_col5\" class=\"data row2 col5\" >479,900</td>\n",
       "                        <td id=\"T_e0a6099c_01c7_11ea_8606_a82066123e3crow2_col6\" class=\"data row2 col6\" >1,000</td>\n",
       "                        <td id=\"T_e0a6099c_01c7_11ea_8606_a82066123e3crow2_col7\" class=\"data row2 col7\" >563</td>\n",
       "                        <td id=\"T_e0a6099c_01c7_11ea_8606_a82066123e3crow2_col8\" class=\"data row2 col8\" ><a target=\"_blank\" href=\"https://bungol.ca/listing/10-torresdale-avenue-north-york-C4611055-3976937\">Link</a></td>\n",
       "                        <td id=\"T_e0a6099c_01c7_11ea_8606_a82066123e3crow2_col9\" class=\"data row2 col9\" >C4611055</td>\n",
       "                        <td id=\"T_e0a6099c_01c7_11ea_8606_a82066123e3crow2_col10\" class=\"data row2 col10\" >21</td>\n",
       "            </tr>\n",
       "            <tr>\n",
       "                        <th id=\"T_e0a6099c_01c7_11ea_8606_a82066123e3clevel0_row3\" class=\"row_heading level0 row3\" >3</th>\n",
       "                        <td id=\"T_e0a6099c_01c7_11ea_8606_a82066123e3crow3_col0\" class=\"data row3 col0\" >Condo</td>\n",
       "                        <td id=\"T_e0a6099c_01c7_11ea_8606_a82066123e3crow3_col1\" class=\"data row3 col1\" >#304</td>\n",
       "                        <td id=\"T_e0a6099c_01c7_11ea_8606_a82066123e3crow3_col2\" class=\"data row3 col2\" >131 Torresdale Ave, North York</td>\n",
       "                        <td id=\"T_e0a6099c_01c7_11ea_8606_a82066123e3crow3_col3\" class=\"data row3 col3\" >Offer Pending</td>\n",
       "                        <td id=\"T_e0a6099c_01c7_11ea_8606_a82066123e3crow3_col4\" class=\"data row3 col4\" >1200-1399</td>\n",
       "                        <td id=\"T_e0a6099c_01c7_11ea_8606_a82066123e3crow3_col5\" class=\"data row3 col5\" >589,000</td>\n",
       "                        <td id=\"T_e0a6099c_01c7_11ea_8606_a82066123e3crow3_col6\" class=\"data row3 col6\" >1,066</td>\n",
       "                        <td id=\"T_e0a6099c_01c7_11ea_8606_a82066123e3crow3_col7\" class=\"data row3 col7\" >582</td>\n",
       "                        <td id=\"T_e0a6099c_01c7_11ea_8606_a82066123e3crow3_col8\" class=\"data row3 col8\" ><a target=\"_blank\" href=\"https://bungol.ca/listing/131-torresdale-avenue-north-york-C4608304-3974450\">Link</a></td>\n",
       "                        <td id=\"T_e0a6099c_01c7_11ea_8606_a82066123e3crow3_col9\" class=\"data row3 col9\" >C4608304</td>\n",
       "                        <td id=\"T_e0a6099c_01c7_11ea_8606_a82066123e3crow3_col10\" class=\"data row3 col10\" >23</td>\n",
       "            </tr>\n",
       "            <tr>\n",
       "                        <th id=\"T_e0a6099c_01c7_11ea_8606_a82066123e3clevel0_row4\" class=\"row_heading level0 row4\" >4</th>\n",
       "                        <td id=\"T_e0a6099c_01c7_11ea_8606_a82066123e3crow4_col0\" class=\"data row4 col0\" >Condo</td>\n",
       "                        <td id=\"T_e0a6099c_01c7_11ea_8606_a82066123e3crow4_col1\" class=\"data row4 col1\" >#1403</td>\n",
       "                        <td id=\"T_e0a6099c_01c7_11ea_8606_a82066123e3crow4_col2\" class=\"data row4 col2\" >80 Antibes Dr, North York</td>\n",
       "                        <td id=\"T_e0a6099c_01c7_11ea_8606_a82066123e3crow4_col3\" class=\"data row4 col3\" >For Sale</td>\n",
       "                        <td id=\"T_e0a6099c_01c7_11ea_8606_a82066123e3crow4_col4\" class=\"data row4 col4\" >1200-1399</td>\n",
       "                        <td id=\"T_e0a6099c_01c7_11ea_8606_a82066123e3crow4_col5\" class=\"data row4 col5\" >537,000</td>\n",
       "                        <td id=\"T_e0a6099c_01c7_11ea_8606_a82066123e3crow4_col6\" class=\"data row4 col6\" >1,067</td>\n",
       "                        <td id=\"T_e0a6099c_01c7_11ea_8606_a82066123e3crow4_col7\" class=\"data row4 col7\" >605</td>\n",
       "                        <td id=\"T_e0a6099c_01c7_11ea_8606_a82066123e3crow4_col8\" class=\"data row4 col8\" ><a target=\"_blank\" href=\"https://bungol.ca/listing/80-antibes-drive-north-york-C4613769-3979441\">Link</a></td>\n",
       "                        <td id=\"T_e0a6099c_01c7_11ea_8606_a82066123e3crow4_col9\" class=\"data row4 col9\" >C4613769</td>\n",
       "                        <td id=\"T_e0a6099c_01c7_11ea_8606_a82066123e3crow4_col10\" class=\"data row4 col10\" >17</td>\n",
       "            </tr>\n",
       "            <tr>\n",
       "                        <th id=\"T_e0a6099c_01c7_11ea_8606_a82066123e3clevel0_row5\" class=\"row_heading level0 row5\" >5</th>\n",
       "                        <td id=\"T_e0a6099c_01c7_11ea_8606_a82066123e3crow5_col0\" class=\"data row5 col0\" >Condo</td>\n",
       "                        <td id=\"T_e0a6099c_01c7_11ea_8606_a82066123e3crow5_col1\" class=\"data row5 col1\" >#804</td>\n",
       "                        <td id=\"T_e0a6099c_01c7_11ea_8606_a82066123e3crow5_col2\" class=\"data row5 col2\" >133 Torresdale Ave, North York</td>\n",
       "                        <td id=\"T_e0a6099c_01c7_11ea_8606_a82066123e3crow5_col3\" class=\"data row5 col3\" >For Sale</td>\n",
       "                        <td id=\"T_e0a6099c_01c7_11ea_8606_a82066123e3crow5_col4\" class=\"data row5 col4\" >1000-1199</td>\n",
       "                        <td id=\"T_e0a6099c_01c7_11ea_8606_a82066123e3crow5_col5\" class=\"data row5 col5\" >469,000</td>\n",
       "                        <td id=\"T_e0a6099c_01c7_11ea_8606_a82066123e3crow5_col6\" class=\"data row5 col6\" >1,091</td>\n",
       "                        <td id=\"T_e0a6099c_01c7_11ea_8606_a82066123e3crow5_col7\" class=\"data row5 col7\" >658</td>\n",
       "                        <td id=\"T_e0a6099c_01c7_11ea_8606_a82066123e3crow5_col8\" class=\"data row5 col8\" ><a target=\"_blank\" href=\"https://bungol.ca/listing/133-torresdale-avenue-north-york-C4616254-3981648\">Link</a></td>\n",
       "                        <td id=\"T_e0a6099c_01c7_11ea_8606_a82066123e3crow5_col9\" class=\"data row5 col9\" >C4616254</td>\n",
       "                        <td id=\"T_e0a6099c_01c7_11ea_8606_a82066123e3crow5_col10\" class=\"data row5 col10\" >15</td>\n",
       "            </tr>\n",
       "            <tr>\n",
       "                        <th id=\"T_e0a6099c_01c7_11ea_8606_a82066123e3clevel0_row6\" class=\"row_heading level0 row6\" >6</th>\n",
       "                        <td id=\"T_e0a6099c_01c7_11ea_8606_a82066123e3crow6_col0\" class=\"data row6 col0\" >Condo</td>\n",
       "                        <td id=\"T_e0a6099c_01c7_11ea_8606_a82066123e3crow6_col1\" class=\"data row6 col1\" >#1004</td>\n",
       "                        <td id=\"T_e0a6099c_01c7_11ea_8606_a82066123e3crow6_col2\" class=\"data row6 col2\" >135 Antibes Dr, North York</td>\n",
       "                        <td id=\"T_e0a6099c_01c7_11ea_8606_a82066123e3crow6_col3\" class=\"data row6 col3\" >For Sale</td>\n",
       "                        <td id=\"T_e0a6099c_01c7_11ea_8606_a82066123e3crow6_col4\" class=\"data row6 col4\" >1200-1399</td>\n",
       "                        <td id=\"T_e0a6099c_01c7_11ea_8606_a82066123e3crow6_col5\" class=\"data row6 col5\" >529,000</td>\n",
       "                        <td id=\"T_e0a6099c_01c7_11ea_8606_a82066123e3crow6_col6\" class=\"data row6 col6\" >1,098</td>\n",
       "                        <td id=\"T_e0a6099c_01c7_11ea_8606_a82066123e3crow6_col7\" class=\"data row6 col7\" >640</td>\n",
       "                        <td id=\"T_e0a6099c_01c7_11ea_8606_a82066123e3crow6_col8\" class=\"data row6 col8\" ><a target=\"_blank\" href=\"https://bungol.ca/listing/135-antibes-drive-north-york-C4625154-3989606\">Link</a></td>\n",
       "                        <td id=\"T_e0a6099c_01c7_11ea_8606_a82066123e3crow6_col9\" class=\"data row6 col9\" >C4625154</td>\n",
       "                        <td id=\"T_e0a6099c_01c7_11ea_8606_a82066123e3crow6_col10\" class=\"data row6 col10\" >4</td>\n",
       "            </tr>\n",
       "            <tr>\n",
       "                        <th id=\"T_e0a6099c_01c7_11ea_8606_a82066123e3clevel0_row7\" class=\"row_heading level0 row7\" >7</th>\n",
       "                        <td id=\"T_e0a6099c_01c7_11ea_8606_a82066123e3crow7_col0\" class=\"data row7 col0\" >Condo</td>\n",
       "                        <td id=\"T_e0a6099c_01c7_11ea_8606_a82066123e3crow7_col1\" class=\"data row7 col1\" >h01</td>\n",
       "                        <td id=\"T_e0a6099c_01c7_11ea_8606_a82066123e3crow7_col2\" class=\"data row7 col2\" >133 Torresdale Ave, North York</td>\n",
       "                        <td id=\"T_e0a6099c_01c7_11ea_8606_a82066123e3crow7_col3\" class=\"data row7 col3\" >Offer Pending</td>\n",
       "                        <td id=\"T_e0a6099c_01c7_11ea_8606_a82066123e3crow7_col4\" class=\"data row7 col4\" >1000-1199</td>\n",
       "                        <td id=\"T_e0a6099c_01c7_11ea_8606_a82066123e3crow7_col5\" class=\"data row7 col5\" >499,000</td>\n",
       "                        <td id=\"T_e0a6099c_01c7_11ea_8606_a82066123e3crow7_col6\" class=\"data row7 col6\" >1,103</td>\n",
       "                        <td id=\"T_e0a6099c_01c7_11ea_8606_a82066123e3crow7_col7\" class=\"data row7 col7\" >658</td>\n",
       "                        <td id=\"T_e0a6099c_01c7_11ea_8606_a82066123e3crow7_col8\" class=\"data row7 col8\" ><a target=\"_blank\" href=\"https://bungol.ca/listing/133-torresdale-avenue-north-york-C4592723-3960375\">Link</a></td>\n",
       "                        <td id=\"T_e0a6099c_01c7_11ea_8606_a82066123e3crow7_col9\" class=\"data row7 col9\" >C4592723</td>\n",
       "                        <td id=\"T_e0a6099c_01c7_11ea_8606_a82066123e3crow7_col10\" class=\"data row7 col10\" >39</td>\n",
       "            </tr>\n",
       "            <tr>\n",
       "                        <th id=\"T_e0a6099c_01c7_11ea_8606_a82066123e3clevel0_row8\" class=\"row_heading level0 row8\" >8</th>\n",
       "                        <td id=\"T_e0a6099c_01c7_11ea_8606_a82066123e3crow8_col0\" class=\"data row8 col0\" >Condo</td>\n",
       "                        <td id=\"T_e0a6099c_01c7_11ea_8606_a82066123e3crow8_col1\" class=\"data row8 col1\" >#303</td>\n",
       "                        <td id=\"T_e0a6099c_01c7_11ea_8606_a82066123e3crow8_col2\" class=\"data row8 col2\" >10 Torresdale Ave, North York</td>\n",
       "                        <td id=\"T_e0a6099c_01c7_11ea_8606_a82066123e3crow8_col3\" class=\"data row8 col3\" >For Sale</td>\n",
       "                        <td id=\"T_e0a6099c_01c7_11ea_8606_a82066123e3crow8_col4\" class=\"data row8 col4\" >1200-1399</td>\n",
       "                        <td id=\"T_e0a6099c_01c7_11ea_8606_a82066123e3crow8_col5\" class=\"data row8 col5\" >549,000</td>\n",
       "                        <td id=\"T_e0a6099c_01c7_11ea_8606_a82066123e3crow8_col6\" class=\"data row8 col6\" >1,164</td>\n",
       "                        <td id=\"T_e0a6099c_01c7_11ea_8606_a82066123e3crow8_col7\" class=\"data row8 col7\" >697</td>\n",
       "                        <td id=\"T_e0a6099c_01c7_11ea_8606_a82066123e3crow8_col8\" class=\"data row8 col8\" ><a target=\"_blank\" href=\"https://bungol.ca/listing/10-torresdale-avenue-north-york-C4613246-3978981\">Link</a></td>\n",
       "                        <td id=\"T_e0a6099c_01c7_11ea_8606_a82066123e3crow8_col9\" class=\"data row8 col9\" >C4613246</td>\n",
       "                        <td id=\"T_e0a6099c_01c7_11ea_8606_a82066123e3crow8_col10\" class=\"data row8 col10\" >18</td>\n",
       "            </tr>\n",
       "            <tr>\n",
       "                        <th id=\"T_e0a6099c_01c7_11ea_8606_a82066123e3clevel0_row9\" class=\"row_heading level0 row9\" >9</th>\n",
       "                        <td id=\"T_e0a6099c_01c7_11ea_8606_a82066123e3crow9_col0\" class=\"data row9 col0\" >Condo</td>\n",
       "                        <td id=\"T_e0a6099c_01c7_11ea_8606_a82066123e3crow9_col1\" class=\"data row9 col1\" >#1207</td>\n",
       "                        <td id=\"T_e0a6099c_01c7_11ea_8606_a82066123e3crow9_col2\" class=\"data row9 col2\" >133 Torresdale Ave, North York</td>\n",
       "                        <td id=\"T_e0a6099c_01c7_11ea_8606_a82066123e3crow9_col3\" class=\"data row9 col3\" >For Sale</td>\n",
       "                        <td id=\"T_e0a6099c_01c7_11ea_8606_a82066123e3crow9_col4\" class=\"data row9 col4\" >1200-1399</td>\n",
       "                        <td id=\"T_e0a6099c_01c7_11ea_8606_a82066123e3crow9_col5\" class=\"data row9 col5\" >589,000</td>\n",
       "                        <td id=\"T_e0a6099c_01c7_11ea_8606_a82066123e3crow9_col6\" class=\"data row9 col6\" >1,254</td>\n",
       "                        <td id=\"T_e0a6099c_01c7_11ea_8606_a82066123e3crow9_col7\" class=\"data row9 col7\" >770</td>\n",
       "                        <td id=\"T_e0a6099c_01c7_11ea_8606_a82066123e3crow9_col8\" class=\"data row9 col8\" ><a target=\"_blank\" href=\"https://bungol.ca/listing/133-torresdale-avenue-north-york-C4610631-3976575\">Link</a></td>\n",
       "                        <td id=\"T_e0a6099c_01c7_11ea_8606_a82066123e3crow9_col9\" class=\"data row9 col9\" >C4610631</td>\n",
       "                        <td id=\"T_e0a6099c_01c7_11ea_8606_a82066123e3crow9_col10\" class=\"data row9 col10\" >23</td>\n",
       "            </tr>\n",
       "            <tr>\n",
       "                        <th id=\"T_e0a6099c_01c7_11ea_8606_a82066123e3clevel0_row10\" class=\"row_heading level0 row10\" >10</th>\n",
       "                        <td id=\"T_e0a6099c_01c7_11ea_8606_a82066123e3crow10_col0\" class=\"data row10 col0\" >Condo</td>\n",
       "                        <td id=\"T_e0a6099c_01c7_11ea_8606_a82066123e3crow10_col1\" class=\"data row10 col1\" >#1502</td>\n",
       "                        <td id=\"T_e0a6099c_01c7_11ea_8606_a82066123e3crow10_col2\" class=\"data row10 col2\" >131 Torresdale Ave, North York</td>\n",
       "                        <td id=\"T_e0a6099c_01c7_11ea_8606_a82066123e3crow10_col3\" class=\"data row10 col3\" >For Sale</td>\n",
       "                        <td id=\"T_e0a6099c_01c7_11ea_8606_a82066123e3crow10_col4\" class=\"data row10 col4\" >1600-1799</td>\n",
       "                        <td id=\"T_e0a6099c_01c7_11ea_8606_a82066123e3crow10_col5\" class=\"data row10 col5\" >599,900</td>\n",
       "                        <td id=\"T_e0a6099c_01c7_11ea_8606_a82066123e3crow10_col6\" class=\"data row10 col6\" >1,298</td>\n",
       "                        <td id=\"T_e0a6099c_01c7_11ea_8606_a82066123e3crow10_col7\" class=\"data row10 col7\" >810</td>\n",
       "                        <td id=\"T_e0a6099c_01c7_11ea_8606_a82066123e3crow10_col8\" class=\"data row10 col8\" ><a target=\"_blank\" href=\"https://bungol.ca/listing/131-torresdale-avenue-north-york-C4621571-3986460\">Link</a></td>\n",
       "                        <td id=\"T_e0a6099c_01c7_11ea_8606_a82066123e3crow10_col9\" class=\"data row10 col9\" >C4621571</td>\n",
       "                        <td id=\"T_e0a6099c_01c7_11ea_8606_a82066123e3crow10_col10\" class=\"data row10 col10\" >9</td>\n",
       "            </tr>\n",
       "    </tbody></table>"
      ],
      "text/plain": [
       "<pandas.io.formats.style.Styler at 0x11af1a3c8>"
      ]
     },
     "execution_count": 49,
     "metadata": {},
     "output_type": "execute_result"
    }
   ],
   "source": [
    "def make_hyperlink(cell):\n",
    "    return f'<a target=\"_blank\" href=\"{cell}\">Link</a>'\n",
    "    \n",
    "result = df[['PropertyType', 'Unit', 'Address', 'Status', 'SquareFootage', 'ListPrice', 'MonthlyExpenses', 'TrueMaintenanceFee', 'URL', 'MLS', 'DayOnMarket']] \\\n",
    "            .sort_values('MonthlyExpenses').reset_index(drop=True) \\\n",
    "            .style.format({\n",
    "                'ListPrice': '{:,.0f}',\n",
    "                'PropertyTax': '{:,.2f}',\n",
    "                'MonthlyExpenses': '{:,.0f}',\n",
    "                'TrueMaintenanceFee': '{:,.0f}',\n",
    "                'AvgPersonalIncome': '{:,.0f}',\n",
    "                'URL': make_hyperlink\n",
    "            })\n",
    "result"
   ]
  },
  {
   "cell_type": "markdown",
   "metadata": {},
   "source": [
    "# Export"
   ]
  },
  {
   "cell_type": "code",
   "execution_count": 50,
   "metadata": {},
   "outputs": [],
   "source": [
    "# result.to_excel('./result.xlsx', index=False)"
   ]
  },
  {
   "cell_type": "code",
   "execution_count": null,
   "metadata": {},
   "outputs": [],
   "source": []
  }
 ],
 "metadata": {
  "kernelspec": {
   "display_name": "Python 3",
   "language": "python",
   "name": "python3"
  },
  "language_info": {
   "codemirror_mode": {
    "name": "ipython",
    "version": 3
   },
   "file_extension": ".py",
   "mimetype": "text/x-python",
   "name": "python",
   "nbconvert_exporter": "python",
   "pygments_lexer": "ipython3",
   "version": "3.7.3"
  }
 },
 "nbformat": 4,
 "nbformat_minor": 4
}
