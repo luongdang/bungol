{
 "cells": [
  {
   "cell_type": "code",
   "execution_count": 1,
   "metadata": {},
   "outputs": [],
   "source": [
    "import numpy as np\n",
    "import pandas as pd\n",
    "import os\n",
    "import glob"
   ]
  },
  {
   "cell_type": "code",
   "execution_count": 2,
   "metadata": {},
   "outputs": [],
   "source": [
    "subdir = '../expenses'\n",
    "globPattern = os.path.join(subdir, '*.csv')\n",
    "columnNames = ['Date', 'Payee', 'Debit', 'Credit', 'Balance']"
   ]
  },
  {
   "cell_type": "markdown",
   "metadata": {},
   "source": [
    "# Rename CSV files"
   ]
  },
  {
   "cell_type": "code",
   "execution_count": 3,
   "metadata": {},
   "outputs": [],
   "source": [
    "for file in glob.iglob(globPattern):   \n",
    "    df = pd.read_csv(file, names=columnNames, header=None)\n",
    "    month = pd.Timestamp(df['Date'].iloc[0])\n",
    "    newFile = os.path.join(subdir, f'accountactivity_{month:%Y-%m}.csv')\n",
    "    os.rename(file, newFile)"
   ]
  },
  {
   "cell_type": "markdown",
   "metadata": {},
   "source": [
    "# Process the data"
   ]
  },
  {
   "cell_type": "code",
   "execution_count": 4,
   "metadata": {},
   "outputs": [],
   "source": [
    "df = []\n",
    "\n",
    "csvFiles = glob.glob(globPattern)\n",
    "csvFiles.sort()\n",
    "for file in csvFiles:\n",
    "    df.append(pd.read_csv(file, names=columnNames, header=None))\n",
    "    \n",
    "df = pd.concat(df).reset_index(drop=True)\n",
    "df['Date'] = pd.to_datetime(df['Date'])\n",
    "df['Amount'] = -df['Debit'].combine_first(-df['Credit'])\n",
    "\n",
    "df = df[['Date', 'Payee', 'Amount']]"
   ]
  },
  {
   "cell_type": "code",
   "execution_count": 5,
   "metadata": {},
   "outputs": [],
   "source": [
    "def categorizer(row) -> str:\n",
    "    payee = row['Payee'].upper()\n",
    "    categories = {\n",
    "        'TOR HYD ELEC': 'Hydro',\n",
    "        'TOR UTILITY': 'Water',\n",
    "        'TORONTO TAX': 'Property Tax',\n",
    "        'WAWANESA INS': 'Insurance',\n",
    "        'ENBRIDGE': 'Heat'\n",
    "    }\n",
    "    for key, value in categories.items():\n",
    "        if payee.startswith(key):\n",
    "            return value\n",
    "    return None\n",
    "\n",
    "df['Category'] = df.apply(categorizer, axis=1)"
   ]
  },
  {
   "cell_type": "markdown",
   "metadata": {},
   "source": [
    "# Analysis"
   ]
  },
  {
   "cell_type": "code",
   "execution_count": 7,
   "metadata": {},
   "outputs": [
    {
     "data": {
      "text/html": [
       "<style  type=\"text/css\" >\n",
       "</style><table id=\"T_276651f8_d82d_11e9_86ff_a82066123e3c\" ><thead>    <tr>        <th class=\"blank level0\" ></th>        <th class=\"col_heading level0 col0\" >Yearly</th>        <th class=\"col_heading level0 col1\" >Monthly</th>    </tr>    <tr>        <th class=\"index_name level0\" >Category</th>        <th class=\"blank\" ></th>        <th class=\"blank\" ></th>    </tr></thead><tbody>\n",
       "                <tr>\n",
       "                        <th id=\"T_276651f8_d82d_11e9_86ff_a82066123e3clevel0_row0\" class=\"row_heading level0 row0\" >Heat</th>\n",
       "                        <td id=\"T_276651f8_d82d_11e9_86ff_a82066123e3crow0_col0\" class=\"data row0 col0\" >-1,127.03</td>\n",
       "                        <td id=\"T_276651f8_d82d_11e9_86ff_a82066123e3crow0_col1\" class=\"data row0 col1\" >-93.92</td>\n",
       "            </tr>\n",
       "            <tr>\n",
       "                        <th id=\"T_276651f8_d82d_11e9_86ff_a82066123e3clevel0_row1\" class=\"row_heading level0 row1\" >Hydro</th>\n",
       "                        <td id=\"T_276651f8_d82d_11e9_86ff_a82066123e3crow1_col0\" class=\"data row1 col0\" >-1,194.68</td>\n",
       "                        <td id=\"T_276651f8_d82d_11e9_86ff_a82066123e3crow1_col1\" class=\"data row1 col1\" >-99.56</td>\n",
       "            </tr>\n",
       "            <tr>\n",
       "                        <th id=\"T_276651f8_d82d_11e9_86ff_a82066123e3clevel0_row2\" class=\"row_heading level0 row2\" >Insurance</th>\n",
       "                        <td id=\"T_276651f8_d82d_11e9_86ff_a82066123e3crow2_col0\" class=\"data row2 col0\" >-860.22</td>\n",
       "                        <td id=\"T_276651f8_d82d_11e9_86ff_a82066123e3crow2_col1\" class=\"data row2 col1\" >-71.69</td>\n",
       "            </tr>\n",
       "            <tr>\n",
       "                        <th id=\"T_276651f8_d82d_11e9_86ff_a82066123e3clevel0_row3\" class=\"row_heading level0 row3\" >Property Tax</th>\n",
       "                        <td id=\"T_276651f8_d82d_11e9_86ff_a82066123e3crow3_col0\" class=\"data row3 col0\" >-3,423.48</td>\n",
       "                        <td id=\"T_276651f8_d82d_11e9_86ff_a82066123e3crow3_col1\" class=\"data row3 col1\" >-285.29</td>\n",
       "            </tr>\n",
       "            <tr>\n",
       "                        <th id=\"T_276651f8_d82d_11e9_86ff_a82066123e3clevel0_row4\" class=\"row_heading level0 row4\" >Water</th>\n",
       "                        <td id=\"T_276651f8_d82d_11e9_86ff_a82066123e3crow4_col0\" class=\"data row4 col0\" >-541.19</td>\n",
       "                        <td id=\"T_276651f8_d82d_11e9_86ff_a82066123e3crow4_col1\" class=\"data row4 col1\" >-45.10</td>\n",
       "            </tr>\n",
       "            <tr>\n",
       "                        <th id=\"T_276651f8_d82d_11e9_86ff_a82066123e3clevel0_row5\" class=\"row_heading level0 row5\" >Total</th>\n",
       "                        <td id=\"T_276651f8_d82d_11e9_86ff_a82066123e3crow5_col0\" class=\"data row5 col0\" >-7,146.60</td>\n",
       "                        <td id=\"T_276651f8_d82d_11e9_86ff_a82066123e3crow5_col1\" class=\"data row5 col1\" >-595.55</td>\n",
       "            </tr>\n",
       "    </tbody></table>"
      ],
      "text/plain": [
       "<pandas.io.formats.style.Styler at 0x11bda8310>"
      ]
     },
     "execution_count": 7,
     "metadata": {},
     "output_type": "execute_result"
    }
   ],
   "source": [
    "nmonths = 16\n",
    "start = pd.Timestamp.now() - pd.offsets.DateOffset(months=nmonths)\n",
    "# cond = (df['Date'] >= start) & (df['Category'] != '')\n",
    "group = df[cond].groupby('Category')\n",
    "\n",
    "summary = group.sum().assign(\n",
    "    Monthly = lambda x: x['Amount'] / nmonths,\n",
    "    Yearly = lambda x: x['Monthly'] * 12,\n",
    ")[['Yearly', 'Monthly']]\n",
    "\n",
    "total = summary.sum()\n",
    "total.name = 'Total'\n",
    "summary = summary.append(total)\n",
    "\n",
    "summary.style.format({\n",
    "    'Yearly': '{:,.2f}',\n",
    "    'Monthly': '{:,.2f}'\n",
    "})"
   ]
  },
  {
   "cell_type": "code",
   "execution_count": 56,
   "metadata": {},
   "outputs": [
    {
     "data": {
      "text/html": [
       "<style  type=\"text/css\" >\n",
       "</style><table id=\"T_d89f1844_d830_11e9_86ff_a82066123e3c\" ><thead>    <tr>        <th class=\"blank level0\" ></th>        <th class=\"col_heading level0 col0\" >2017</th>        <th class=\"col_heading level0 col1\" >2018</th>        <th class=\"col_heading level0 col2\" >2019</th>    </tr>    <tr>        <th class=\"index_name level0\" >Category</th>        <th class=\"blank\" ></th>        <th class=\"blank\" ></th>        <th class=\"blank\" ></th>    </tr></thead><tbody>\n",
       "                <tr>\n",
       "                        <th id=\"T_d89f1844_d830_11e9_86ff_a82066123e3clevel0_row0\" class=\"row_heading level0 row0\" >Heat</th>\n",
       "                        <td id=\"T_d89f1844_d830_11e9_86ff_a82066123e3crow0_col0\" class=\"data row0 col0\" >-18.08</td>\n",
       "                        <td id=\"T_d89f1844_d830_11e9_86ff_a82066123e3crow0_col1\" class=\"data row0 col1\" >-100.86</td>\n",
       "                        <td id=\"T_d89f1844_d830_11e9_86ff_a82066123e3crow0_col2\" class=\"data row0 col2\" >-129.66</td>\n",
       "            </tr>\n",
       "            <tr>\n",
       "                        <th id=\"T_d89f1844_d830_11e9_86ff_a82066123e3clevel0_row1\" class=\"row_heading level0 row1\" >Hydro</th>\n",
       "                        <td id=\"T_d89f1844_d830_11e9_86ff_a82066123e3crow1_col0\" class=\"data row1 col0\" >-14.88</td>\n",
       "                        <td id=\"T_d89f1844_d830_11e9_86ff_a82066123e3crow1_col1\" class=\"data row1 col1\" >-113.14</td>\n",
       "                        <td id=\"T_d89f1844_d830_11e9_86ff_a82066123e3crow1_col2\" class=\"data row1 col2\" >-93.41</td>\n",
       "            </tr>\n",
       "            <tr>\n",
       "                        <th id=\"T_d89f1844_d830_11e9_86ff_a82066123e3clevel0_row2\" class=\"row_heading level0 row2\" >Insurance</th>\n",
       "                        <td id=\"T_d89f1844_d830_11e9_86ff_a82066123e3crow2_col0\" class=\"data row2 col0\" >-88.83</td>\n",
       "                        <td id=\"T_d89f1844_d830_11e9_86ff_a82066123e3crow2_col1\" class=\"data row2 col1\" >-95.58</td>\n",
       "                        <td id=\"T_d89f1844_d830_11e9_86ff_a82066123e3crow2_col2\" class=\"data row2 col2\" >nan</td>\n",
       "            </tr>\n",
       "            <tr>\n",
       "                        <th id=\"T_d89f1844_d830_11e9_86ff_a82066123e3clevel0_row3\" class=\"row_heading level0 row3\" >Property Tax</th>\n",
       "                        <td id=\"T_d89f1844_d830_11e9_86ff_a82066123e3crow3_col0\" class=\"data row3 col0\" >nan</td>\n",
       "                        <td id=\"T_d89f1844_d830_11e9_86ff_a82066123e3crow3_col1\" class=\"data row3 col1\" >-244.67</td>\n",
       "                        <td id=\"T_d89f1844_d830_11e9_86ff_a82066123e3crow3_col2\" class=\"data row3 col2\" >-380.77</td>\n",
       "            </tr>\n",
       "            <tr>\n",
       "                        <th id=\"T_d89f1844_d830_11e9_86ff_a82066123e3clevel0_row4\" class=\"row_heading level0 row4\" >Water</th>\n",
       "                        <td id=\"T_d89f1844_d830_11e9_86ff_a82066123e3crow4_col0\" class=\"data row4 col0\" >-15.93</td>\n",
       "                        <td id=\"T_d89f1844_d830_11e9_86ff_a82066123e3crow4_col1\" class=\"data row4 col1\" >-45.44</td>\n",
       "                        <td id=\"T_d89f1844_d830_11e9_86ff_a82066123e3crow4_col2\" class=\"data row4 col2\" >-44.26</td>\n",
       "            </tr>\n",
       "    </tbody></table>"
      ],
      "text/plain": [
       "<pandas.io.formats.style.Styler at 0x11c137c10>"
      ]
     },
     "execution_count": 56,
     "metadata": {},
     "output_type": "execute_result"
    }
   ],
   "source": [
    "years = df['Date'].dt.year\n",
    "months = df['Date'].dt.month\n",
    "n = months.groupby(years).max().values\n",
    "\n",
    "# summary = df.groupby(['Category', years]).sum().unstack().apply(lambda row: row / n,axis=1)\n",
    "summary = df.groupby(['Category', years]).sum().unstack().div(n)\n",
    "summary = summary.droplevel(0, axis=1)\n",
    "summary.columns.name = None\n",
    "\n",
    "summary.style.format('{:,.2f}')"
   ]
  },
  {
   "cell_type": "code",
   "execution_count": 43,
   "metadata": {},
   "outputs": [],
   "source": [
    "months = df['Date'].dt.month\n",
    "n = months.groupby(years).max()"
   ]
  },
  {
   "cell_type": "code",
   "execution_count": 37,
   "metadata": {},
   "outputs": [
    {
     "data": {
      "text/plain": [
       "0     2017-11-01\n",
       "1     2017-11-01\n",
       "2     2017-11-01\n",
       "3     2017-11-01\n",
       "4     2017-11-01\n",
       "         ...    \n",
       "154   2019-08-01\n",
       "155   2019-08-01\n",
       "156   2019-08-01\n",
       "157   2019-08-01\n",
       "158   2019-08-01\n",
       "Name: Date, Length: 159, dtype: datetime64[ns]"
      ]
     },
     "execution_count": 37,
     "metadata": {},
     "output_type": "execute_result"
    }
   ],
   "source": [
    "months"
   ]
  },
  {
   "cell_type": "code",
   "execution_count": 7,
   "metadata": {},
   "outputs": [],
   "source": [
    "summary.to_excel('home_expenses.xlsx')"
   ]
  },
  {
   "cell_type": "markdown",
   "metadata": {},
   "source": [
    "# Playground"
   ]
  },
  {
   "cell_type": "code",
   "execution_count": 17,
   "metadata": {},
   "outputs": [],
   "source": [
    "df.to_excel('./~$expenses.xlsx', index=False)"
   ]
  },
  {
   "cell_type": "code",
   "execution_count": null,
   "metadata": {},
   "outputs": [],
   "source": []
  }
 ],
 "metadata": {
  "kernelspec": {
   "display_name": "Python 3",
   "language": "python",
   "name": "python3"
  },
  "language_info": {
   "codemirror_mode": {
    "name": "ipython",
    "version": 3
   },
   "file_extension": ".py",
   "mimetype": "text/x-python",
   "name": "python",
   "nbconvert_exporter": "python",
   "pygments_lexer": "ipython3",
   "version": "3.7.4"
  }
 },
 "nbformat": 4,
 "nbformat_minor": 4
}
